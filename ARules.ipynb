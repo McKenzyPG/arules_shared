{
 "cells": [
  {
   "cell_type": "markdown",
   "metadata": {},
   "source": [
    "# Введение в теорию или как связаны подгузники и пиво?"
   ]
  },
  {
   "cell_type": "markdown",
   "metadata": {},
   "source": [
    "   Обучение на ассоциативных правилах (далее Assocoations rules learning - ARL) представляет из себя с одной стороны, простой, с другой - довольно часто применимый в реальной жизни метод поиска взаимосвязей (ассоциаций) в датасетах или, если точнее, айтемсетах (itemsests). Именно ARL лежит в основе многих рекомендательных систем, работающих в интернет-магазинах. \n",
    "   Впервые подробно об этом заговорил Piatesky-Shapiro G [1] в работе “Discovery, Analysis, and Presentation of Strong Rules.” (1991) Более подробо тему развивали Agrawal R, Imielinski T, Swami A в работах “Mining Association Rules between Sets of Items in Large Databases” (1993) [2] и “Fast Algorithms for Mining Association Rules.” (1994) [3].\n",
    "\n",
    "    \n",
    "   \n"
   ]
  },
  {
   "cell_type": "markdown",
   "metadata": {},
   "source": [
    "   \n",
    "  В общем виде ARL можно опсиать как \"Who bought x also bought y\" (\"Кто купил x, также купил y\"). В основе лежит анализ транзакций (transactions), внутри каждой из которых лежит свой уникальный itemset из набора items. При помощи ARL алогритмов нахоядтся те самые \"правила\" совпаденяи items внутри одной транзакции, котоыре потом сортируются по их силе. \n",
    "\n",
    "   Да, вот все так просто и логично."
   ]
  },
  {
   "cell_type": "markdown",
   "metadata": {},
   "source": [
    "   За этой простотой, однако, могут скрываться поразительные вещи, о которых common sense даже не подозревал:) \n",
    "\n",
    "   Классический случай такого когнитивного диссонанса описан в статье D.J. Power \"Ask Dan!\", опубликованной в DSSResources.com [4]: \n",
    "\n",
    "   В 1992 году, группа по консалтингу в области ритейла компании Teradata под руководством Томаса Блишока провела исследование 1.2 миллиона транзакций в 25 магазинах для ритейлера Osco Drug (нет, там продавали не наркотики и даже не лекарства, точнее, не только лекартсва. Drug Store в стране веротяного противника - формат разнокалиберных магазинов у дома). \n",
    "   После анализа всех этих транзакций самым сильным правилом получилось \"Между 17:00 и 19:00 чаще всего пиво и подгузники покупают вместе\". \n",
    "   К сожалению такое правило показалось руководству Osco Drug настолкьо контринтуитивным, что ставить подгузники на полках рядом с пивом они не стали:) Хотя объяснение паре пиво-подгузники вполне себе нашлось: когда оба члена молодой семьи возвращались с рабоыт домой (как раз часам к 5 вечера), жены обычно отправляли мужей за подгузниками в ближайшей магазин. И мужья, не долго думая, совмещали приятное с полезным - покупали подгузники по заданию жены и пиво для собственного вечернего времяпрепровождения"
   ]
  },
  {
   "cell_type": "markdown",
   "metadata": {},
   "source": [
    "# Описание Association rule"
   ]
  },
  {
   "cell_type": "markdown",
   "metadata": {
    "collapsed": true
   },
   "source": [
    "Итак мы выяснили, что пиво и подгузники - хороший джентельменский набор, а что дальше? "
   ]
  },
  {
   "cell_type": "code",
   "execution_count": 5,
   "metadata": {
    "collapsed": true
   },
   "outputs": [],
   "source": [
    "from IPython.display import display, Math, Latex"
   ]
  },
  {
   "cell_type": "markdown",
   "metadata": {},
   "source": [
    "Пусть у нас имеется некий датасет (или коллекция) D, такой, что D = {d_0 ... d_j}, где d - уникальная транзакция-itemset (например, кассовый чек).\n",
    "Внутри каждой d представлен набор items (i - item), причем в идеально случае он представлен в бинарном виде: d1 = [{Пиво: 1}, {Вода: 0}, {Кола: 1}, {...}], d2 = [{Пиво : 0}, {Вода: 1}, {Кола : 1}, {...}]. Принято каждый itemset описывать через количество ненулевых значений (k-itemset), например, [{Пиво: 1}, {Вода: 0}, {Кола: 1}] являестя 2-itemset.\n",
    "\n",
    "Если в изначальном виде не представлен, можно при желании руками его преобразовать (OHE и pd.get_dummies вам в помощь).\n",
    "\n",
    "Таким образом, датасет представляет собой разреженную матрицу со значениями {1,0}. Это будет бинарный датасет. Существуют и другие виды записи - вертикальный датасет и транзакционный датасет"
   ]
  },
  {
   "cell_type": "markdown",
   "metadata": {},
   "source": [
    "ОК, данные преобразовали, как найти правила?\n",
    "\n",
    "Существует целый ряд ключевых (если хотите - базовых) понятий в ARL, которые нам помогут эти правила вывести."
   ]
  },
  {
   "cell_type": "markdown",
   "metadata": {},
   "source": [
    "##### Support (поддержка)"
   ]
  },
  {
   "cell_type": "markdown",
   "metadata": {},
   "source": [
    "Первое понятие  в ARL - support:\n"
   ]
  },
  {
   "cell_type": "markdown",
   "metadata": {},
   "source": [
    "$supp(X) = \\frac{\\{t\\in T;\\ X \\in t\\}}{|T|}$"
   ]
  },
  {
   "cell_type": "markdown",
   "metadata": {},
   "source": [
    ", где X - itemset, содержащий в себе i-items, а T - количество транзакций. Т.е. в общем виде это показатель \"частотности\" данного itemset во всех анализируемых транзакциях. Но это касается только X. Нам же интересен скорее вариант, когда у нас в одном itemset встречаются x1 и x2 (например).\n",
    "Ну тут тоже все просто. Пусть x1 = {Пиво}, а x2 = {Подгузники}, значит нам нужно посчитать, во скольких транзакициях втречаестя эта парочка. "
   ]
  },
  {
   "cell_type": "markdown",
   "metadata": {},
   "source": [
    "$supp(x_1\\cup x_2) = \\frac{\\sigma(x_1 \\cup x_2)}{|T|}$, где $\\sigma $ - количество транзакций, содержащих $x_1$ и $x_2$"
   ]
  },
  {
   "cell_type": "markdown",
   "metadata": {},
   "source": [
    "##### Confidence (уровень доверия)"
   ]
  },
  {
   "cell_type": "markdown",
   "metadata": {},
   "source": [
    "Следующее ключевое понятие - confidence. Это показатель того, как часто наше правило срабатывает для всего датасета. "
   ]
  },
  {
   "cell_type": "markdown",
   "metadata": {},
   "source": [
    "$conf(x_1\\cup x_2) = \\frac{supp(x_1 \\cup x_2)}{supp(x_1)}$"
   ]
  },
  {
   "cell_type": "markdown",
   "metadata": {},
   "source": [
    "Приведем пример: мы хотим посчитать confidence для правила \"кто покупает пиво, тот покупает и подгузники\".\n",
    "\n",
    "Для этого сначала посчитаем, какой support у правила \"покупает пиво\", потом посчитаем support у правила \"покупает пиво и подгузники\", и просто поделим одно на другое. Т.е. мы посчитаем в скольких случаях (транзакциях) срабатывает правило \"купил пиво $supp(X)$, купил подгузники и пиво $supp(X \\cup Y)$\"\n",
    "Ничего не напоминает? Байес смотрит на все это несколько недоуменно и с презрением:)"
   ]
  },
  {
   "cell_type": "markdown",
   "metadata": {},
   "source": [
    "<img src=\"img/thomas-bayes.png\">"
   ]
  },
  {
   "cell_type": "markdown",
   "metadata": {
    "collapsed": true
   },
   "source": [
    "##### Lift (подъем или повышение)"
   ]
  },
  {
   "cell_type": "markdown",
   "metadata": {},
   "source": [
    "Следующее понятие в нашем списке - lift. Грубо говоря, lift - это отношение \"зависимости\" items к их \"независимости\". Lift показывает, насколько items зависят друг от друга. Это очевидно из формулы:"
   ]
  },
  {
   "cell_type": "markdown",
   "metadata": {},
   "source": [
    "$lift(x_1\\cup x_2) = \\frac{supp(x_1 \\cup x_2)}{supp(x_1) \\times supp(x_2)}$"
   ]
  },
  {
   "cell_type": "markdown",
   "metadata": {},
   "source": [
    "Например, мы хотим понять зависимость покупки пива и покупки подгузников. Для этого считаем support правила \"купил пиво и подгузники\" и делим его на произведение правил \"купил пиво\" и \"купил подгузники\". В случае, если lift = 1, мы говорим, что items независимы и правил совместной покупки тут нет. Если же lift > 1, то велечина, на которую lift, собственно, больше этой самой единицы, и покажет нам \"силу\" правила. Чем больше единицы, тем круче."
   ]
  },
  {
   "cell_type": "markdown",
   "metadata": {},
   "source": [
    "##### Conviction (убедительность)"
   ]
  },
  {
   "cell_type": "markdown",
   "metadata": {},
   "source": [
    "В общем виде Conviction - это \"частотность ошибок\" нашего правила. Т.е., например, как часто покупали пиво без подгузников и наоборот."
   ]
  },
  {
   "cell_type": "markdown",
   "metadata": {},
   "source": [
    "$conv(x_1\\cup x_2) = \\frac{1 - supp(x_2)}{1 - conf(x_1 \\cup x_2)}$"
   ]
  },
  {
   "cell_type": "markdown",
   "metadata": {},
   "source": [
    "Чем результат по формуле выше ближе к 1, тем лучше. Например, если conviction покупки пива и подгузников вместе равен 1.2, это значит, что правило \"купил пиво и подгузники\" было бы в 1.2 раза (на 20%) более верным, чем если бы совпадение этих items в одной транзакции было бы чисто случайным. Немного неинтуитивное понятие, но оно и используестя н етак часто, как предыдущие три. "
   ]
  },
  {
   "cell_type": "markdown",
   "metadata": {},
   "source": [
    "###### <<<<<Отсутпление про брутфорс>>>>>>"
   ]
  },
  {
   "cell_type": "markdown",
   "metadata": {},
   "source": [
    "### Apriori Algorithm"
   ]
  },
  {
   "cell_type": "markdown",
   "metadata": {},
   "source": [
    "#### Теория"
   ]
  },
  {
   "cell_type": "code",
   "execution_count": null,
   "metadata": {
    "collapsed": true
   },
   "outputs": [],
   "source": []
  },
  {
   "cell_type": "markdown",
   "metadata": {},
   "source": [
    "#### Реализация в Python"
   ]
  },
  {
   "cell_type": "markdown",
   "metadata": {
    "collapsed": true
   },
   "source": [
    "from sklearn import... эммм... а импортировать-то и нечего:) На данный момент модулей для ALR в sklearn нет. Ну ничего, погуглим или напишем свои, правда?"
   ]
  },
  {
   "cell_type": "markdown",
   "metadata": {
    "collapsed": true
   },
   "source": [
    "По сети гуляет целый ряд реализаций, например вот - https://github.com/asaini/Aprioriб вот - http://adataanalyst.com/machine-learning/apriori-algorithm-python-3-0/б и даже вот -https://codereview.stackexchange.com/questions/38101/apriori-algorithm-using-pandas"
   ]
  },
  {
   "cell_type": "markdown",
   "metadata": {},
   "source": [
    "Мы же на практике придерживаемся алгоритма apyori, написанного Ю Мочиузки (Yu Mochizuki). Полный код приводить не будем, желающие могут посмотреть тут - https://github.com/ymoch/apyori , а вот архитектуру решения и пример использования покажем."
   ]
  },
  {
   "cell_type": "markdown",
   "metadata": {},
   "source": [
    "Условно решение Мочизуки можно разделить на 4 части: Структура данных, Внутренние функции, API и Прикладные функции."
   ]
  },
  {
   "cell_type": "markdown",
   "metadata": {},
   "source": [
    "Первая часть модуля (Структура данных) работает с изначальным датасетом. Реализуется класс TransactionManager, методы которого объединяют транзакции в матрицу, формируют список правил-кандидатов и считают support для каждого правила. Внутренние функции дополнительно по support'у формируют списки правил и соответственно их ранжируют. API логично позволяет работать напрямую с датасетами, а Прикладные функции позволяют обрабатывать транзакции и выводить результат в читаемый вид. Никакого rocketscience.  "
   ]
  },
  {
   "cell_type": "markdown",
   "metadata": {},
   "source": [
    "Посмотрим, как использовать модуль на реальном (ну, в данном случае - игрушечном) датасете."
   ]
  },
  {
   "cell_type": "code",
   "execution_count": 32,
   "metadata": {},
   "outputs": [],
   "source": [
    "# подгрузим модули\n",
    "import numpy as np\n",
    "import matplotlib.pyplot as plt\n",
    "import pandas as pd"
   ]
  },
  {
   "cell_type": "code",
   "execution_count": 33,
   "metadata": {},
   "outputs": [],
   "source": [
    "# загрузим данные\n",
    "dataset = pd.read_csv('Market_Basket_Optimisation.csv', header = None)"
   ]
  },
  {
   "cell_type": "code",
   "execution_count": 34,
   "metadata": {},
   "outputs": [],
   "source": [
    "#dataset.describe #всего 7500 записей-транзакций"
   ]
  },
  {
   "cell_type": "code",
   "execution_count": 35,
   "metadata": {},
   "outputs": [
    {
     "data": {
      "text/html": [
       "<div>\n",
       "<style scoped>\n",
       "    .dataframe tbody tr th:only-of-type {\n",
       "        vertical-align: middle;\n",
       "    }\n",
       "\n",
       "    .dataframe tbody tr th {\n",
       "        vertical-align: top;\n",
       "    }\n",
       "\n",
       "    .dataframe thead th {\n",
       "        text-align: right;\n",
       "    }\n",
       "</style>\n",
       "<table border=\"1\" class=\"dataframe\">\n",
       "  <thead>\n",
       "    <tr style=\"text-align: right;\">\n",
       "      <th></th>\n",
       "      <th>0</th>\n",
       "      <th>1</th>\n",
       "      <th>2</th>\n",
       "      <th>3</th>\n",
       "      <th>4</th>\n",
       "      <th>5</th>\n",
       "      <th>6</th>\n",
       "      <th>7</th>\n",
       "      <th>8</th>\n",
       "      <th>9</th>\n",
       "      <th>10</th>\n",
       "      <th>11</th>\n",
       "      <th>12</th>\n",
       "      <th>13</th>\n",
       "      <th>14</th>\n",
       "      <th>15</th>\n",
       "      <th>16</th>\n",
       "      <th>17</th>\n",
       "      <th>18</th>\n",
       "      <th>19</th>\n",
       "    </tr>\n",
       "  </thead>\n",
       "  <tbody>\n",
       "    <tr>\n",
       "      <th>0</th>\n",
       "      <td>shrimp</td>\n",
       "      <td>almonds</td>\n",
       "      <td>avocado</td>\n",
       "      <td>vegetables mix</td>\n",
       "      <td>green grapes</td>\n",
       "      <td>whole weat flour</td>\n",
       "      <td>yams</td>\n",
       "      <td>cottage cheese</td>\n",
       "      <td>energy drink</td>\n",
       "      <td>tomato juice</td>\n",
       "      <td>low fat yogurt</td>\n",
       "      <td>green tea</td>\n",
       "      <td>honey</td>\n",
       "      <td>salad</td>\n",
       "      <td>mineral water</td>\n",
       "      <td>salmon</td>\n",
       "      <td>antioxydant juice</td>\n",
       "      <td>frozen smoothie</td>\n",
       "      <td>spinach</td>\n",
       "      <td>olive oil</td>\n",
       "    </tr>\n",
       "    <tr>\n",
       "      <th>1</th>\n",
       "      <td>burgers</td>\n",
       "      <td>meatballs</td>\n",
       "      <td>eggs</td>\n",
       "      <td>NaN</td>\n",
       "      <td>NaN</td>\n",
       "      <td>NaN</td>\n",
       "      <td>NaN</td>\n",
       "      <td>NaN</td>\n",
       "      <td>NaN</td>\n",
       "      <td>NaN</td>\n",
       "      <td>NaN</td>\n",
       "      <td>NaN</td>\n",
       "      <td>NaN</td>\n",
       "      <td>NaN</td>\n",
       "      <td>NaN</td>\n",
       "      <td>NaN</td>\n",
       "      <td>NaN</td>\n",
       "      <td>NaN</td>\n",
       "      <td>NaN</td>\n",
       "      <td>NaN</td>\n",
       "    </tr>\n",
       "    <tr>\n",
       "      <th>2</th>\n",
       "      <td>chutney</td>\n",
       "      <td>NaN</td>\n",
       "      <td>NaN</td>\n",
       "      <td>NaN</td>\n",
       "      <td>NaN</td>\n",
       "      <td>NaN</td>\n",
       "      <td>NaN</td>\n",
       "      <td>NaN</td>\n",
       "      <td>NaN</td>\n",
       "      <td>NaN</td>\n",
       "      <td>NaN</td>\n",
       "      <td>NaN</td>\n",
       "      <td>NaN</td>\n",
       "      <td>NaN</td>\n",
       "      <td>NaN</td>\n",
       "      <td>NaN</td>\n",
       "      <td>NaN</td>\n",
       "      <td>NaN</td>\n",
       "      <td>NaN</td>\n",
       "      <td>NaN</td>\n",
       "    </tr>\n",
       "    <tr>\n",
       "      <th>3</th>\n",
       "      <td>turkey</td>\n",
       "      <td>avocado</td>\n",
       "      <td>NaN</td>\n",
       "      <td>NaN</td>\n",
       "      <td>NaN</td>\n",
       "      <td>NaN</td>\n",
       "      <td>NaN</td>\n",
       "      <td>NaN</td>\n",
       "      <td>NaN</td>\n",
       "      <td>NaN</td>\n",
       "      <td>NaN</td>\n",
       "      <td>NaN</td>\n",
       "      <td>NaN</td>\n",
       "      <td>NaN</td>\n",
       "      <td>NaN</td>\n",
       "      <td>NaN</td>\n",
       "      <td>NaN</td>\n",
       "      <td>NaN</td>\n",
       "      <td>NaN</td>\n",
       "      <td>NaN</td>\n",
       "    </tr>\n",
       "    <tr>\n",
       "      <th>4</th>\n",
       "      <td>mineral water</td>\n",
       "      <td>milk</td>\n",
       "      <td>energy bar</td>\n",
       "      <td>whole wheat rice</td>\n",
       "      <td>green tea</td>\n",
       "      <td>NaN</td>\n",
       "      <td>NaN</td>\n",
       "      <td>NaN</td>\n",
       "      <td>NaN</td>\n",
       "      <td>NaN</td>\n",
       "      <td>NaN</td>\n",
       "      <td>NaN</td>\n",
       "      <td>NaN</td>\n",
       "      <td>NaN</td>\n",
       "      <td>NaN</td>\n",
       "      <td>NaN</td>\n",
       "      <td>NaN</td>\n",
       "      <td>NaN</td>\n",
       "      <td>NaN</td>\n",
       "      <td>NaN</td>\n",
       "    </tr>\n",
       "  </tbody>\n",
       "</table>\n",
       "</div>"
      ],
      "text/plain": [
       "              0          1           2                 3             4   \\\n",
       "0         shrimp    almonds     avocado    vegetables mix  green grapes   \n",
       "1        burgers  meatballs        eggs               NaN           NaN   \n",
       "2        chutney        NaN         NaN               NaN           NaN   \n",
       "3         turkey    avocado         NaN               NaN           NaN   \n",
       "4  mineral water       milk  energy bar  whole wheat rice     green tea   \n",
       "\n",
       "                 5     6               7             8             9   \\\n",
       "0  whole weat flour  yams  cottage cheese  energy drink  tomato juice   \n",
       "1               NaN   NaN             NaN           NaN           NaN   \n",
       "2               NaN   NaN             NaN           NaN           NaN   \n",
       "3               NaN   NaN             NaN           NaN           NaN   \n",
       "4               NaN   NaN             NaN           NaN           NaN   \n",
       "\n",
       "               10         11     12     13             14      15  \\\n",
       "0  low fat yogurt  green tea  honey  salad  mineral water  salmon   \n",
       "1             NaN        NaN    NaN    NaN            NaN     NaN   \n",
       "2             NaN        NaN    NaN    NaN            NaN     NaN   \n",
       "3             NaN        NaN    NaN    NaN            NaN     NaN   \n",
       "4             NaN        NaN    NaN    NaN            NaN     NaN   \n",
       "\n",
       "                  16               17       18         19  \n",
       "0  antioxydant juice  frozen smoothie  spinach  olive oil  \n",
       "1                NaN              NaN      NaN        NaN  \n",
       "2                NaN              NaN      NaN        NaN  \n",
       "3                NaN              NaN      NaN        NaN  \n",
       "4                NaN              NaN      NaN        NaN  "
      ]
     },
     "execution_count": 35,
     "metadata": {},
     "output_type": "execute_result"
    }
   ],
   "source": [
    "# посомтрим на датасет\n",
    "dataset.head()"
   ]
  },
  {
   "cell_type": "markdown",
   "metadata": {},
   "source": [
    "Видим, что датасет у нас представляет разреженную матрицу, где в строках у нас набор items в каждой транзакции."
   ]
  },
  {
   "cell_type": "code",
   "execution_count": 36,
   "metadata": {},
   "outputs": [],
   "source": [
    "#создаим из них матрицу\n",
    "transactions = []\n",
    "for i in range(0, 7501): \n",
    "    transactions.append([str(dataset.values[i,j]) for j in range(0, 20)])"
   ]
  },
  {
   "cell_type": "code",
   "execution_count": 99,
   "metadata": {},
   "outputs": [],
   "source": [
    "#загружаем apriori\n",
    "import apyori"
   ]
  },
  {
   "cell_type": "code",
   "execution_count": 112,
   "metadata": {},
   "outputs": [],
   "source": [
    "# и обучимся правилам. Обратите внимание, что пороговые значения мы вибираем сами в зависимости от того, /\n",
    "# насколкьо \"сильные\" правила мы хотим получит\n",
    "# min_support -- минимальный support для правил (dtype = float).\n",
    "# min_confidence -- минимальное значение confidence для правил (dtype = float)\n",
    "# min_lift -- минимальный lift (dtype = float)\n",
    "# max_length -- максимальная длина itemset (вспоминаем про k-itemset)  (dtype = integer)\n",
    "\n",
    "result = list(apriori(transactions, min_support = 0.003, min_confidence = 0.2, min_lift = 3, min_length = 2))"
   ]
  },
  {
   "cell_type": "code",
   "execution_count": 117,
   "metadata": {},
   "outputs": [],
   "source": [
    "# вот с визуализацией в пакете проблемы, точнее геморрой...."
   ]
  },
  {
   "cell_type": "code",
   "execution_count": 101,
   "metadata": {},
   "outputs": [],
   "source": [
    "import shutil, os "
   ]
  },
  {
   "cell_type": "code",
   "execution_count": 102,
   "metadata": {},
   "outputs": [],
   "source": [
    "try:\n",
    "    from StringIO import StringIO\n",
    "except ImportError:\n",
    "    from io import StringIO"
   ]
  },
  {
   "cell_type": "code",
   "execution_count": 103,
   "metadata": {},
   "outputs": [],
   "source": [
    "import json #преобразовывать будем в json, используя встроенные в модуль методы"
   ]
  },
  {
   "cell_type": "code",
   "execution_count": 107,
   "metadata": {},
   "outputs": [],
   "source": [
    "output = []\n",
    "for RelationRecord in result:\n",
    "    o = StringIO()\n",
    "    apyori.dump_as_json(RelationRecord, o)\n",
    "    output.append(json.loads(o.getvalue()))\n",
    "data_df = pd.DataFrame(output)"
   ]
  },
  {
   "cell_type": "code",
   "execution_count": 118,
   "metadata": {},
   "outputs": [
    {
     "data": {
      "text/html": [
       "<table border=\"1\" class=\"dataframe\">\n",
       "  <thead>\n",
       "    <tr style=\"text-align: right;\">\n",
       "      <th></th>\n",
       "      <th>items</th>\n",
       "      <th>ordered_statistics</th>\n",
       "      <th>support</th>\n",
       "    </tr>\n",
       "  </thead>\n",
       "  <tbody>\n",
       "    <tr>\n",
       "      <th>0</th>\n",
       "      <td>[chicken, light cream]</td>\n",
       "      <td>[{'items_base': ['light cream'], 'items_add': ['chicken'], 'confidence': 0.29059829059829057, 'lift': 4.84395061728395}]</td>\n",
       "      <td>0.004533</td>\n",
       "    </tr>\n",
       "    <tr>\n",
       "      <th>1</th>\n",
       "      <td>[escalope, mushroom cream sauce]</td>\n",
       "      <td>[{'items_base': ['mushroom cream sauce'], 'items_add': ['escalope'], 'confidence': 0.3006993006993007, 'lift': 3.790832696715049}]</td>\n",
       "      <td>0.005733</td>\n",
       "    </tr>\n",
       "    <tr>\n",
       "      <th>2</th>\n",
       "      <td>[escalope, pasta]</td>\n",
       "      <td>[{'items_base': ['pasta'], 'items_add': ['escalope'], 'confidence': 0.3728813559322034, 'lift': 4.700811850163794}]</td>\n",
       "      <td>0.005866</td>\n",
       "    </tr>\n",
       "    <tr>\n",
       "      <th>3</th>\n",
       "      <td>[fromage blanc, honey]</td>\n",
       "      <td>[{'items_base': ['fromage blanc'], 'items_add': ['honey'], 'confidence': 0.2450980392156863, 'lift': 5.164270764485569}]</td>\n",
       "      <td>0.003333</td>\n",
       "    </tr>\n",
       "    <tr>\n",
       "      <th>4</th>\n",
       "      <td>[ground beef, herb &amp; pepper]</td>\n",
       "      <td>[{'items_base': ['herb &amp; pepper'], 'items_add': ['ground beef'], 'confidence': 0.3234501347708895, 'lift': 3.2919938411349285}]</td>\n",
       "      <td>0.015998</td>\n",
       "    </tr>\n",
       "    <tr>\n",
       "      <th>5</th>\n",
       "      <td>[ground beef, tomato sauce]</td>\n",
       "      <td>[{'items_base': ['tomato sauce'], 'items_add': ['ground beef'], 'confidence': 0.3773584905660377, 'lift': 3.840659481324083}]</td>\n",
       "      <td>0.005333</td>\n",
       "    </tr>\n",
       "    <tr>\n",
       "      <th>6</th>\n",
       "      <td>[light cream, olive oil]</td>\n",
       "      <td>[{'items_base': ['light cream'], 'items_add': ['olive oil'], 'confidence': 0.20512820512820515, 'lift': 3.1147098515519573}]</td>\n",
       "      <td>0.003200</td>\n",
       "    </tr>\n",
       "    <tr>\n",
       "      <th>7</th>\n",
       "      <td>[olive oil, whole wheat pasta]</td>\n",
       "      <td>[{'items_base': ['whole wheat pasta'], 'items_add': ['olive oil'], 'confidence': 0.2714932126696833, 'lift': 4.122410097642296}]</td>\n",
       "      <td>0.007999</td>\n",
       "    </tr>\n",
       "    <tr>\n",
       "      <th>8</th>\n",
       "      <td>[pasta, shrimp]</td>\n",
       "      <td>[{'items_base': ['pasta'], 'items_add': ['shrimp'], 'confidence': 0.3220338983050847, 'lift': 4.506672147735896}]</td>\n",
       "      <td>0.005066</td>\n",
       "    </tr>\n",
       "    <tr>\n",
       "      <th>9</th>\n",
       "      <td>[avocado, milk, spaghetti]</td>\n",
       "      <td>[{'items_base': ['avocado', 'spaghetti'], 'items_add': ['milk'], 'confidence': 0.41666666666666663, 'lift': 3.215449245541838}]</td>\n",
       "      <td>0.003333</td>\n",
       "    </tr>\n",
       "    <tr>\n",
       "      <th>10</th>\n",
       "      <td>[burgers, cake, milk]</td>\n",
       "      <td>[{'items_base': ['cake', 'milk'], 'items_add': ['burgers'], 'confidence': 0.27999999999999997, 'lift': 3.211437308868501}]</td>\n",
       "      <td>0.003733</td>\n",
       "    </tr>\n",
       "    <tr>\n",
       "      <th>11</th>\n",
       "      <td>[burgers, chocolate, turkey]</td>\n",
       "      <td>[{'items_base': ['chocolate', 'turkey'], 'items_add': ['burgers'], 'confidence': 0.27058823529411763, 'lift': 3.1034898363014927}]</td>\n",
       "      <td>0.003066</td>\n",
       "    </tr>\n",
       "    <tr>\n",
       "      <th>12</th>\n",
       "      <td>[burgers, milk, turkey]</td>\n",
       "      <td>[{'items_base': ['milk', 'turkey'], 'items_add': ['burgers'], 'confidence': 0.2823529411764706, 'lift': 3.2384241770102533}]</td>\n",
       "      <td>0.003200</td>\n",
       "    </tr>\n",
       "    <tr>\n",
       "      <th>13</th>\n",
       "      <td>[cake, frozen vegetables, tomatoes]</td>\n",
       "      <td>[{'items_base': ['cake', 'frozen vegetables'], 'items_add': ['tomatoes'], 'confidence': 0.2987012987012987, 'lift': 4.367560314928736}, {'items_base': ['cake', 'tomatoes'], 'items_add': ['frozen vegetables'], 'confidence': 0.36507936507936506, 'lift': 3.8300144300144296}]</td>\n",
       "      <td>0.003066</td>\n",
       "    </tr>\n",
       "    <tr>\n",
       "      <th>14</th>\n",
       "      <td>[cereals, ground beef, spaghetti]</td>\n",
       "      <td>[{'items_base': ['cereals', 'ground beef'], 'items_add': ['spaghetti'], 'confidence': 0.6764705882352942, 'lift': 3.8853031258445188}, {'items_base': ['cereals', 'spaghetti'], 'items_add': ['ground beef'], 'confidence': 0.45999999999999996, 'lift': 4.681763907734057}]</td>\n",
       "      <td>0.003066</td>\n",
       "    </tr>\n",
       "    <tr>\n",
       "      <th>15</th>\n",
       "      <td>[chicken, ground beef, milk]</td>\n",
       "      <td>[{'items_base': ['chicken', 'ground beef'], 'items_add': ['milk'], 'confidence': 0.40845070422535207, 'lift': 3.152046020981858}]</td>\n",
       "      <td>0.003866</td>\n",
       "    </tr>\n",
       "    <tr>\n",
       "      <th>16</th>\n",
       "      <td>[chicken, light cream, nan]</td>\n",
       "      <td>[{'items_base': ['light cream', 'nan'], 'items_add': ['chicken'], 'confidence': 0.29059829059829057, 'lift': 4.84395061728395}]</td>\n",
       "      <td>0.004533</td>\n",
       "    </tr>\n",
       "    <tr>\n",
       "      <th>17</th>\n",
       "      <td>[chicken, milk, olive oil]</td>\n",
       "      <td>[{'items_base': ['chicken', 'milk'], 'items_add': ['olive oil'], 'confidence': 0.24324324324324323, 'lift': 3.693456614509246}, {'items_base': ['chicken', 'olive oil'], 'items_add': ['milk'], 'confidence': 0.5, 'lift': 3.858539094650206}, {'items_base': ['milk', 'olive oil'], 'items_add': ['chicken'], 'confidence': 0.2109375, 'lift': 3.51609375}]</td>\n",
       "      <td>0.003600</td>\n",
       "    </tr>\n",
       "    <tr>\n",
       "      <th>18</th>\n",
       "      <td>[chicken, olive oil, spaghetti]</td>\n",
       "      <td>[{'items_base': ['chicken', 'spaghetti'], 'items_add': ['olive oil'], 'confidence': 0.20155038759689922, 'lift': 3.0603835169318647}]</td>\n",
       "      <td>0.003466</td>\n",
       "    </tr>\n",
       "    <tr>\n",
       "      <th>19</th>\n",
       "      <td>[chocolate, frozen vegetables, shrimp]</td>\n",
       "      <td>[{'items_base': ['chocolate', 'frozen vegetables'], 'items_add': ['shrimp'], 'confidence': 0.23255813953488375, 'lift': 3.2545123221103784}, {'items_base': ['chocolate', 'shrimp'], 'items_add': ['frozen vegetables'], 'confidence': 0.29629629629629634, 'lift': 3.1084175084175087}]</td>\n",
       "      <td>0.005333</td>\n",
       "    </tr>\n",
       "    <tr>\n",
       "      <th>20</th>\n",
       "      <td>[chocolate, ground beef, herb &amp; pepper]</td>\n",
       "      <td>[{'items_base': ['chocolate', 'herb &amp; pepper'], 'items_add': ['ground beef'], 'confidence': 0.4411764705882354, 'lift': 4.4901827759597746}]</td>\n",
       "      <td>0.003999</td>\n",
       "    </tr>\n",
       "    <tr>\n",
       "      <th>21</th>\n",
       "      <td>[chocolate, milk, soup]</td>\n",
       "      <td>[{'items_base': ['chocolate', 'soup'], 'items_add': ['milk'], 'confidence': 0.3947368421052632, 'lift': 3.0462150747238472}]</td>\n",
       "      <td>0.003999</td>\n",
       "    </tr>\n",
       "    <tr>\n",
       "      <th>22</th>\n",
       "      <td>[cooking oil, ground beef, spaghetti]</td>\n",
       "      <td>[{'items_base': ['cooking oil', 'ground beef'], 'items_add': ['spaghetti'], 'confidence': 0.5714285714285714, 'lift': 3.2819951870487856}, {'items_base': ['cooking oil', 'spaghetti'], 'items_add': ['ground beef'], 'confidence': 0.3025210084033613, 'lift': 3.0789824749438446}]</td>\n",
       "      <td>0.004799</td>\n",
       "    </tr>\n",
       "    <tr>\n",
       "      <th>23</th>\n",
       "      <td>[eggs, ground beef, herb &amp; pepper]</td>\n",
       "      <td>[{'items_base': ['eggs', 'ground beef'], 'items_add': ['herb &amp; pepper'], 'confidence': 0.2066666666666667, 'lift': 4.178454627133872}, {'items_base': ['eggs', 'herb &amp; pepper'], 'items_add': ['ground beef'], 'confidence': 0.3297872340425532, 'lift': 3.3564912381997174}]</td>\n",
       "      <td>0.004133</td>\n",
       "    </tr>\n",
       "    <tr>\n",
       "      <th>24</th>\n",
       "      <td>[eggs, red wine, spaghetti]</td>\n",
       "      <td>[{'items_base': ['eggs', 'red wine'], 'items_add': ['spaghetti'], 'confidence': 0.5283018867924528, 'lift': 3.0342974370828397}]</td>\n",
       "      <td>0.003733</td>\n",
       "    </tr>\n",
       "    <tr>\n",
       "      <th>25</th>\n",
       "      <td>[escalope, mushroom cream sauce, nan]</td>\n",
       "      <td>[{'items_base': ['mushroom cream sauce', 'nan'], 'items_add': ['escalope'], 'confidence': 0.3006993006993007, 'lift': 3.790832696715049}]</td>\n",
       "      <td>0.005733</td>\n",
       "    </tr>\n",
       "    <tr>\n",
       "      <th>26</th>\n",
       "      <td>[escalope, nan, pasta]</td>\n",
       "      <td>[{'items_base': ['nan', 'pasta'], 'items_add': ['escalope'], 'confidence': 0.3728813559322034, 'lift': 4.700811850163794}]</td>\n",
       "      <td>0.005866</td>\n",
       "    </tr>\n",
       "    <tr>\n",
       "      <th>27</th>\n",
       "      <td>[french fries, ground beef, herb &amp; pepper]</td>\n",
       "      <td>[{'items_base': ['french fries', 'ground beef'], 'items_add': ['herb &amp; pepper'], 'confidence': 0.23076923076923078, 'lift': 4.665768194070081}, {'items_base': ['french fries', 'herb &amp; pepper'], 'items_add': ['ground beef'], 'confidence': 0.46153846153846156, 'lift': 4.697421981004071}]</td>\n",
       "      <td>0.003200</td>\n",
       "    </tr>\n",
       "    <tr>\n",
       "      <th>28</th>\n",
       "      <td>[fromage blanc, honey, nan]</td>\n",
       "      <td>[{'items_base': ['fromage blanc', 'nan'], 'items_add': ['honey'], 'confidence': 0.2450980392156863, 'lift': 5.164270764485569}]</td>\n",
       "      <td>0.003333</td>\n",
       "    </tr>\n",
       "    <tr>\n",
       "      <th>29</th>\n",
       "      <td>[frozen vegetables, green tea, tomatoes]</td>\n",
       "      <td>[{'items_base': ['frozen vegetables', 'green tea'], 'items_add': ['tomatoes'], 'confidence': 0.2314814814814815, 'lift': 3.38468341635983}]</td>\n",
       "      <td>0.003333</td>\n",
       "    </tr>\n",
       "    <tr>\n",
       "      <th>30</th>\n",
       "      <td>[frozen vegetables, ground beef, spaghetti]</td>\n",
       "      <td>[{'items_base': ['frozen vegetables', 'spaghetti'], 'items_add': ['ground beef'], 'confidence': 0.31100478468899523, 'lift': 3.165328208890303}]</td>\n",
       "      <td>0.008666</td>\n",
       "    </tr>\n",
       "    <tr>\n",
       "      <th>31</th>\n",
       "      <td>[frozen vegetables, milk, olive oil]</td>\n",
       "      <td>[{'items_base': ['frozen vegetables', 'milk'], 'items_add': ['olive oil'], 'confidence': 0.20338983050847456, 'lift': 3.088314005352364}, {'items_base': ['frozen vegetables', 'olive oil'], 'items_add': ['milk'], 'confidence': 0.4235294117647058, 'lift': 3.2684095860566447}]</td>\n",
       "      <td>0.004799</td>\n",
       "    </tr>\n",
       "    <tr>\n",
       "      <th>32</th>\n",
       "      <td>[frozen vegetables, milk, soup]</td>\n",
       "      <td>[{'items_base': ['frozen vegetables', 'soup'], 'items_add': ['milk'], 'confidence': 0.5, 'lift': 3.858539094650206}]</td>\n",
       "      <td>0.003999</td>\n",
       "    </tr>\n",
       "    <tr>\n",
       "      <th>33</th>\n",
       "      <td>[frozen vegetables, milk, tomatoes]</td>\n",
       "      <td>[{'items_base': ['milk', 'tomatoes'], 'items_add': ['frozen vegetables'], 'confidence': 0.29523809523809524, 'lift': 3.0973160173160172}]</td>\n",
       "      <td>0.004133</td>\n",
       "    </tr>\n",
       "    <tr>\n",
       "      <th>34</th>\n",
       "      <td>[frozen vegetables, mineral water, shrimp]</td>\n",
       "      <td>[{'items_base': ['mineral water', 'shrimp'], 'items_add': ['frozen vegetables'], 'confidence': 0.30508474576271183, 'lift': 3.200616332819722}]</td>\n",
       "      <td>0.007199</td>\n",
       "    </tr>\n",
       "    <tr>\n",
       "      <th>35</th>\n",
       "      <td>[frozen vegetables, olive oil, spaghetti]</td>\n",
       "      <td>[{'items_base': ['frozen vegetables', 'spaghetti'], 'items_add': ['olive oil'], 'confidence': 0.20574162679425836, 'lift': 3.1240241752707125}]</td>\n",
       "      <td>0.005733</td>\n",
       "    </tr>\n",
       "    <tr>\n",
       "      <th>36</th>\n",
       "      <td>[frozen vegetables, shrimp, spaghetti]</td>\n",
       "      <td>[{'items_base': ['frozen vegetables', 'spaghetti'], 'items_add': ['shrimp'], 'confidence': 0.21531100478468898, 'lift': 3.0131489680782684}]</td>\n",
       "      <td>0.005999</td>\n",
       "    </tr>\n",
       "    <tr>\n",
       "      <th>37</th>\n",
       "      <td>[frozen vegetables, shrimp, tomatoes]</td>\n",
       "      <td>[{'items_base': ['frozen vegetables', 'shrimp'], 'items_add': ['tomatoes'], 'confidence': 0.24000000000000002, 'lift': 3.5092397660818717}, {'items_base': ['frozen vegetables', 'tomatoes'], 'items_add': ['shrimp'], 'confidence': 0.2479338842975207, 'lift': 3.4696866905143704}, {'items_base': ['shrimp', 'tomatoes'], 'items_add': ['frozen vegetables'], 'confidence': 0.35714285714285715, 'lift': 3.7467532467532467}]</td>\n",
       "      <td>0.003999</td>\n",
       "    </tr>\n",
       "    <tr>\n",
       "      <th>38</th>\n",
       "      <td>[frozen vegetables, spaghetti, tomatoes]</td>\n",
       "      <td>[{'items_base': ['frozen vegetables', 'spaghetti'], 'items_add': ['tomatoes'], 'confidence': 0.23923444976076558, 'lift': 3.4980460188216425}, {'items_base': ['spaghetti', 'tomatoes'], 'items_add': ['frozen vegetables'], 'confidence': 0.3184713375796179, 'lift': 3.341053850607991}]</td>\n",
       "      <td>0.006666</td>\n",
       "    </tr>\n",
       "    <tr>\n",
       "      <th>39</th>\n",
       "      <td>[grated cheese, ground beef, spaghetti]</td>\n",
       "      <td>[{'items_base': ['grated cheese', 'spaghetti'], 'items_add': ['ground beef'], 'confidence': 0.3225806451612903, 'lift': 3.283144395325426}]</td>\n",
       "      <td>0.005333</td>\n",
       "    </tr>\n",
       "    <tr>\n",
       "      <th>40</th>\n",
       "      <td>[green tea, ground beef, tomatoes]</td>\n",
       "      <td>[{'items_base': ['green tea', 'ground beef'], 'items_add': ['tomatoes'], 'confidence': 0.2072072072072072, 'lift': 3.0297490472929067}]</td>\n",
       "      <td>0.003066</td>\n",
       "    </tr>\n",
       "    <tr>\n",
       "      <th>41</th>\n",
       "      <td>[ground beef, herb &amp; pepper, milk]</td>\n",
       "      <td>[{'items_base': ['herb &amp; pepper', 'milk'], 'items_add': ['ground beef'], 'confidence': 0.3913043478260869, 'lift': 3.9825968969382335}]</td>\n",
       "      <td>0.003600</td>\n",
       "    </tr>\n",
       "    <tr>\n",
       "      <th>42</th>\n",
       "      <td>[ground beef, herb &amp; pepper, mineral water]</td>\n",
       "      <td>[{'items_base': ['herb &amp; pepper', 'mineral water'], 'items_add': ['ground beef'], 'confidence': 0.39062500000000006, 'lift': 3.975682666214383}]</td>\n",
       "      <td>0.006666</td>\n",
       "    </tr>\n",
       "    <tr>\n",
       "      <th>43</th>\n",
       "      <td>[ground beef, herb &amp; pepper, nan]</td>\n",
       "      <td>[{'items_base': ['herb &amp; pepper', 'nan'], 'items_add': ['ground beef'], 'confidence': 0.3234501347708895, 'lift': 3.2919938411349285}]</td>\n",
       "      <td>0.015998</td>\n",
       "    </tr>\n",
       "    <tr>\n",
       "      <th>44</th>\n",
       "      <td>[ground beef, herb &amp; pepper, spaghetti]</td>\n",
       "      <td>[{'items_base': ['herb &amp; pepper', 'spaghetti'], 'items_add': ['ground beef'], 'confidence': 0.3934426229508197, 'lift': 4.004359721511667}]</td>\n",
       "      <td>0.006399</td>\n",
       "    </tr>\n",
       "    <tr>\n",
       "      <th>45</th>\n",
       "      <td>[ground beef, milk, olive oil]</td>\n",
       "      <td>[{'items_base': ['ground beef', 'milk'], 'items_add': ['olive oil'], 'confidence': 0.22424242424242427, 'lift': 3.40494417862839}]</td>\n",
       "      <td>0.004933</td>\n",
       "    </tr>\n",
       "    <tr>\n",
       "      <th>46</th>\n",
       "      <td>[ground beef, milk, soup]</td>\n",
       "      <td>[{'items_base': ['ground beef', 'soup'], 'items_add': ['milk'], 'confidence': 0.4109589041095891, 'lift': 3.1714019956029094}]</td>\n",
       "      <td>0.003999</td>\n",
       "    </tr>\n",
       "    <tr>\n",
       "      <th>47</th>\n",
       "      <td>[ground beef, nan, tomato sauce]</td>\n",
       "      <td>[{'items_base': ['nan', 'tomato sauce'], 'items_add': ['ground beef'], 'confidence': 0.3773584905660377, 'lift': 3.840659481324083}]</td>\n",
       "      <td>0.005333</td>\n",
       "    </tr>\n",
       "    <tr>\n",
       "      <th>48</th>\n",
       "      <td>[ground beef, pepper, spaghetti]</td>\n",
       "      <td>[{'items_base': ['pepper', 'spaghetti'], 'items_add': ['ground beef'], 'confidence': 0.33783783783783783, 'lift': 3.4384282518610876}]</td>\n",
       "      <td>0.003333</td>\n",
       "    </tr>\n",
       "    <tr>\n",
       "      <th>49</th>\n",
       "      <td>[ground beef, shrimp, spaghetti]</td>\n",
       "      <td>[{'items_base': ['ground beef', 'shrimp'], 'items_add': ['spaghetti'], 'confidence': 0.5232558139534884, 'lift': 3.005315360233627}]</td>\n",
       "      <td>0.005999</td>\n",
       "    </tr>\n",
       "    <tr>\n",
       "      <th>50</th>\n",
       "      <td>[ground beef, spaghetti, tomato sauce]</td>\n",
       "      <td>[{'items_base': ['ground beef', 'tomato sauce'], 'items_add': ['spaghetti'], 'confidence': 0.5750000000000001, 'lift': 3.3025076569678413}, {'items_base': ['spaghetti', 'tomato sauce'], 'items_add': ['ground beef'], 'confidence': 0.4893617021276596, 'lift': 4.980599901844742}]</td>\n",
       "      <td>0.003066</td>\n",
       "    </tr>\n",
       "    <tr>\n",
       "      <th>51</th>\n",
       "      <td>[light cream, nan, olive oil]</td>\n",
       "      <td>[{'items_base': ['light cream', 'nan'], 'items_add': ['olive oil'], 'confidence': 0.20512820512820515, 'lift': 3.1147098515519573}]</td>\n",
       "      <td>0.003200</td>\n",
       "    </tr>\n",
       "    <tr>\n",
       "      <th>52</th>\n",
       "      <td>[milk, olive oil, shrimp]</td>\n",
       "      <td>[{'items_base': ['olive oil', 'shrimp'], 'items_add': ['milk'], 'confidence': 0.3934426229508197, 'lift': 3.0362274843149164}]</td>\n",
       "      <td>0.003200</td>\n",
       "    </tr>\n",
       "    <tr>\n",
       "      <th>53</th>\n",
       "      <td>[milk, olive oil, soup]</td>\n",
       "      <td>[{'items_base': ['milk', 'olive oil'], 'items_add': ['soup'], 'confidence': 0.2109375, 'lift': 4.174781497361478}, {'items_base': ['milk', 'soup'], 'items_add': ['olive oil'], 'confidence': 0.23684210526315788, 'lift': 3.5962603878116344}, {'items_base': ['olive oil', 'soup'], 'items_add': ['milk'], 'confidence': 0.4029850746268656, 'lift': 3.1098673300165833}]</td>\n",
       "      <td>0.003600</td>\n",
       "    </tr>\n",
       "    <tr>\n",
       "      <th>54</th>\n",
       "      <td>[milk, olive oil, spaghetti]</td>\n",
       "      <td>[{'items_base': ['milk', 'spaghetti'], 'items_add': ['olive oil'], 'confidence': 0.20300751879699247, 'lift': 3.0825089038385434}]</td>\n",
       "      <td>0.007199</td>\n",
       "    </tr>\n",
       "    <tr>\n",
       "      <th>55</th>\n",
       "      <td>[milk, soup, tomatoes]</td>\n",
       "      <td>[{'items_base': ['milk', 'tomatoes'], 'items_add': ['soup'], 'confidence': 0.21904761904761905, 'lift': 4.335293378565146}, {'items_base': ['soup', 'tomatoes'], 'items_add': ['milk'], 'confidence': 0.44230769230769235, 'lift': 3.4133230452674903}]</td>\n",
       "      <td>0.003066</td>\n",
       "    </tr>\n",
       "    <tr>\n",
       "      <th>56</th>\n",
       "      <td>[milk, spaghetti, whole wheat pasta]</td>\n",
       "      <td>[{'items_base': ['spaghetti', 'whole wheat pasta'], 'items_add': ['milk'], 'confidence': 0.4545454545454546, 'lift': 3.5077628133183696}]</td>\n",
       "      <td>0.003999</td>\n",
       "    </tr>\n",
       "    <tr>\n",
       "      <th>57</th>\n",
       "      <td>[mineral water, olive oil, soup]</td>\n",
       "      <td>[{'items_base': ['mineral water', 'soup'], 'items_add': ['olive oil'], 'confidence': 0.22543352601156072, 'lift': 3.4230301186492245}]</td>\n",
       "      <td>0.005199</td>\n",
       "    </tr>\n",
       "    <tr>\n",
       "      <th>58</th>\n",
       "      <td>[mineral water, olive oil, whole wheat pasta]</td>\n",
       "      <td>[{'items_base': ['mineral water', 'whole wheat pasta'], 'items_add': ['olive oil'], 'confidence': 0.4027777777777778, 'lift': 6.115862573099416}]</td>\n",
       "      <td>0.003866</td>\n",
       "    </tr>\n",
       "    <tr>\n",
       "      <th>59</th>\n",
       "      <td>[nan, olive oil, whole wheat pasta]</td>\n",
       "      <td>[{'items_base': ['nan', 'whole wheat pasta'], 'items_add': ['olive oil'], 'confidence': 0.2714932126696833, 'lift': 4.122410097642296}]</td>\n",
       "      <td>0.007999</td>\n",
       "    </tr>\n",
       "    <tr>\n",
       "      <th>60</th>\n",
       "      <td>[nan, pasta, shrimp]</td>\n",
       "      <td>[{'items_base': ['nan', 'pasta'], 'items_add': ['shrimp'], 'confidence': 0.3220338983050847, 'lift': 4.506672147735896}]</td>\n",
       "      <td>0.005066</td>\n",
       "    </tr>\n",
       "    <tr>\n",
       "      <th>61</th>\n",
       "      <td>[olive oil, pancakes, spaghetti]</td>\n",
       "      <td>[{'items_base': ['pancakes', 'spaghetti'], 'items_add': ['olive oil'], 'confidence': 0.20105820105820105, 'lift': 3.0529100529100526}]</td>\n",
       "      <td>0.005066</td>\n",
       "    </tr>\n",
       "    <tr>\n",
       "      <th>62</th>\n",
       "      <td>[olive oil, spaghetti, tomatoes]</td>\n",
       "      <td>[{'items_base': ['olive oil', 'tomatoes'], 'items_add': ['spaghetti'], 'confidence': 0.6111111111111112, 'lift': 3.5099115194827295}, {'items_base': ['spaghetti', 'tomatoes'], 'items_add': ['olive oil'], 'confidence': 0.21019108280254778, 'lift': 3.19158565202816}]</td>\n",
       "      <td>0.004399</td>\n",
       "    </tr>\n",
       "    <tr>\n",
       "      <th>63</th>\n",
       "      <td>[spaghetti, tomatoes, whole wheat rice]</td>\n",
       "      <td>[{'items_base': ['spaghetti', 'whole wheat rice'], 'items_add': ['tomatoes'], 'confidence': 0.2169811320754717, 'lift': 3.1726617382029496}]</td>\n",
       "      <td>0.003066</td>\n",
       "    </tr>\n",
       "    <tr>\n",
       "      <th>64</th>\n",
       "      <td>[avocado, milk, nan, spaghetti]</td>\n",
       "      <td>[{'items_base': ['avocado', 'nan', 'spaghetti'], 'items_add': ['milk'], 'confidence': 0.41666666666666663, 'lift': 3.215449245541838}]</td>\n",
       "      <td>0.003333</td>\n",
       "    </tr>\n",
       "    <tr>\n",
       "      <th>65</th>\n",
       "      <td>[burgers, cake, milk, nan]</td>\n",
       "      <td>[{'items_base': ['cake', 'milk', 'nan'], 'items_add': ['burgers'], 'confidence': 0.27999999999999997, 'lift': 3.211437308868501}]</td>\n",
       "      <td>0.003733</td>\n",
       "    </tr>\n",
       "    <tr>\n",
       "      <th>66</th>\n",
       "      <td>[burgers, chocolate, nan, turkey]</td>\n",
       "      <td>[{'items_base': ['chocolate', 'nan', 'turkey'], 'items_add': ['burgers'], 'confidence': 0.27058823529411763, 'lift': 3.1034898363014927}]</td>\n",
       "      <td>0.003066</td>\n",
       "    </tr>\n",
       "    <tr>\n",
       "      <th>67</th>\n",
       "      <td>[burgers, milk, nan, turkey]</td>\n",
       "      <td>[{'items_base': ['milk', 'nan', 'turkey'], 'items_add': ['burgers'], 'confidence': 0.2823529411764706, 'lift': 3.2384241770102533}]</td>\n",
       "      <td>0.003200</td>\n",
       "    </tr>\n",
       "    <tr>\n",
       "      <th>68</th>\n",
       "      <td>[cake, frozen vegetables, nan, tomatoes]</td>\n",
       "      <td>[{'items_base': ['cake', 'frozen vegetables', 'nan'], 'items_add': ['tomatoes'], 'confidence': 0.2987012987012987, 'lift': 4.367560314928736}, {'items_base': ['cake', 'nan', 'tomatoes'], 'items_add': ['frozen vegetables'], 'confidence': 0.36507936507936506, 'lift': 3.8300144300144296}]</td>\n",
       "      <td>0.003066</td>\n",
       "    </tr>\n",
       "    <tr>\n",
       "      <th>69</th>\n",
       "      <td>[cereals, ground beef, nan, spaghetti]</td>\n",
       "      <td>[{'items_base': ['cereals', 'ground beef', 'nan'], 'items_add': ['spaghetti'], 'confidence': 0.6764705882352942, 'lift': 3.8853031258445188}, {'items_base': ['cereals', 'nan', 'spaghetti'], 'items_add': ['ground beef'], 'confidence': 0.45999999999999996, 'lift': 4.681763907734057}]</td>\n",
       "      <td>0.003066</td>\n",
       "    </tr>\n",
       "    <tr>\n",
       "      <th>70</th>\n",
       "      <td>[chicken, ground beef, milk, nan]</td>\n",
       "      <td>[{'items_base': ['chicken', 'ground beef', 'nan'], 'items_add': ['milk'], 'confidence': 0.40845070422535207, 'lift': 3.152046020981858}]</td>\n",
       "      <td>0.003866</td>\n",
       "    </tr>\n",
       "    <tr>\n",
       "      <th>71</th>\n",
       "      <td>[chicken, milk, nan, olive oil]</td>\n",
       "      <td>[{'items_base': ['chicken', 'milk', 'nan'], 'items_add': ['olive oil'], 'confidence': 0.24324324324324323, 'lift': 3.693456614509246}, {'items_base': ['chicken', 'nan', 'olive oil'], 'items_add': ['milk'], 'confidence': 0.5, 'lift': 3.858539094650206}, {'items_base': ['milk', 'nan', 'olive oil'], 'items_add': ['chicken'], 'confidence': 0.2109375, 'lift': 3.51609375}]</td>\n",
       "      <td>0.003600</td>\n",
       "    </tr>\n",
       "    <tr>\n",
       "      <th>72</th>\n",
       "      <td>[chicken, nan, olive oil, spaghetti]</td>\n",
       "      <td>[{'items_base': ['chicken', 'nan', 'spaghetti'], 'items_add': ['olive oil'], 'confidence': 0.20155038759689922, 'lift': 3.0603835169318647}]</td>\n",
       "      <td>0.003466</td>\n",
       "    </tr>\n",
       "    <tr>\n",
       "      <th>73</th>\n",
       "      <td>[chocolate, eggs, ground beef, mineral water]</td>\n",
       "      <td>[{'items_base': ['chocolate', 'eggs', 'mineral water'], 'items_add': ['ground beef'], 'confidence': 0.29702970297029707, 'lift': 3.023093354111531}]</td>\n",
       "      <td>0.003999</td>\n",
       "    </tr>\n",
       "    <tr>\n",
       "      <th>74</th>\n",
       "      <td>[chocolate, frozen vegetables, ground beef, mineral water]</td>\n",
       "      <td>[{'items_base': ['chocolate', 'frozen vegetables', 'mineral water'], 'items_add': ['ground beef'], 'confidence': 0.34246575342465757, 'lift': 3.4855300087358976}, {'items_base': ['chocolate', 'ground beef', 'mineral water'], 'items_add': ['frozen vegetables'], 'confidence': 0.30487804878048785, 'lift': 3.1984478935698455}]</td>\n",
       "      <td>0.003333</td>\n",
       "    </tr>\n",
       "    <tr>\n",
       "      <th>75</th>\n",
       "      <td>[chocolate, frozen vegetables, ground beef, spaghetti]</td>\n",
       "      <td>[{'items_base': ['chocolate', 'frozen vegetables', 'ground beef'], 'items_add': ['spaghetti'], 'confidence': 0.5348837209302326, 'lift': 3.0721001460165964}, {'items_base': ['chocolate', 'frozen vegetables', 'spaghetti'], 'items_add': ['ground beef'], 'confidence': 0.3898305084745763, 'lift': 3.967596531978015}, {'items_base': ['chocolate', 'ground beef', 'spaghetti'], 'items_add': ['frozen vegetables'], 'confidence': 0.33333333333333337, 'lift': 3.4969696969696975}]</td>\n",
       "      <td>0.003066</td>\n",
       "    </tr>\n",
       "    <tr>\n",
       "      <th>76</th>\n",
       "      <td>[chocolate, frozen vegetables, milk, mineral water]</td>\n",
       "      <td>[{'items_base': ['chocolate', 'frozen vegetables', 'mineral water'], 'items_add': ['milk'], 'confidence': 0.4109589041095891, 'lift': 3.1714019956029094}]</td>\n",
       "      <td>0.003999</td>\n",
       "    </tr>\n",
       "    <tr>\n",
       "      <th>77</th>\n",
       "      <td>[chocolate, frozen vegetables, milk, spaghetti]</td>\n",
       "      <td>[{'items_base': ['chocolate', 'frozen vegetables', 'spaghetti'], 'items_add': ['milk'], 'confidence': 0.44067796610169485, 'lift': 3.4007463207086555}, {'items_base': ['chocolate', 'milk', 'spaghetti'], 'items_add': ['frozen vegetables'], 'confidence': 0.3170731707317073, 'lift': 3.3263858093126384}]</td>\n",
       "      <td>0.003466</td>\n",
       "    </tr>\n",
       "    <tr>\n",
       "      <th>78</th>\n",
       "      <td>[chocolate, frozen vegetables, mineral water, shrimp]</td>\n",
       "      <td>[{'items_base': ['chocolate', 'frozen vegetables', 'mineral water'], 'items_add': ['shrimp'], 'confidence': 0.32876712328767127, 'lift': 4.600899611531385}, {'items_base': ['chocolate', 'mineral water', 'shrimp'], 'items_add': ['frozen vegetables'], 'confidence': 0.4210526315789474, 'lift': 4.417224880382776}]</td>\n",
       "      <td>0.003200</td>\n",
       "    </tr>\n",
       "    <tr>\n",
       "      <th>79</th>\n",
       "      <td>[chocolate, frozen vegetables, nan, shrimp]</td>\n",
       "      <td>[{'items_base': ['chocolate', 'frozen vegetables', 'nan'], 'items_add': ['shrimp'], 'confidence': 0.23255813953488375, 'lift': 3.2545123221103784}, {'items_base': ['chocolate', 'nan', 'shrimp'], 'items_add': ['frozen vegetables'], 'confidence': 0.29629629629629634, 'lift': 3.1084175084175087}]</td>\n",
       "      <td>0.005333</td>\n",
       "    </tr>\n",
       "    <tr>\n",
       "      <th>80</th>\n",
       "      <td>[chocolate, ground beef, herb &amp; pepper, nan]</td>\n",
       "      <td>[{'items_base': ['chocolate', 'herb &amp; pepper', 'nan'], 'items_add': ['ground beef'], 'confidence': 0.4411764705882354, 'lift': 4.4901827759597746}]</td>\n",
       "      <td>0.003999</td>\n",
       "    </tr>\n",
       "    <tr>\n",
       "      <th>81</th>\n",
       "      <td>[chocolate, milk, nan, soup]</td>\n",
       "      <td>[{'items_base': ['chocolate', 'nan', 'soup'], 'items_add': ['milk'], 'confidence': 0.3947368421052632, 'lift': 3.0462150747238472}]</td>\n",
       "      <td>0.003999</td>\n",
       "    </tr>\n",
       "    <tr>\n",
       "      <th>82</th>\n",
       "      <td>[chocolate, mineral water, olive oil, spaghetti]</td>\n",
       "      <td>[{'items_base': ['chocolate', 'mineral water', 'spaghetti'], 'items_add': ['olive oil'], 'confidence': 0.2436974789915966, 'lift': 3.700353825740822}]</td>\n",
       "      <td>0.003866</td>\n",
       "    </tr>\n",
       "    <tr>\n",
       "      <th>83</th>\n",
       "      <td>[chocolate, mineral water, shrimp, spaghetti]</td>\n",
       "      <td>[{'items_base': ['chocolate', 'mineral water', 'spaghetti'], 'items_add': ['shrimp'], 'confidence': 0.21848739495798317, 'lift': 3.0576006522011783}]</td>\n",
       "      <td>0.003466</td>\n",
       "    </tr>\n",
       "    <tr>\n",
       "      <th>84</th>\n",
       "      <td>[cooking oil, ground beef, nan, spaghetti]</td>\n",
       "      <td>[{'items_base': ['cooking oil', 'ground beef', 'nan'], 'items_add': ['spaghetti'], 'confidence': 0.5714285714285714, 'lift': 3.2819951870487856}, {'items_base': ['cooking oil', 'nan', 'spaghetti'], 'items_add': ['ground beef'], 'confidence': 0.3025210084033613, 'lift': 3.0789824749438446}]</td>\n",
       "      <td>0.004799</td>\n",
       "    </tr>\n",
       "    <tr>\n",
       "      <th>85</th>\n",
       "      <td>[eggs, frozen vegetables, milk, mineral water]</td>\n",
       "      <td>[{'items_base': ['eggs', 'frozen vegetables', 'mineral water'], 'items_add': ['milk'], 'confidence': 0.411764705882353, 'lift': 3.177620430888405}]</td>\n",
       "      <td>0.003733</td>\n",
       "    </tr>\n",
       "    <tr>\n",
       "      <th>86</th>\n",
       "      <td>[eggs, ground beef, herb &amp; pepper, nan]</td>\n",
       "      <td>[{'items_base': ['eggs', 'ground beef', 'nan'], 'items_add': ['herb &amp; pepper'], 'confidence': 0.2066666666666667, 'lift': 4.178454627133872}, {'items_base': ['eggs', 'herb &amp; pepper', 'nan'], 'items_add': ['ground beef'], 'confidence': 0.3297872340425532, 'lift': 3.3564912381997174}]</td>\n",
       "      <td>0.004133</td>\n",
       "    </tr>\n",
       "    <tr>\n",
       "      <th>87</th>\n",
       "      <td>[eggs, nan, red wine, spaghetti]</td>\n",
       "      <td>[{'items_base': ['eggs', 'nan', 'red wine'], 'items_add': ['spaghetti'], 'confidence': 0.5283018867924528, 'lift': 3.0342974370828397}]</td>\n",
       "      <td>0.003733</td>\n",
       "    </tr>\n",
       "    <tr>\n",
       "      <th>88</th>\n",
       "      <td>[french fries, ground beef, herb &amp; pepper, nan]</td>\n",
       "      <td>[{'items_base': ['french fries', 'ground beef', 'nan'], 'items_add': ['herb &amp; pepper'], 'confidence': 0.23076923076923078, 'lift': 4.665768194070081}, {'items_base': ['french fries', 'herb &amp; pepper', 'nan'], 'items_add': ['ground beef'], 'confidence': 0.46153846153846156, 'lift': 4.697421981004071}]</td>\n",
       "      <td>0.003200</td>\n",
       "    </tr>\n",
       "    <tr>\n",
       "      <th>89</th>\n",
       "      <td>[frozen smoothie, milk, mineral water, spaghetti]</td>\n",
       "      <td>[{'items_base': ['frozen smoothie', 'mineral water', 'spaghetti'], 'items_add': ['milk'], 'confidence': 0.4705882352941177, 'lift': 3.631566206729606}, {'items_base': ['milk', 'mineral water', 'spaghetti'], 'items_add': ['frozen smoothie'], 'confidence': 0.2033898305084746, 'lift': 3.211846565566459}]</td>\n",
       "      <td>0.003200</td>\n",
       "    </tr>\n",
       "    <tr>\n",
       "      <th>90</th>\n",
       "      <td>[frozen vegetables, green tea, nan, tomatoes]</td>\n",
       "      <td>[{'items_base': ['frozen vegetables', 'green tea', 'nan'], 'items_add': ['tomatoes'], 'confidence': 0.2314814814814815, 'lift': 3.38468341635983}]</td>\n",
       "      <td>0.003333</td>\n",
       "    </tr>\n",
       "    <tr>\n",
       "      <th>91</th>\n",
       "      <td>[frozen vegetables, ground beef, milk, mineral water]</td>\n",
       "      <td>[{'items_base': ['frozen vegetables', 'ground beef', 'mineral water'], 'items_add': ['milk'], 'confidence': 0.40579710144927533, 'lift': 3.1315679608755294}, {'items_base': ['frozen vegetables', 'milk', 'mineral water'], 'items_add': ['ground beef'], 'confidence': 0.3373493975903614, 'lift': 3.4334570302921317}, {'items_base': ['ground beef', 'milk', 'mineral water'], 'items_add': ['frozen vegetables'], 'confidence': 0.3373493975903614, 'lift': 3.539101861993428}]</td>\n",
       "      <td>0.003733</td>\n",
       "    </tr>\n",
       "    <tr>\n",
       "      <th>92</th>\n",
       "      <td>[frozen vegetables, ground beef, milk, spaghetti]</td>\n",
       "      <td>[{'items_base': ['frozen vegetables', 'ground beef', 'milk'], 'items_add': ['spaghetti'], 'confidence': 0.5348837209302326, 'lift': 3.0721001460165964}, {'items_base': ['frozen vegetables', 'milk', 'spaghetti'], 'items_add': ['ground beef'], 'confidence': 0.3709677419354839, 'lift': 3.7756160546242397}, {'items_base': ['ground beef', 'milk', 'spaghetti'], 'items_add': ['frozen vegetables'], 'confidence': 0.3150684931506849, 'lift': 3.305354919053549}]</td>\n",
       "      <td>0.003066</td>\n",
       "    </tr>\n",
       "    <tr>\n",
       "      <th>93</th>\n",
       "      <td>[frozen vegetables, ground beef, mineral water, spaghetti]</td>\n",
       "      <td>[{'items_base': ['frozen vegetables', 'mineral water', 'spaghetti'], 'items_add': ['ground beef'], 'confidence': 0.3666666666666667, 'lift': 3.7318407960199007}]</td>\n",
       "      <td>0.004399</td>\n",
       "    </tr>\n",
       "    <tr>\n",
       "      <th>94</th>\n",
       "      <td>[frozen vegetables, ground beef, nan, spaghetti]</td>\n",
       "      <td>[{'items_base': ['frozen vegetables', 'nan', 'spaghetti'], 'items_add': ['ground beef'], 'confidence': 0.31100478468899523, 'lift': 3.165328208890303}]</td>\n",
       "      <td>0.008666</td>\n",
       "    </tr>\n",
       "    <tr>\n",
       "      <th>95</th>\n",
       "      <td>[frozen vegetables, milk, mineral water, olive oil]</td>\n",
       "      <td>[{'items_base': ['frozen vegetables', 'milk', 'mineral water'], 'items_add': ['olive oil'], 'confidence': 0.30120481927710846, 'lift': 4.573557387444516}, {'items_base': ['frozen vegetables', 'mineral water', 'olive oil'], 'items_add': ['milk'], 'confidence': 0.5102040816326531, 'lift': 3.937284790459394}, {'items_base': ['milk', 'mineral water', 'olive oil'], 'items_add': ['frozen vegetables'], 'confidence': 0.39062500000000006, 'lift': 4.098011363636364}]</td>\n",
       "      <td>0.003333</td>\n",
       "    </tr>\n",
       "    <tr>\n",
       "      <th>96</th>\n",
       "      <td>[frozen vegetables, milk, mineral water, soup]</td>\n",
       "      <td>[{'items_base': ['frozen vegetables', 'milk', 'mineral water'], 'items_add': ['soup'], 'confidence': 0.27710843373493976, 'lift': 5.484407286136631}, {'items_base': ['frozen vegetables', 'milk', 'soup'], 'items_add': ['mineral water'], 'confidence': 0.7666666666666666, 'lift': 3.21631245339299}, {'items_base': ['frozen vegetables', 'mineral water', 'soup'], 'items_add': ['milk'], 'confidence': 0.6052631578947368, 'lift': 4.670863114576565}, {'items_base': ['milk', 'mineral water', 'soup'], 'items_add': ['frozen vegetables'], 'confidence': 0.35937500000000006, 'lift': 3.7701704545454553}]</td>\n",
       "      <td>0.003066</td>\n",
       "    </tr>\n",
       "    <tr>\n",
       "      <th>97</th>\n",
       "      <td>[frozen vegetables, milk, mineral water, spaghetti]</td>\n",
       "      <td>[{'items_base': ['milk', 'mineral water', 'spaghetti'], 'items_add': ['frozen vegetables'], 'confidence': 0.28813559322033894, 'lift': 3.0228043143297376}]</td>\n",
       "      <td>0.004533</td>\n",
       "    </tr>\n",
       "    <tr>\n",
       "      <th>98</th>\n",
       "      <td>[frozen vegetables, milk, nan, olive oil]</td>\n",
       "      <td>[{'items_base': ['frozen vegetables', 'milk', 'nan'], 'items_add': ['olive oil'], 'confidence': 0.20338983050847456, 'lift': 3.088314005352364}, {'items_base': ['frozen vegetables', 'nan', 'olive oil'], 'items_add': ['milk'], 'confidence': 0.4235294117647058, 'lift': 3.2684095860566447}]</td>\n",
       "      <td>0.004799</td>\n",
       "    </tr>\n",
       "    <tr>\n",
       "      <th>99</th>\n",
       "      <td>[frozen vegetables, milk, nan, soup]</td>\n",
       "      <td>[{'items_base': ['frozen vegetables', 'nan', 'soup'], 'items_add': ['milk'], 'confidence': 0.5, 'lift': 3.858539094650206}]</td>\n",
       "      <td>0.003999</td>\n",
       "    </tr>\n",
       "    <tr>\n",
       "      <th>100</th>\n",
       "      <td>[frozen vegetables, milk, nan, tomatoes]</td>\n",
       "      <td>[{'items_base': ['milk', 'nan', 'tomatoes'], 'items_add': ['frozen vegetables'], 'confidence': 0.29523809523809524, 'lift': 3.0973160173160172}]</td>\n",
       "      <td>0.004133</td>\n",
       "    </tr>\n",
       "    <tr>\n",
       "      <th>101</th>\n",
       "      <td>[frozen vegetables, mineral water, nan, shrimp]</td>\n",
       "      <td>[{'items_base': ['mineral water', 'nan', 'shrimp'], 'items_add': ['frozen vegetables'], 'confidence': 0.3068181818181818, 'lift': 3.218801652892562}]</td>\n",
       "      <td>0.007199</td>\n",
       "    </tr>\n",
       "    <tr>\n",
       "      <th>102</th>\n",
       "      <td>[frozen vegetables, mineral water, shrimp, spaghetti]</td>\n",
       "      <td>[{'items_base': ['frozen vegetables', 'mineral water', 'spaghetti'], 'items_add': ['shrimp'], 'confidence': 0.2777777777777778, 'lift': 3.8873341625207294}, {'items_base': ['mineral water', 'shrimp', 'spaghetti'], 'items_add': ['frozen vegetables'], 'confidence': 0.39062500000000006, 'lift': 4.098011363636364}]</td>\n",
       "      <td>0.003333</td>\n",
       "    </tr>\n",
       "    <tr>\n",
       "      <th>103</th>\n",
       "      <td>[frozen vegetables, mineral water, spaghetti, tomatoes]</td>\n",
       "      <td>[{'items_base': ['frozen vegetables', 'mineral water', 'spaghetti'], 'items_add': ['tomatoes'], 'confidence': 0.2555555555555556, 'lift': 3.7366904916612524}, {'items_base': ['frozen vegetables', 'mineral water', 'tomatoes'], 'items_add': ['spaghetti'], 'confidence': 0.5227272727272727, 'lift': 3.0022796881525826}, {'items_base': ['mineral water', 'spaghetti', 'tomatoes'], 'items_add': ['frozen vegetables'], 'confidence': 0.32857142857142857, 'lift': 3.447012987012987}]</td>\n",
       "      <td>0.003066</td>\n",
       "    </tr>\n",
       "    <tr>\n",
       "      <th>104</th>\n",
       "      <td>[frozen vegetables, nan, olive oil, spaghetti]</td>\n",
       "      <td>[{'items_base': ['frozen vegetables', 'nan', 'spaghetti'], 'items_add': ['olive oil'], 'confidence': 0.20574162679425836, 'lift': 3.1240241752707125}]</td>\n",
       "      <td>0.005733</td>\n",
       "    </tr>\n",
       "    <tr>\n",
       "      <th>105</th>\n",
       "      <td>[frozen vegetables, nan, shrimp, spaghetti]</td>\n",
       "      <td>[{'items_base': ['frozen vegetables', 'nan', 'spaghetti'], 'items_add': ['shrimp'], 'confidence': 0.21531100478468898, 'lift': 3.0131489680782684}]</td>\n",
       "      <td>0.005999</td>\n",
       "    </tr>\n",
       "    <tr>\n",
       "      <th>106</th>\n",
       "      <td>[frozen vegetables, nan, shrimp, tomatoes]</td>\n",
       "      <td>[{'items_base': ['frozen vegetables', 'nan', 'shrimp'], 'items_add': ['tomatoes'], 'confidence': 0.24000000000000002, 'lift': 3.5092397660818717}, {'items_base': ['frozen vegetables', 'nan', 'tomatoes'], 'items_add': ['shrimp'], 'confidence': 0.2479338842975207, 'lift': 3.4696866905143704}, {'items_base': ['nan', 'shrimp', 'tomatoes'], 'items_add': ['frozen vegetables'], 'confidence': 0.35714285714285715, 'lift': 3.7467532467532467}]</td>\n",
       "      <td>0.003999</td>\n",
       "    </tr>\n",
       "    <tr>\n",
       "      <th>107</th>\n",
       "      <td>[frozen vegetables, nan, spaghetti, tomatoes]</td>\n",
       "      <td>[{'items_base': ['frozen vegetables', 'nan', 'spaghetti'], 'items_add': ['tomatoes'], 'confidence': 0.23923444976076558, 'lift': 3.4980460188216425}, {'items_base': ['nan', 'spaghetti', 'tomatoes'], 'items_add': ['frozen vegetables'], 'confidence': 0.3184713375796179, 'lift': 3.341053850607991}]</td>\n",
       "      <td>0.006666</td>\n",
       "    </tr>\n",
       "    <tr>\n",
       "      <th>108</th>\n",
       "      <td>[grated cheese, ground beef, nan, spaghetti]</td>\n",
       "      <td>[{'items_base': ['grated cheese', 'nan', 'spaghetti'], 'items_add': ['ground beef'], 'confidence': 0.3225806451612903, 'lift': 3.283144395325426}]</td>\n",
       "      <td>0.005333</td>\n",
       "    </tr>\n",
       "    <tr>\n",
       "      <th>109</th>\n",
       "      <td>[green tea, ground beef, nan, tomatoes]</td>\n",
       "      <td>[{'items_base': ['green tea', 'ground beef', 'nan'], 'items_add': ['tomatoes'], 'confidence': 0.2072072072072072, 'lift': 3.0297490472929067}]</td>\n",
       "      <td>0.003066</td>\n",
       "    </tr>\n",
       "    <tr>\n",
       "      <th>110</th>\n",
       "      <td>[ground beef, herb &amp; pepper, milk, nan]</td>\n",
       "      <td>[{'items_base': ['herb &amp; pepper', 'milk', 'nan'], 'items_add': ['ground beef'], 'confidence': 0.3913043478260869, 'lift': 3.9825968969382335}]</td>\n",
       "      <td>0.003600</td>\n",
       "    </tr>\n",
       "    <tr>\n",
       "      <th>111</th>\n",
       "      <td>[ground beef, herb &amp; pepper, mineral water, nan]</td>\n",
       "      <td>[{'items_base': ['herb &amp; pepper', 'mineral water', 'nan'], 'items_add': ['ground beef'], 'confidence': 0.39062500000000006, 'lift': 3.975682666214383}]</td>\n",
       "      <td>0.006666</td>\n",
       "    </tr>\n",
       "    <tr>\n",
       "      <th>112</th>\n",
       "      <td>[ground beef, herb &amp; pepper, nan, spaghetti]</td>\n",
       "      <td>[{'items_base': ['herb &amp; pepper', 'nan', 'spaghetti'], 'items_add': ['ground beef'], 'confidence': 0.3934426229508197, 'lift': 4.004359721511667}]</td>\n",
       "      <td>0.006399</td>\n",
       "    </tr>\n",
       "    <tr>\n",
       "      <th>113</th>\n",
       "      <td>[ground beef, milk, nan, olive oil]</td>\n",
       "      <td>[{'items_base': ['ground beef', 'milk', 'nan'], 'items_add': ['olive oil'], 'confidence': 0.22424242424242427, 'lift': 3.40494417862839}]</td>\n",
       "      <td>0.004933</td>\n",
       "    </tr>\n",
       "    <tr>\n",
       "      <th>114</th>\n",
       "      <td>[ground beef, milk, nan, soup]</td>\n",
       "      <td>[{'items_base': ['ground beef', 'nan', 'soup'], 'items_add': ['milk'], 'confidence': 0.4109589041095891, 'lift': 3.1714019956029094}]</td>\n",
       "      <td>0.003999</td>\n",
       "    </tr>\n",
       "    <tr>\n",
       "      <th>115</th>\n",
       "      <td>[ground beef, mineral water, olive oil, spaghetti]</td>\n",
       "      <td>[{'items_base': ['mineral water', 'olive oil', 'spaghetti'], 'items_add': ['ground beef'], 'confidence': 0.2987012987012987, 'lift': 3.0401064335935435}]</td>\n",
       "      <td>0.003066</td>\n",
       "    </tr>\n",
       "    <tr>\n",
       "      <th>116</th>\n",
       "      <td>[ground beef, mineral water, spaghetti, tomatoes]</td>\n",
       "      <td>[{'items_base': ['ground beef', 'mineral water', 'tomatoes'], 'items_add': ['spaghetti'], 'confidence': 0.5609756097560976, 'lift': 3.221958689724723}, {'items_base': ['mineral water', 'spaghetti', 'tomatoes'], 'items_add': ['ground beef'], 'confidence': 0.32857142857142857, 'lift': 3.344117076952898}]</td>\n",
       "      <td>0.003066</td>\n",
       "    </tr>\n",
       "    <tr>\n",
       "      <th>117</th>\n",
       "      <td>[ground beef, nan, pepper, spaghetti]</td>\n",
       "      <td>[{'items_base': ['nan', 'pepper', 'spaghetti'], 'items_add': ['ground beef'], 'confidence': 0.33783783783783783, 'lift': 3.4384282518610876}]</td>\n",
       "      <td>0.003333</td>\n",
       "    </tr>\n",
       "    <tr>\n",
       "      <th>118</th>\n",
       "      <td>[ground beef, nan, shrimp, spaghetti]</td>\n",
       "      <td>[{'items_base': ['ground beef', 'nan', 'shrimp'], 'items_add': ['spaghetti'], 'confidence': 0.5232558139534884, 'lift': 3.005315360233627}]</td>\n",
       "      <td>0.005999</td>\n",
       "    </tr>\n",
       "    <tr>\n",
       "      <th>119</th>\n",
       "      <td>[ground beef, nan, spaghetti, tomato sauce]</td>\n",
       "      <td>[{'items_base': ['ground beef', 'nan', 'tomato sauce'], 'items_add': ['spaghetti'], 'confidence': 0.5750000000000001, 'lift': 3.3025076569678413}, {'items_base': ['nan', 'spaghetti', 'tomato sauce'], 'items_add': ['ground beef'], 'confidence': 0.4893617021276596, 'lift': 4.980599901844742}]</td>\n",
       "      <td>0.003066</td>\n",
       "    </tr>\n",
       "    <tr>\n",
       "      <th>120</th>\n",
       "      <td>[milk, mineral water, olive oil, spaghetti]</td>\n",
       "      <td>[{'items_base': ['milk', 'mineral water', 'spaghetti'], 'items_add': ['olive oil'], 'confidence': 0.211864406779661, 'lift': 3.216993755575379}]</td>\n",
       "      <td>0.003333</td>\n",
       "    </tr>\n",
       "    <tr>\n",
       "      <th>121</th>\n",
       "      <td>[milk, mineral water, spaghetti, tomatoes]</td>\n",
       "      <td>[{'items_base': ['milk', 'mineral water', 'spaghetti'], 'items_add': ['tomatoes'], 'confidence': 0.211864406779661, 'lift': 3.0978458387022165}]</td>\n",
       "      <td>0.003333</td>\n",
       "    </tr>\n",
       "    <tr>\n",
       "      <th>122</th>\n",
       "      <td>[milk, nan, olive oil, shrimp]</td>\n",
       "      <td>[{'items_base': ['nan', 'olive oil', 'shrimp'], 'items_add': ['milk'], 'confidence': 0.39999999999999997, 'lift': 3.0868312757201646}]</td>\n",
       "      <td>0.003200</td>\n",
       "    </tr>\n",
       "    <tr>\n",
       "      <th>123</th>\n",
       "      <td>[milk, nan, olive oil, soup]</td>\n",
       "      <td>[{'items_base': ['milk', 'nan', 'olive oil'], 'items_add': ['soup'], 'confidence': 0.2109375, 'lift': 4.174781497361478}, {'items_base': ['milk', 'nan', 'soup'], 'items_add': ['olive oil'], 'confidence': 0.23684210526315788, 'lift': 3.5962603878116344}, {'items_base': ['nan', 'olive oil', 'soup'], 'items_add': ['milk'], 'confidence': 0.4029850746268656, 'lift': 3.1098673300165833}]</td>\n",
       "      <td>0.003600</td>\n",
       "    </tr>\n",
       "    <tr>\n",
       "      <th>124</th>\n",
       "      <td>[milk, nan, olive oil, spaghetti]</td>\n",
       "      <td>[{'items_base': ['milk', 'nan', 'spaghetti'], 'items_add': ['olive oil'], 'confidence': 0.20300751879699247, 'lift': 3.0825089038385434}]</td>\n",
       "      <td>0.007199</td>\n",
       "    </tr>\n",
       "    <tr>\n",
       "      <th>125</th>\n",
       "      <td>[milk, nan, soup, tomatoes]</td>\n",
       "      <td>[{'items_base': ['milk', 'nan', 'tomatoes'], 'items_add': ['soup'], 'confidence': 0.21904761904761905, 'lift': 4.335293378565146}, {'items_base': ['nan', 'soup', 'tomatoes'], 'items_add': ['milk'], 'confidence': 0.44230769230769235, 'lift': 3.4133230452674903}]</td>\n",
       "      <td>0.003066</td>\n",
       "    </tr>\n",
       "    <tr>\n",
       "      <th>126</th>\n",
       "      <td>[milk, nan, spaghetti, whole wheat pasta]</td>\n",
       "      <td>[{'items_base': ['nan', 'spaghetti', 'whole wheat pasta'], 'items_add': ['milk'], 'confidence': 0.4545454545454546, 'lift': 3.5077628133183696}]</td>\n",
       "      <td>0.003999</td>\n",
       "    </tr>\n",
       "    <tr>\n",
       "      <th>127</th>\n",
       "      <td>[mineral water, nan, olive oil, soup]</td>\n",
       "      <td>[{'items_base': ['mineral water', 'nan', 'soup'], 'items_add': ['olive oil'], 'confidence': 0.22543352601156072, 'lift': 3.4230301186492245}]</td>\n",
       "      <td>0.005199</td>\n",
       "    </tr>\n",
       "    <tr>\n",
       "      <th>128</th>\n",
       "      <td>[mineral water, nan, olive oil, whole wheat pasta]</td>\n",
       "      <td>[{'items_base': ['mineral water', 'nan', 'whole wheat pasta'], 'items_add': ['olive oil'], 'confidence': 0.4027777777777778, 'lift': 6.115862573099416}]</td>\n",
       "      <td>0.003866</td>\n",
       "    </tr>\n",
       "    <tr>\n",
       "      <th>129</th>\n",
       "      <td>[nan, olive oil, pancakes, spaghetti]</td>\n",
       "      <td>[{'items_base': ['nan', 'pancakes', 'spaghetti'], 'items_add': ['olive oil'], 'confidence': 0.20105820105820105, 'lift': 3.0529100529100526}]</td>\n",
       "      <td>0.005066</td>\n",
       "    </tr>\n",
       "    <tr>\n",
       "      <th>130</th>\n",
       "      <td>[nan, olive oil, spaghetti, tomatoes]</td>\n",
       "      <td>[{'items_base': ['nan', 'olive oil', 'tomatoes'], 'items_add': ['spaghetti'], 'confidence': 0.6111111111111112, 'lift': 3.5099115194827295}, {'items_base': ['nan', 'spaghetti', 'tomatoes'], 'items_add': ['olive oil'], 'confidence': 0.21019108280254778, 'lift': 3.19158565202816}]</td>\n",
       "      <td>0.004399</td>\n",
       "    </tr>\n",
       "    <tr>\n",
       "      <th>131</th>\n",
       "      <td>[nan, spaghetti, tomatoes, whole wheat rice]</td>\n",
       "      <td>[{'items_base': ['nan', 'spaghetti', 'whole wheat rice'], 'items_add': ['tomatoes'], 'confidence': 0.2169811320754717, 'lift': 3.1726617382029496}]</td>\n",
       "      <td>0.003066</td>\n",
       "    </tr>\n",
       "    <tr>\n",
       "      <th>132</th>\n",
       "      <td>[chocolate, eggs, ground beef, mineral water, nan]</td>\n",
       "      <td>[{'items_base': ['chocolate', 'eggs', 'mineral water', 'nan'], 'items_add': ['ground beef'], 'confidence': 0.29702970297029707, 'lift': 3.023093354111531}]</td>\n",
       "      <td>0.003999</td>\n",
       "    </tr>\n",
       "    <tr>\n",
       "      <th>133</th>\n",
       "      <td>[chocolate, frozen vegetables, ground beef, mineral water, nan]</td>\n",
       "      <td>[{'items_base': ['chocolate', 'frozen vegetables', 'mineral water', 'nan'], 'items_add': ['ground beef'], 'confidence': 0.34246575342465757, 'lift': 3.4855300087358976}, {'items_base': ['chocolate', 'ground beef', 'mineral water', 'nan'], 'items_add': ['frozen vegetables'], 'confidence': 0.30487804878048785, 'lift': 3.1984478935698455}]</td>\n",
       "      <td>0.003333</td>\n",
       "    </tr>\n",
       "    <tr>\n",
       "      <th>134</th>\n",
       "      <td>[chocolate, frozen vegetables, ground beef, nan, spaghetti]</td>\n",
       "      <td>[{'items_base': ['chocolate', 'frozen vegetables', 'ground beef', 'nan'], 'items_add': ['spaghetti'], 'confidence': 0.5348837209302326, 'lift': 3.0721001460165964}, {'items_base': ['chocolate', 'frozen vegetables', 'nan', 'spaghetti'], 'items_add': ['ground beef'], 'confidence': 0.3898305084745763, 'lift': 3.967596531978015}, {'items_base': ['chocolate', 'ground beef', 'nan', 'spaghetti'], 'items_add': ['frozen vegetables'], 'confidence': 0.33333333333333337, 'lift': 3.4969696969696975}]</td>\n",
       "      <td>0.003066</td>\n",
       "    </tr>\n",
       "    <tr>\n",
       "      <th>135</th>\n",
       "      <td>[chocolate, frozen vegetables, milk, mineral water, nan]</td>\n",
       "      <td>[{'items_base': ['chocolate', 'frozen vegetables', 'mineral water', 'nan'], 'items_add': ['milk'], 'confidence': 0.4109589041095891, 'lift': 3.1714019956029094}]</td>\n",
       "      <td>0.003999</td>\n",
       "    </tr>\n",
       "    <tr>\n",
       "      <th>136</th>\n",
       "      <td>[chocolate, frozen vegetables, milk, nan, spaghetti]</td>\n",
       "      <td>[{'items_base': ['chocolate', 'frozen vegetables', 'nan', 'spaghetti'], 'items_add': ['milk'], 'confidence': 0.44067796610169485, 'lift': 3.4007463207086555}, {'items_base': ['chocolate', 'milk', 'nan', 'spaghetti'], 'items_add': ['frozen vegetables'], 'confidence': 0.3170731707317073, 'lift': 3.3263858093126384}]</td>\n",
       "      <td>0.003466</td>\n",
       "    </tr>\n",
       "    <tr>\n",
       "      <th>137</th>\n",
       "      <td>[chocolate, frozen vegetables, mineral water, nan, shrimp]</td>\n",
       "      <td>[{'items_base': ['chocolate', 'frozen vegetables', 'mineral water', 'nan'], 'items_add': ['shrimp'], 'confidence': 0.32876712328767127, 'lift': 4.600899611531385}, {'items_base': ['chocolate', 'mineral water', 'nan', 'shrimp'], 'items_add': ['frozen vegetables'], 'confidence': 0.4210526315789474, 'lift': 4.417224880382776}]</td>\n",
       "      <td>0.003200</td>\n",
       "    </tr>\n",
       "    <tr>\n",
       "      <th>138</th>\n",
       "      <td>[chocolate, mineral water, nan, olive oil, spaghetti]</td>\n",
       "      <td>[{'items_base': ['chocolate', 'mineral water', 'nan', 'spaghetti'], 'items_add': ['olive oil'], 'confidence': 0.2436974789915966, 'lift': 3.700353825740822}]</td>\n",
       "      <td>0.003866</td>\n",
       "    </tr>\n",
       "    <tr>\n",
       "      <th>139</th>\n",
       "      <td>[chocolate, mineral water, nan, shrimp, spaghetti]</td>\n",
       "      <td>[{'items_base': ['chocolate', 'mineral water', 'nan', 'spaghetti'], 'items_add': ['shrimp'], 'confidence': 0.21848739495798317, 'lift': 3.0576006522011783}]</td>\n",
       "      <td>0.003466</td>\n",
       "    </tr>\n",
       "    <tr>\n",
       "      <th>140</th>\n",
       "      <td>[eggs, frozen vegetables, milk, mineral water, nan]</td>\n",
       "      <td>[{'items_base': ['eggs', 'frozen vegetables', 'mineral water', 'nan'], 'items_add': ['milk'], 'confidence': 0.411764705882353, 'lift': 3.177620430888405}]</td>\n",
       "      <td>0.003733</td>\n",
       "    </tr>\n",
       "    <tr>\n",
       "      <th>141</th>\n",
       "      <td>[frozen smoothie, milk, mineral water, nan, spaghetti]</td>\n",
       "      <td>[{'items_base': ['frozen smoothie', 'mineral water', 'nan', 'spaghetti'], 'items_add': ['milk'], 'confidence': 0.4705882352941177, 'lift': 3.631566206729606}, {'items_base': ['milk', 'mineral water', 'nan', 'spaghetti'], 'items_add': ['frozen smoothie'], 'confidence': 0.2033898305084746, 'lift': 3.211846565566459}]</td>\n",
       "      <td>0.003200</td>\n",
       "    </tr>\n",
       "    <tr>\n",
       "      <th>142</th>\n",
       "      <td>[frozen vegetables, ground beef, milk, mineral water, nan]</td>\n",
       "      <td>[{'items_base': ['frozen vegetables', 'ground beef', 'mineral water', 'nan'], 'items_add': ['milk'], 'confidence': 0.40579710144927533, 'lift': 3.1315679608755294}, {'items_base': ['frozen vegetables', 'milk', 'mineral water', 'nan'], 'items_add': ['ground beef'], 'confidence': 0.3373493975903614, 'lift': 3.4334570302921317}, {'items_base': ['ground beef', 'milk', 'mineral water', 'nan'], 'items_add': ['frozen vegetables'], 'confidence': 0.3373493975903614, 'lift': 3.539101861993428}]</td>\n",
       "      <td>0.003733</td>\n",
       "    </tr>\n",
       "    <tr>\n",
       "      <th>143</th>\n",
       "      <td>[frozen vegetables, ground beef, milk, nan, spaghetti]</td>\n",
       "      <td>[{'items_base': ['frozen vegetables', 'ground beef', 'milk', 'nan'], 'items_add': ['spaghetti'], 'confidence': 0.5348837209302326, 'lift': 3.0721001460165964}, {'items_base': ['frozen vegetables', 'milk', 'nan', 'spaghetti'], 'items_add': ['ground beef'], 'confidence': 0.3709677419354839, 'lift': 3.7756160546242397}, {'items_base': ['ground beef', 'milk', 'nan', 'spaghetti'], 'items_add': ['frozen vegetables'], 'confidence': 0.3150684931506849, 'lift': 3.305354919053549}]</td>\n",
       "      <td>0.003066</td>\n",
       "    </tr>\n",
       "    <tr>\n",
       "      <th>144</th>\n",
       "      <td>[frozen vegetables, ground beef, mineral water, nan, spaghetti]</td>\n",
       "      <td>[{'items_base': ['frozen vegetables', 'mineral water', 'nan', 'spaghetti'], 'items_add': ['ground beef'], 'confidence': 0.3666666666666667, 'lift': 3.7318407960199007}]</td>\n",
       "      <td>0.004399</td>\n",
       "    </tr>\n",
       "    <tr>\n",
       "      <th>145</th>\n",
       "      <td>[frozen vegetables, milk, mineral water, nan, olive oil]</td>\n",
       "      <td>[{'items_base': ['frozen vegetables', 'milk', 'mineral water', 'nan'], 'items_add': ['olive oil'], 'confidence': 0.30120481927710846, 'lift': 4.573557387444516}, {'items_base': ['frozen vegetables', 'mineral water', 'nan', 'olive oil'], 'items_add': ['milk'], 'confidence': 0.5102040816326531, 'lift': 3.937284790459394}, {'items_base': ['milk', 'mineral water', 'nan', 'olive oil'], 'items_add': ['frozen vegetables'], 'confidence': 0.39062500000000006, 'lift': 4.098011363636364}]</td>\n",
       "      <td>0.003333</td>\n",
       "    </tr>\n",
       "    <tr>\n",
       "      <th>146</th>\n",
       "      <td>[frozen vegetables, milk, mineral water, nan, soup]</td>\n",
       "      <td>[{'items_base': ['frozen vegetables', 'milk', 'mineral water', 'nan'], 'items_add': ['soup'], 'confidence': 0.27710843373493976, 'lift': 5.484407286136631}, {'items_base': ['frozen vegetables', 'milk', 'nan', 'soup'], 'items_add': ['mineral water'], 'confidence': 0.7666666666666666, 'lift': 3.21631245339299}, {'items_base': ['frozen vegetables', 'mineral water', 'nan', 'soup'], 'items_add': ['milk'], 'confidence': 0.6052631578947368, 'lift': 4.670863114576565}, {'items_base': ['milk', 'mineral water', 'nan', 'soup'], 'items_add': ['frozen vegetables'], 'confidence': 0.35937500000000006, 'lift': 3.7701704545454553}]</td>\n",
       "      <td>0.003066</td>\n",
       "    </tr>\n",
       "    <tr>\n",
       "      <th>147</th>\n",
       "      <td>[frozen vegetables, milk, mineral water, nan, spaghetti]</td>\n",
       "      <td>[{'items_base': ['milk', 'mineral water', 'nan', 'spaghetti'], 'items_add': ['frozen vegetables'], 'confidence': 0.28813559322033894, 'lift': 3.0228043143297376}]</td>\n",
       "      <td>0.004533</td>\n",
       "    </tr>\n",
       "    <tr>\n",
       "      <th>148</th>\n",
       "      <td>[frozen vegetables, mineral water, nan, shrimp, spaghetti]</td>\n",
       "      <td>[{'items_base': ['frozen vegetables', 'mineral water', 'nan', 'spaghetti'], 'items_add': ['shrimp'], 'confidence': 0.2777777777777778, 'lift': 3.8873341625207294}, {'items_base': ['mineral water', 'nan', 'shrimp', 'spaghetti'], 'items_add': ['frozen vegetables'], 'confidence': 0.39062500000000006, 'lift': 4.098011363636364}]</td>\n",
       "      <td>0.003333</td>\n",
       "    </tr>\n",
       "    <tr>\n",
       "      <th>149</th>\n",
       "      <td>[frozen vegetables, mineral water, nan, spaghetti, tomatoes]</td>\n",
       "      <td>[{'items_base': ['frozen vegetables', 'mineral water', 'nan', 'spaghetti'], 'items_add': ['tomatoes'], 'confidence': 0.2555555555555556, 'lift': 3.7366904916612524}, {'items_base': ['frozen vegetables', 'mineral water', 'nan', 'tomatoes'], 'items_add': ['spaghetti'], 'confidence': 0.5227272727272727, 'lift': 3.0022796881525826}, {'items_base': ['mineral water', 'nan', 'spaghetti', 'tomatoes'], 'items_add': ['frozen vegetables'], 'confidence': 0.32857142857142857, 'lift': 3.447012987012987}]</td>\n",
       "      <td>0.003066</td>\n",
       "    </tr>\n",
       "    <tr>\n",
       "      <th>150</th>\n",
       "      <td>[ground beef, mineral water, nan, olive oil, spaghetti]</td>\n",
       "      <td>[{'items_base': ['mineral water', 'nan', 'olive oil', 'spaghetti'], 'items_add': ['ground beef'], 'confidence': 0.2987012987012987, 'lift': 3.0401064335935435}]</td>\n",
       "      <td>0.003066</td>\n",
       "    </tr>\n",
       "    <tr>\n",
       "      <th>151</th>\n",
       "      <td>[ground beef, mineral water, nan, spaghetti, tomatoes]</td>\n",
       "      <td>[{'items_base': ['ground beef', 'mineral water', 'nan', 'tomatoes'], 'items_add': ['spaghetti'], 'confidence': 0.5609756097560976, 'lift': 3.221958689724723}, {'items_base': ['mineral water', 'nan', 'spaghetti', 'tomatoes'], 'items_add': ['ground beef'], 'confidence': 0.32857142857142857, 'lift': 3.344117076952898}]</td>\n",
       "      <td>0.003066</td>\n",
       "    </tr>\n",
       "    <tr>\n",
       "      <th>152</th>\n",
       "      <td>[milk, mineral water, nan, olive oil, spaghetti]</td>\n",
       "      <td>[{'items_base': ['milk', 'mineral water', 'nan', 'spaghetti'], 'items_add': ['olive oil'], 'confidence': 0.211864406779661, 'lift': 3.216993755575379}]</td>\n",
       "      <td>0.003333</td>\n",
       "    </tr>\n",
       "    <tr>\n",
       "      <th>153</th>\n",
       "      <td>[milk, mineral water, nan, spaghetti, tomatoes]</td>\n",
       "      <td>[{'items_base': ['milk', 'mineral water', 'nan', 'spaghetti'], 'items_add': ['tomatoes'], 'confidence': 0.211864406779661, 'lift': 3.0978458387022165}]</td>\n",
       "      <td>0.003333</td>\n",
       "    </tr>\n",
       "  </tbody>\n",
       "</table>"
      ],
      "text/plain": [
       "<IPython.core.display.HTML object>"
      ]
     },
     "metadata": {},
     "output_type": "display_data"
    }
   ],
   "source": [
    "# и взгялнем на итоги\n",
    "pd.set_option('display.max_colwidth', -1)\n",
    "\n",
    "from IPython.display import display, HTML\n",
    "\n",
    "display(HTML(data_df.to_html()))"
   ]
  },
  {
   "cell_type": "markdown",
   "metadata": {},
   "source": [
    "Итого мы видим:\n",
    "\n",
    "1. Пары items\n",
    "2. items_base - первый элемент пары\n",
    "3. items_add - второй (добавленный алгоритмом) элемент пары\n",
    "4. confidence - значение confidence для пары\n",
    "5. lift - значение lift для пары\n",
    "6. support - начение support для пары. При желании, по нему можно отсортировать \n",
    "\n",
    "\n",
    "Результаты логичные: эскалоп и макароны, эскалоп и сливочно-грибной соус, курица и нежирная сметана, мягкий сыр и мед и т.д. - все это вполне логичные и, главное, вкусные сочетания:)"
   ]
  },
  {
   "cell_type": "markdown",
   "metadata": {},
   "source": [
    "#### Реализация в R"
   ]
  },
  {
   "cell_type": "markdown",
   "metadata": {
    "collapsed": true
   },
   "source": [
    "ARL тот случай,скогда R-фаги могут злорадно похихикать. В R реализована библиотека arules, где присутствует и apriori, и другие алгоритмы. Официальную доку можно посмотреть тут - https://cran.r-project.org/web/packages/arules/arules.pdf"
   ]
  },
  {
   "cell_type": "markdown",
   "metadata": {
    "collapsed": true
   },
   "source": [
    "Посмотрим на нее в действии:"
   ]
  },
  {
   "cell_type": "markdown",
   "metadata": {},
   "source": [
    "Для начала установим ее (если еще не установили):\n",
    "<br>\n",
    "install.packages('arules')"
   ]
  },
  {
   "cell_type": "markdown",
   "metadata": {},
   "source": [
    "Считаем данные и преобразуем их в матрицу транзакций:\n",
    "<BR>\n",
    "<br>\n",
    "$library(arules)$\n",
    "<br>\n",
    "$dataset = read.csv('Market_Basket_Optimisation.csv', header = FALSE)$\n",
    "<br>\n",
    "$dataset = read.transactions('Market_Basket_Optimisation.csv', sep = ',', rm.duplicates = TRUE)$"
   ]
  },
  {
   "cell_type": "markdown",
   "metadata": {},
   "source": [
    "Посмотрим на данные:\n",
    "<BR>\n",
    "$summary(dataset)$\n",
    "<br>\n",
    "$itemFrequencyPlot(dataset, topN = 10)$"
   ]
  },
  {
   "cell_type": "markdown",
   "metadata": {},
   "source": [
    "Выучим наши правила:\n",
    "<br>\n",
    "В общем виде фнкция вызова apriori выглядит так:  $apriori(data, parameter = NULL, appearance = NULL, control = NULL)$, где\n",
    "<br>\n",
    "\n",
    "$data$ - наш датасет\n",
    "<br>\n",
    "$paramter$ - список (list) параметров для модели: минимальные support, confidence и lift\n",
    "<br>\n",
    "$appearance$ - отвечает за отображение данных. Может принимать значения lhs, rhs, both, items, none, которые определяют положение items в output\n",
    "<br>\n",
    "$control$ - отвечает за сортировку вывода (ascending, descending, без сортировки), а также за то, отображать ли прогрессбар или нет (параметр verbose)\n",
    "\n"
   ]
  },
  {
   "cell_type": "markdown",
   "metadata": {},
   "source": [
    "Обучим модель:"
   ]
  },
  {
   "cell_type": "markdown",
   "metadata": {},
   "source": [
    "$rules = apriori(data = dataset, parameter = list(support = 0.004, confidence = 0.2))$"
   ]
  },
  {
   "cell_type": "markdown",
   "metadata": {},
   "source": [
    "И посмотрим на результаты:\n",
    "<br>\n",
    "$inspect(sort(rules, by = 'lift')[1:10])$"
   ]
  },
  {
   "cell_type": "markdown",
   "metadata": {},
   "source": [
    "Убедимся, что на выходе имеем примерно те же результаты, что при использовании модуля apyori в Python:\n",
    "<br>\n",
    "\n",
    "1. {light cream}                               => {chicken}       0.004532729\n",
    "2. {pasta}                                     => {escalope}      0.005865885\n",
    "3. {pasta}                                     => {shrimp}        0.005065991\n",
    "4. {eggs,ground beef}                          => {herb & pepper} 0.004132782\n",
    "5. {whole wheat pasta}                         => {olive oil}     0.007998933\n",
    "6. {herb & pepper,spaghetti}                   => {ground beef}   0.006399147\n",
    "7. {herb & pepper,mineral water}               => {ground beef}   0.006665778\n",
    "8. {tomato sauce}                              => {ground beef}   0.005332622\n",
    "9. {mushroom cream sauce}                      => {escalope}      0.005732569\n",
    "10. {frozen vegetables,mineral water,spaghetti} => {ground beef}   0.004399413"
   ]
  },
  {
   "cell_type": "markdown",
   "metadata": {},
   "source": [
    "Как видно, в R apriori использовать на данный момент намного удобнее, чем в Python."
   ]
  },
  {
   "cell_type": "markdown",
   "metadata": {},
   "source": [
    "### ECLAT Algorithm"
   ]
  },
  {
   "cell_type": "markdown",
   "metadata": {},
   "source": [
    "#### Теория"
   ]
  },
  {
   "cell_type": "code",
   "execution_count": null,
   "metadata": {
    "collapsed": true
   },
   "outputs": [],
   "source": []
  },
  {
   "cell_type": "code",
   "execution_count": null,
   "metadata": {
    "collapsed": true
   },
   "outputs": [],
   "source": []
  },
  {
   "cell_type": "markdown",
   "metadata": {},
   "source": [
    "#### Реализация в Python"
   ]
  },
  {
   "cell_type": "code",
   "execution_count": 5,
   "metadata": {},
   "outputs": [],
   "source": [
    "import fim"
   ]
  },
  {
   "cell_type": "code",
   "execution_count": null,
   "metadata": {
    "collapsed": true
   },
   "outputs": [],
   "source": []
  },
  {
   "cell_type": "code",
   "execution_count": null,
   "metadata": {
    "collapsed": true
   },
   "outputs": [],
   "source": []
  },
  {
   "cell_type": "markdown",
   "metadata": {},
   "source": [
    "#### Реализация в R"
   ]
  },
  {
   "cell_type": "code",
   "execution_count": null,
   "metadata": {
    "collapsed": true
   },
   "outputs": [],
   "source": []
  },
  {
   "cell_type": "code",
   "execution_count": null,
   "metadata": {
    "collapsed": true
   },
   "outputs": [],
   "source": []
  },
  {
   "cell_type": "code",
   "execution_count": null,
   "metadata": {
    "collapsed": true
   },
   "outputs": [],
   "source": []
  },
  {
   "cell_type": "markdown",
   "metadata": {},
   "source": [
    "### FP-Growth Algorithm"
   ]
  },
  {
   "cell_type": "markdown",
   "metadata": {},
   "source": [
    "#### Теория"
   ]
  },
  {
   "cell_type": "code",
   "execution_count": null,
   "metadata": {
    "collapsed": true
   },
   "outputs": [],
   "source": []
  },
  {
   "cell_type": "code",
   "execution_count": null,
   "metadata": {
    "collapsed": true
   },
   "outputs": [],
   "source": []
  },
  {
   "cell_type": "markdown",
   "metadata": {},
   "source": [
    "#### Реализация в Python"
   ]
  },
  {
   "cell_type": "code",
   "execution_count": null,
   "metadata": {
    "collapsed": true
   },
   "outputs": [],
   "source": []
  },
  {
   "cell_type": "code",
   "execution_count": null,
   "metadata": {
    "collapsed": true
   },
   "outputs": [],
   "source": []
  },
  {
   "cell_type": "markdown",
   "metadata": {},
   "source": [
    "#### Реализация в R"
   ]
  },
  {
   "cell_type": "code",
   "execution_count": null,
   "metadata": {
    "collapsed": true
   },
   "outputs": [],
   "source": []
  },
  {
   "cell_type": "code",
   "execution_count": null,
   "metadata": {
    "collapsed": true
   },
   "outputs": [],
   "source": []
  },
  {
   "cell_type": "markdown",
   "metadata": {},
   "source": [
    "## Заключение"
   ]
  },
  {
   "cell_type": "code",
   "execution_count": null,
   "metadata": {
    "collapsed": true
   },
   "outputs": [],
   "source": []
  },
  {
   "cell_type": "code",
   "execution_count": null,
   "metadata": {
    "collapsed": true
   },
   "outputs": [],
   "source": []
  }
 ],
 "metadata": {
  "kernelspec": {
   "display_name": "Python 3",
   "language": "python",
   "name": "python3"
  },
  "language_info": {
   "codemirror_mode": {
    "name": "ipython",
    "version": 3
   },
   "file_extension": ".py",
   "mimetype": "text/x-python",
   "name": "python",
   "nbconvert_exporter": "python",
   "pygments_lexer": "ipython3",
   "version": "3.6.3"
  }
 },
 "nbformat": 4,
 "nbformat_minor": 2
}
