{
 "cells": [
  {
<<<<<<< HEAD
   "cell_type": "code",
   "execution_count": 3,
=======
   "cell_type": "markdown",
   "metadata": {},
   "source": [
    "# Введение в теорию или как связаны подгузники и пиво?"
   ]
  },
  {
   "cell_type": "markdown",
   "metadata": {},
   "source": [
    "   Обучение на ассоциативных правилах (далее Assocoations rules learning - ARL) представляет из себя с одной стороны, простой, с другой - довольно часто применимый в реальной жизни метод поиска взаимосвязей (ассоциаций) в датасетах или, если точнее, айтемсетах (itemsests). Именно ARL лежит в основе многих рекомендательных систем, работающих в интернет-магазинах. \n",
    "   Впервые подробно об этом заговорил Piatesky-Shapiro G [1] в работе “Discovery, Analysis, and Presentation of Strong Rules.” (1991) Более подробо тему развивали Agrawal R, Imielinski T, Swami A в работах “Mining Association Rules between Sets of Items in Large Databases” (1993) [2] и “Fast Algorithms for Mining Association Rules.” (1994) [3].\n",
    "\n",
    "    \n",
    "   \n"
   ]
  },
  {
   "cell_type": "markdown",
   "metadata": {},
   "source": [
    "   \n",
    "  В общем виде ARL можно опсиать как \"Who bought x also bought y\" (\"Кто купил x, также купил y\"). В основе лежит анализ транзакций (transactions), внутри каждой из которых лежит свой уникальный itemset из набора items. При помощи ARL алогритмов нахоядтся те самые \"правила\" совпаденяи items внутри одной транзакции, котоыре потом сортируются по их силе. \n",
    "\n",
    "   Да, вот все так просто и логично."
   ]
  },
  {
   "cell_type": "markdown",
   "metadata": {},
   "source": [
    "   За этой простотой, однако, могут скрываться поразительные вещи, о которых common sense даже не подозревал:) \n",
    "\n",
    "   Классический случай такого когнитивного диссонанса описан в статье D.J. Power \"Ask Dan!\", опубликованной в DSSResources.com [4]: \n",
    "\n",
    "   В 1992 году, группа по консалтингу в области ритейла компании Teradata под руководством Томаса Блишока провела исследование 1.2 миллиона транзакций в 25 магазинах для ритейлера Osco Drug (нет, там продавали не наркотики и даже не лекарства, точнее, не только лекартсва. Drug Store в стране веротяного противника - формат разнокалиберных магазинов у дома). \n",
    "   После анализа всех этих транзакций самым сильным правилом получилось \"Между 17:00 и 19:00 чаще всего пиво и подгузники покупают вместе\". \n",
    "   К сожалению такое правило показалось руководству Osco Drug настолкьо контринтуитивным, что ставить подгузники на полках рядом с пивом они не стали:) Хотя объяснение паре пиво-подгузники вполне себе нашлось: когда оба члена молодой семьи возвращались с рабоыт домой (как раз часам к 5 вечера), жены обычно отправляли мужей за подгузниками в ближайшей магазин. И мужья, не долго думая, совмещали приятное с полезным - покупали подгузники по заданию жены и пиво для собственного вечернего времяпрепровождения"
   ]
  },
  {
   "cell_type": "markdown",
   "metadata": {},
   "source": [
    "# Описание Association rule"
   ]
  },
  {
   "cell_type": "markdown",
   "metadata": {
    "collapsed": true
   },
   "source": [
    "Итак мы выяснили, что пиво и подгузники - хороший джентельменский набор, а что дальше? "
   ]
  },
  {
   "cell_type": "code",
   "execution_count": 5,
>>>>>>> 433ccb5d41fa0d0bb968b063f9801a85a16aa28b
   "metadata": {
    "collapsed": true
   },
   "outputs": [],
   "source": [
<<<<<<< HEAD
    "from IPython.display import Image\n",
    "from IPython.core.display import HTML "
=======
    "from IPython.display import display, Math, Latex"
>>>>>>> 433ccb5d41fa0d0bb968b063f9801a85a16aa28b
   ]
  },
  {
   "cell_type": "markdown",
   "metadata": {},
   "source": [
<<<<<<< HEAD
    "# Введение в теорию"
   ]
  },
  {
   "cell_type": "code",
   "execution_count": null,
   "metadata": {
    "collapsed": true
   },
   "outputs": [],
   "source": []
=======
    "Пусть у нас имеется некий датасет (или коллекция) D, такой, что D = {d_0 ... d_j}, где d - уникальная транзакция-itemset (например, кассовый чек).\n",
    "Внутри каждой d представлен набор items (i - item), причем в идеально случае он представлен в бинарном виде: d1 = [{Пиво: 1}, {Вода: 0}, {Кола: 1}, {...}], d2 = [{Пиво : 0}, {Вода: 1}, {Кола : 1}, {...}]. Принято каждый itemset описывать через количество ненулевых значений (k-itemset), например, [{Пиво: 1}, {Вода: 0}, {Кола: 1}] являестя 2-itemset.\n",
    "\n",
    "Если в изначальном виде не представлен, можно при желании руками его преобразовать (OHE и pd.get_dummies вам в помощь).\n",
    "\n",
    "Таким образом, датасет представляет собой разреженную матрицу со значениями {1,0}. Это будет бинарный датасет. Существуют и другие виды записи - вертикальный датасет и транзакционный датасет"
   ]
  },
  {
   "cell_type": "markdown",
   "metadata": {},
   "source": [
    "ОК, данные преобразовали, как найти правила?\n",
    "\n",
    "Существует целый ряд ключевых (если хотите - базовых) понятий в ARL, которые нам помогут эти правила вывести."
   ]
  },
  {
   "cell_type": "markdown",
   "metadata": {},
   "source": [
    "##### Support (поддержка)"
   ]
  },
  {
   "cell_type": "markdown",
   "metadata": {},
   "source": [
    "Первое понятие  в ARL - support:\n"
   ]
  },
  {
   "cell_type": "markdown",
   "metadata": {},
   "source": [
    "$supp(X) = \\frac{\\{t\\in T;\\ X \\in t\\}}{|T|}$"
   ]
  },
  {
   "cell_type": "markdown",
   "metadata": {},
   "source": [
    ", где X - itemset, содержащий в себе i-items, а T - количество транзакций. Т.е. в общем виде это показатель \"частотности\" данного itemset во всех анализируемых транзакциях. Но это касается только X. Нам же интересен скорее вариант, когда у нас в одном itemset встречаются x1 и x2 (например).\n",
    "Ну тут тоже все просто. Пусть x1 = {Пиво}, а x2 = {Подгузники}, значит нам нужно посчитать, во скольких транзакициях втречаестя эта парочка. "
   ]
  },
  {
   "cell_type": "markdown",
   "metadata": {},
   "source": [
    "$supp(x_1\\cup x_2) = \\frac{\\sigma(x_1 \\cup x_2)}{|T|}$, где $\\sigma $ - количество транзакций, содержащих $x_1$ и $x_2$"
   ]
  },
  {
   "cell_type": "markdown",
   "metadata": {},
   "source": [
    "##### Confidence (уровень доверия)"
   ]
  },
  {
   "cell_type": "markdown",
   "metadata": {},
   "source": [
    "Следующее ключевое понятие - confidence. Это показатель того, как часто наше правило срабатывает для всего датасета. "
   ]
  },
  {
   "cell_type": "markdown",
   "metadata": {},
   "source": [
    "$conf(x_1\\cup x_2) = \\frac{supp(x_1 \\cup x_2)}{supp(x_1)}$"
   ]
  },
  {
   "cell_type": "markdown",
   "metadata": {},
   "source": [
    "Приведем пример: мы хотим посчитать confidence для правила \"кто покупает пиво, тот покупает и подгузники\".\n",
    "\n",
    "Для этого сначала посчитаем, какой support у правила \"покупает пиво\", потом посчитаем support у правила \"покупает пиво и подгузники\", и просто поделим одно на другое. Т.е. мы посчитаем в скольких случаях (транзакциях) срабатывает правило \"купил пиво $supp(X)$, купил подгузники и пиво $supp(X \\cup Y)$\"\n",
    "Ничего не напоминает? Байес смотрит на все это несколько недоуменно и с презрением:)"
   ]
  },
  {
   "cell_type": "markdown",
   "metadata": {},
   "source": [
    "<img src=\"src/images/thomas-bayes.png\">"
   ]
  },
  {
   "cell_type": "markdown",
   "metadata": {
    "collapsed": true
   },
   "source": [
    "##### Lift (подъем или повышение)"
   ]
>>>>>>> 433ccb5d41fa0d0bb968b063f9801a85a16aa28b
  },
  {
   "cell_type": "markdown",
   "metadata": {},
   "source": [
<<<<<<< HEAD
    "# Описание Association rule"
=======
    "Следующее понятие в нашем списке - lift. Грубо говоря, lift - это отношение \"зависимости\" items к их \"независимости\". Lift показывает, насколько items зависят друг от друга. Это очевидно из формулы:"
   ]
  },
  {
   "cell_type": "markdown",
   "metadata": {},
   "source": [
    "$lift(x_1\\cup x_2) = \\frac{supp(x_1 \\cup x_2)}{supp(x_1) \\times supp(x_2)}$"
   ]
  },
  {
   "cell_type": "markdown",
   "metadata": {},
   "source": [
    "Например, мы хотим понять зависимость покупки пива и покупки подгузников. Для этого считаем support правила \"купил пиво и подгузники\" и делим его на произведение правил \"купил пиво\" и \"купил подгузники\". В случае, если lift = 1, мы говорим, что items независимы и правил совместной покупки тут нет. Если же lift > 1, то велечина, на которую lift, собственно, больше этой самой единицы, и покажет нам \"силу\" правила. Чем больше единицы, тем круче."
   ]
  },
  {
   "cell_type": "markdown",
   "metadata": {},
   "source": [
    "##### Conviction (убедительность)"
   ]
  },
  {
   "cell_type": "markdown",
   "metadata": {},
   "source": [
    "В общем виде Conviction - это \"частотность ошибок\" нашего правила. Т.е., например, как часто покупали пиво без подгузников и наоборот."
   ]
  },
  {
   "cell_type": "markdown",
   "metadata": {},
   "source": [
    "$conv(x_1\\cup x_2) = \\frac{1 - supp(x_2)}{1 - conf(x_1 \\cup x_2)}$"
   ]
  },
  {
   "cell_type": "markdown",
   "metadata": {},
   "source": [
    "Чем результат по формуле выше ближе к 1, тем лучше. Например, если conviction покупки пива и подгузников вместе равен 1.2, это значит, что правило \"купил пиво и подгузники\" было бы в 1.2 раза (на 20%) более верным, чем если бы совпадение этих items в одной транзакции было бы чисто случайным. Немного неинтуитивное понятие, но оно и используестя н етак часто, как предыдущие три. "
   ]
  },
  {
   "cell_type": "markdown",
   "metadata": {},
   "source": [
    "###### <<<<<Отсутпление про брутфорс>>>>>>"
   ]
  },
  {
   "cell_type": "markdown",
   "metadata": {},
   "source": [
    "### Apriori Algorithm"
   ]
  },
  {
   "cell_type": "markdown",
   "metadata": {},
   "source": [
    "#### Теория"
>>>>>>> 433ccb5d41fa0d0bb968b063f9801a85a16aa28b
   ]
  },
  {
   "cell_type": "code",
   "execution_count": null,
   "metadata": {
    "collapsed": true
   },
   "outputs": [],
   "source": []
  },
  {
<<<<<<< HEAD
   "cell_type": "code",
   "execution_count": null,
   "metadata": {
    "collapsed": true
   },
   "outputs": [],
   "source": []
=======
   "cell_type": "markdown",
   "metadata": {},
   "source": [
    "#### Реализация в Python"
   ]
  },
  {
   "cell_type": "markdown",
   "metadata": {
    "collapsed": true
   },
   "source": [
    "from sklearn import... эммм... а импортировать-то и нечего:) На данный момент модулей для ALR в sklearn нет. Ну ничего, погуглим или напишем свои, правда?"
   ]
  },
  {
   "cell_type": "markdown",
   "metadata": {
    "collapsed": true
   },
   "source": [
    "По сети гуляет целый ряд реализаций, например вот - https://github.com/asaini/Apriori, вот - http://adataanalyst.com/machine-learning/apriori-algorithm-python-3-0/, и даже вот -https://codereview.stackexchange.com/questions/38101/apriori-algorithm-using-pandas"
   ]
>>>>>>> 433ccb5d41fa0d0bb968b063f9801a85a16aa28b
  },
  {
   "cell_type": "markdown",
   "metadata": {},
   "source": [
<<<<<<< HEAD
    "### Apriori Algorithm"
=======
    "Мы же на практике придерживаемся алгоритма apyori, написанного Ю Мочиузки (Yu Mochizuki). Полный код приводить не будем, желающие могут посмотреть тут - https://github.com/ymoch/apyori , а вот архитектуру решения и пример использования покажем."
>>>>>>> 433ccb5d41fa0d0bb968b063f9801a85a16aa28b
   ]
  },
  {
   "cell_type": "markdown",
   "metadata": {},
   "source": [
<<<<<<< HEAD
    "#### Теория"
=======
    "Условно решение Мочизуки можно разделить на 4 части: Структура данных, Внутренние функции, API и Прикладные функции."
>>>>>>> 433ccb5d41fa0d0bb968b063f9801a85a16aa28b
   ]
  },
  {
   "cell_type": "markdown",
   "metadata": {},
   "source": [
<<<<<<< HEAD
    "Используемые понятия:\n",
    "<br> -  Множество объектов (**itemset**): $X \\subseteq I = \\{x_1, x_2, ..., x_n\\}$</br>\n",
    "<br> -  Множество идентификаторов транзакций (**tidset**): $T = \\{t_1, t_2, ..., t_m\\}$</br>\n",
    "<br> -  Множество транзакций (**transactions**): $\\{(t,\\ X):\\ t\\in T,\\ X \\in I\\}$</br>"
=======
    "Первая часть модуля (Структура данных) работает с изначальным датасетом. Реализуется класс TransactionManager, методы которого объединяют транзакции в матрицу, формируют список правил-кандидатов и считают support для каждого правила. Внутренние функции дополнительно по support'у формируют списки правил и соответственно их ранжируют. API логично позволяет работать напрямую с датасетами, а Прикладные функции позволяют обрабатывать транзакции и выводить результат в читаемый вид. Никакого rocketscience.  "
>>>>>>> 433ccb5d41fa0d0bb968b063f9801a85a16aa28b
   ]
  },
  {
   "cell_type": "markdown",
<<<<<<< HEAD
   "metadata": {
    "collapsed": true
   },
   "source": [
    "Сложность brute-force алгоритма:\n",
    "Для того чтобы найти все возможные Association rules применяя brute-force алгоритм нам необходимо перечислить все подмножества $X$ из набора $I$ и для каждого подмножества $X$ рассчитать $supp(X)$. Данный подход будет состоять из следующих шагов:\n",
    "-  генерация **кандидатов**. Данный шаг состоит из перебора всех возможных подмножеств $X$ подмножества $I$. Данные подмножества называются **кандидатами**. Поскольку каждое подмножество теоретически может являться часто встречаемым подмножеством, то множество потенциальных кандидатов будет состоять из $2^{|I|}$ элементов (здесь $|I|$ обозначается число элементов множества $I$, а $2^{|I|}$ часто называется булеаном множества $I$, то есть множество всех подмножеств $I$)\n",
    "-  расчет **support**. На данном шаге рассчитывается $supp(X)$ каждого кандидата $X$\n",
    "\n",
    "Таким образом, сложность нашего алгоритма будет: $O(|I|*|D|*2^{|I|})$, где\n",
    "<br>$O(2^{|I|})$ - количество возможных кандидатов</br>\n",
    "<br>$O(|I|*|D|)$ - сложность расчета sup(X). Поскольку для расчета  $supp(X)$ нам необходимо перебрать все элементы в $I$ в каждой транзакции $t \\in T$</br>"
   ]
  },
  {
   "cell_type": "markdown",
   "metadata": {},
   "source": [
    "Введем дополнительно еще несколько понятий.\n",
    "<br>Будем рассматривать дерево префиксов (prefix tree), где 2 элемента $X$ и $Y$ соединены, если $X$ является прямым подмножеством $Y$. Таким образом мы можем пронумеровать все подмножества множества $I$. Рисунок приведен ниже</br>"
=======
   "metadata": {},
   "source": [
    "Посмотрим, как использовать модуль на реальном (ну, в данном случае - игрушечном) датасете."
   ]
  },
  {
   "cell_type": "code",
   "execution_count": 2,
   "metadata": {
    "collapsed": true
   },
   "outputs": [],
   "source": [
    "# подгрузим модули\n",
    "import numpy as np\n",
    "import matplotlib.pyplot as plt\n",
    "import pandas as pd"
   ]
  },
  {
   "cell_type": "code",
   "execution_count": 3,
   "metadata": {},
   "outputs": [],
   "source": [
    "# загрузим данные\n",
    "dataset = pd.read_csv('src/data/Market_Basket_Optimisation.csv', header = None)"
>>>>>>> 433ccb5d41fa0d0bb968b063f9801a85a16aa28b
   ]
  },
  {
   "cell_type": "code",
<<<<<<< HEAD
   "execution_count": 4,
=======
   "execution_count": 34,
   "metadata": {
    "collapsed": true
   },
   "outputs": [],
   "source": [
    "#dataset.describe #всего 7500 записей-транзакций"
   ]
  },
  {
   "cell_type": "code",
   "execution_count": 35,
>>>>>>> 433ccb5d41fa0d0bb968b063f9801a85a16aa28b
   "metadata": {},
   "outputs": [
    {
     "data": {
<<<<<<< HEAD
      "image/png": "\n\n\n\n\n\n<!DOCTYPE html>\n<html lang=\"en\">\n  <head>\n    <meta charset=\"utf-8\">\n  <link rel=\"dns-prefetch\" href=\"https://assets-cdn.github.com\">\n  <link rel=\"dns-prefetch\" href=\"https://avatars0.githubusercontent.com\">\n  <link rel=\"dns-prefetch\" href=\"https://avatars1.githubusercontent.com\">\n  <link rel=\"dns-prefetch\" href=\"https://avatars2.githubusercontent.com\">\n  <link rel=\"dns-prefetch\" href=\"https://avatars3.githubusercontent.com\">\n  <link rel=\"dns-prefetch\" href=\"https://github-cloud.s3.amazonaws.com\">\n  <link rel=\"dns-prefetch\" href=\"https://user-images.githubusercontent.com/\">\n\n\n\n  <link crossorigin=\"anonymous\" href=\"https://assets-cdn.github.com/assets/frameworks-a4bf54bef6fb.css\" media=\"all\" rel=\"stylesheet\" />\n  <link crossorigin=\"anonymous\" href=\"https://assets-cdn.github.com/assets/github-d5aa84dde2d5.css\" media=\"all\" rel=\"stylesheet\" />\n  \n  \n  <link crossorigin=\"anonymous\" href=\"https://assets-cdn.github.com/assets/site-5ebe68400bf4.css\" media=\"all\" rel=\"stylesheet\" />\n  \n\n  <meta name=\"viewport\" content=\"width=device-width\">\n  \n  <title>arules_shared/tree_I.PNG at master · bashnick/arules_shared · GitHub</title>\n    <meta name=\"description\" content=\"GitHub is where people build software. More than 28 million people use GitHub to discover, fork, and contribute to over 80 million projects.\">\n  <link rel=\"search\" type=\"application/opensearchdescription+xml\" href=\"/opensearch.xml\" title=\"GitHub\">\n  <link rel=\"fluid-icon\" href=\"https://github.com/fluidicon.png\" title=\"GitHub\">\n  <meta property=\"fb:app_id\" content=\"1401488693436528\">\n\n    \n    <meta content=\"https://avatars2.githubusercontent.com/u/17045099?s=400&amp;v=4\" property=\"og:image\" /><meta content=\"GitHub\" property=\"og:site_name\" /><meta content=\"object\" property=\"og:type\" /><meta content=\"bashnick/arules_shared\" property=\"og:title\" /><meta content=\"https://github.com/bashnick/arules_shared\" property=\"og:url\" /><meta content=\"arules_shared - developing an eclat library for python\" property=\"og:description\" />\n\n  <link rel=\"assets\" href=\"https://assets-cdn.github.com/\">\n  \n  <meta name=\"pjax-timeout\" content=\"1000\">\n  \n  <meta name=\"request-id\" content=\"CD26:7678:1937283:2D38506:5AA2817C\" data-pjax-transient>\n  \n\n  <meta name=\"selected-link\" value=\"repo_source\" data-pjax-transient>\n\n    <meta name=\"google-site-verification\" content=\"KT5gs8h0wvaagLKAVWq8bbeNwnZZK1r1XQysX3xurLU\">\n  <meta name=\"google-site-verification\" content=\"ZzhVyEFwb7w3e0-uOTltm8Jsck2F5StVihD0exw2fsA\">\n  <meta name=\"google-site-verification\" content=\"GXs5KoUUkNCoaAZn7wPN-t01Pywp9M3sEjnt_3_ZWPc\">\n    <meta name=\"google-analytics\" content=\"UA-3769691-2\">\n\n<meta content=\"collector.githubapp.com\" name=\"octolytics-host\" /><meta content=\"github\" name=\"octolytics-app-id\" /><meta content=\"https://collector.githubapp.com/github-external/browser_event\" name=\"octolytics-event-url\" /><meta content=\"CD26:7678:1937283:2D38506:5AA2817C\" name=\"octolytics-dimension-request_id\" /><meta content=\"iad\" name=\"octolytics-dimension-region_edge\" /><meta content=\"iad\" name=\"octolytics-dimension-region_render\" />\n<meta content=\"https://github.com/hydro_browser_events\" name=\"hydro-events-url\" />\n<meta content=\"/&lt;user-name&gt;/&lt;repo-name&gt;/blob/show\" data-pjax-transient=\"true\" name=\"analytics-location\" />\n\n\n\n\n  <meta class=\"js-ga-set\" name=\"dimension1\" content=\"Logged Out\">\n\n\n  \n\n      <meta name=\"hostname\" content=\"github.com\">\n    <meta name=\"user-login\" content=\"\">\n\n      <meta name=\"expected-hostname\" content=\"github.com\">\n    <meta name=\"js-proxy-site-detection-payload\" content=\"NDMzNGI3YTFhMjg2ODJmYmNjYjQzNTQ0OWMxMjkwZDM1MzhlOWIxMzUwYWY1YWM3YTcwNDYyMzViZDA2YWYzMHx7InJlbW90ZV9hZGRyZXNzIjoiMjEzLjg1LjE4LjE3MiIsInJlcXVlc3RfaWQiOiJDRDI2Ojc2Nzg6MTkzNzI4MzoyRDM4NTA2OjVBQTI4MTdDIiwidGltZXN0YW1wIjoxNTIwNTk5NDIwLCJob3N0IjoiZ2l0aHViLmNvbSJ9\">\n\n    <meta name=\"enabled-features\" content=\"UNIVERSE_BANNER,FREE_TRIALS,MARKETPLACE_INSIGHTS,MARKETPLACE_INSIGHTS_CONVERSION_PERCENTAGES,JS_ROLLUP\">\n\n  <meta name=\"html-safe-nonce\" content=\"f183504961c3a48d1619e8d30041df75ef94c28a\">\n\n  <meta http-equiv=\"x-pjax-version\" content=\"26c3090c2ab52e381b6cb90c869b893c\">\n  \n\n      <link href=\"https://github.com/bashnick/arules_shared/commits/master.atom\" rel=\"alternate\" title=\"Recent Commits to arules_shared:master\" type=\"application/atom+xml\">\n\n  <meta name=\"description\" content=\"arules_shared - developing an eclat library for python\">\n  <meta name=\"go-import\" content=\"github.com/bashnick/arules_shared git https://github.com/bashnick/arules_shared.git\">\n\n  <meta content=\"17045099\" name=\"octolytics-dimension-user_id\" /><meta content=\"bashnick\" name=\"octolytics-dimension-user_login\" /><meta content=\"124513157\" name=\"octolytics-dimension-repository_id\" /><meta content=\"bashnick/arules_shared\" name=\"octolytics-dimension-repository_nwo\" /><meta content=\"true\" name=\"octolytics-dimension-repository_public\" /><meta content=\"false\" name=\"octolytics-dimension-repository_is_fork\" /><meta content=\"124513157\" name=\"octolytics-dimension-repository_network_root_id\" /><meta content=\"bashnick/arules_shared\" name=\"octolytics-dimension-repository_network_root_nwo\" /><meta content=\"false\" name=\"octolytics-dimension-repository_explore_github_marketplace_ci_cta_shown\" />\n\n\n    <link rel=\"canonical\" href=\"https://github.com/bashnick/arules_shared/blob/master/src/images/tree_I.PNG\" data-pjax-transient>\n\n\n  <meta name=\"browser-stats-url\" content=\"https://api.github.com/_private/browser/stats\">\n\n  <meta name=\"browser-errors-url\" content=\"https://api.github.com/_private/browser/errors\">\n\n  <link rel=\"mask-icon\" href=\"https://assets-cdn.github.com/pinned-octocat.svg\" color=\"#000000\">\n  <link rel=\"icon\" type=\"image/x-icon\" class=\"js-site-favicon\" href=\"https://assets-cdn.github.com/favicon.ico\">\n\n<meta name=\"theme-color\" content=\"#1e2327\">\n\n\n\n<link rel=\"manifest\" href=\"/manifest.json\" crossOrigin=\"use-credentials\">\n\n  </head>\n\n  <body class=\"logged-out env-production page-blob\">\n    \n\n  <div class=\"position-relative js-header-wrapper \">\n    <a href=\"#start-of-content\" tabindex=\"1\" class=\"px-2 py-4 show-on-focus js-skip-to-content\">Skip to content</a>\n    <div id=\"js-pjax-loader-bar\" class=\"pjax-loader-bar\"><div class=\"progress\"></div></div>\n\n    \n    \n    \n\n\n\n        <header class=\"Header header-logged-out  position-relative f4 py-3\" role=\"banner\">\n  <div class=\"container-lg d-flex px-3\">\n    <div class=\"d-flex flex-justify-between flex-items-center\">\n      <a class=\"header-logo-invertocat my-0\" href=\"https://github.com/\" aria-label=\"Homepage\" data-ga-click=\"(Logged out) Header, go to homepage, icon:logo-wordmark\">\n        <svg aria-hidden=\"true\" class=\"octicon octicon-mark-github\" height=\"32\" version=\"1.1\" viewBox=\"0 0 16 16\" width=\"32\"><path fill-rule=\"evenodd\" d=\"M8 0C3.58 0 0 3.58 0 8c0 3.54 2.29 6.53 5.47 7.59.4.07.55-.17.55-.38 0-.19-.01-.82-.01-1.49-2.01.37-2.53-.49-2.69-.94-.09-.23-.48-.94-.82-1.13-.28-.15-.68-.52-.01-.53.63-.01 1.08.58 1.23.82.72 1.21 1.87.87 2.33.66.07-.52.28-.87.51-1.07-1.78-.2-3.64-.89-3.64-3.95 0-.87.31-1.59.82-2.15-.08-.2-.36-1.02.08-2.12 0 0 .67-.21 2.2.82.64-.18 1.32-.27 2-.27.68 0 1.36.09 2 .27 1.53-1.04 2.2-.82 2.2-.82.44 1.1.16 1.92.08 2.12.51.56.82 1.27.82 2.15 0 3.07-1.87 3.75-3.65 3.95.29.25.54.73.54 1.48 0 1.07-.01 1.93-.01 2.2 0 .21.15.46.55.38A8.013 8.013 0 0 0 16 8c0-4.42-3.58-8-8-8z\"/></svg>\n      </a>\n\n    </div>\n\n    <div class=\"HeaderMenu HeaderMenu--bright d-flex flex-justify-between flex-auto\">\n        <nav class=\"mt-0\">\n          <ul class=\"d-flex list-style-none\">\n              <li class=\"ml-2\">\n                <a href=\"/features\" class=\"js-selected-navigation-item HeaderNavlink px-0 py-2 m-0\" data-ga-click=\"Header, click, Nav menu - item:features\" data-selected-links=\"/features /features/project-management /features/code-review /features/project-management /features/integrations /features\">\n                  Features\n</a>              </li>\n              <li class=\"ml-4\">\n                <a href=\"/business\" class=\"js-selected-navigation-item HeaderNavlink px-0 py-2 m-0\" data-ga-click=\"Header, click, Nav menu - item:business\" data-selected-links=\"/business /business/security /business/customers /business\">\n                  Business\n</a>              </li>\n\n              <li class=\"ml-4\">\n                <a href=\"/explore\" class=\"js-selected-navigation-item HeaderNavlink px-0 py-2 m-0\" data-ga-click=\"Header, click, Nav menu - item:explore\" data-selected-links=\"/explore /trending /trending/developers /integrations /integrations/feature/code /integrations/feature/collaborate /integrations/feature/ship showcases showcases_search showcases_landing /explore\">\n                  Explore\n</a>              </li>\n\n              <li class=\"ml-4\">\n                    <a href=\"/marketplace\" class=\"js-selected-navigation-item HeaderNavlink px-0 py-2 m-0\" data-ga-click=\"Header, click, Nav menu - item:marketplace\" data-selected-links=\" /marketplace\">\n                      Marketplace\n</a>              </li>\n              <li class=\"ml-4\">\n                <a href=\"/pricing\" class=\"js-selected-navigation-item HeaderNavlink px-0 py-2 m-0\" data-ga-click=\"Header, click, Nav menu - item:pricing\" data-selected-links=\"/pricing /pricing/developer /pricing/team /pricing/business-hosted /pricing/business-enterprise /pricing\">\n                  Pricing\n</a>              </li>\n          </ul>\n        </nav>\n\n      <div class=\"d-flex\">\n          <div class=\"d-lg-flex flex-items-center mr-3\">\n            <div class=\"header-search scoped-search site-scoped-search js-site-search\" role=\"search\">\n  <!-- '\"` --><!-- </textarea></xmp> --></option></form><form accept-charset=\"UTF-8\" action=\"/bashnick/arules_shared/search\" class=\"js-site-search-form\" data-scoped-search-url=\"/bashnick/arules_shared/search\" data-unscoped-search-url=\"/search\" method=\"get\"><div style=\"margin:0;padding:0;display:inline\"><input name=\"utf8\" type=\"hidden\" value=\"&#x2713;\" /></div>\n    <label class=\"form-control header-search-wrapper js-chromeless-input-container\">\n        <a href=\"/bashnick/arules_shared/blob/master/src/images/tree_I.PNG\" class=\"header-search-scope no-underline\">This repository</a>\n      <input type=\"text\"\n        class=\"form-control header-search-input js-site-search-focus js-site-search-field is-clearable\"\n        data-hotkey=\"s\"\n        name=\"q\"\n        value=\"\"\n        placeholder=\"Search\"\n        aria-label=\"Search this repository\"\n        data-unscoped-placeholder=\"Search GitHub\"\n        data-scoped-placeholder=\"Search\"\n        autocapitalize=\"off\">\n        <input type=\"hidden\" class=\"js-site-search-type-field\" name=\"type\" >\n    </label>\n</form></div>\n\n          </div>\n\n        <span class=\"d-inline-block\">\n            <div class=\"HeaderNavlink px-0 py-2 m-0\">\n              <a class=\"text-bold text-white no-underline\" href=\"/login?return_to=%2Fbashnick%2Farules_shared%2Fblob%2Fmaster%2Fsrc%2Fimages%2Ftree_I.PNG\" data-ga-click=\"(Logged out) Header, clicked Sign in, text:sign-in\">Sign in</a>\n                <span class=\"text-gray\">or</span>\n                <a class=\"text-bold text-white no-underline\" href=\"/join?source=header-repo\" data-ga-click=\"(Logged out) Header, clicked Sign up, text:sign-up\">Sign up</a>\n            </div>\n        </span>\n      </div>\n    </div>\n  </div>\n</header>\n\n  </div>\n\n  <div id=\"start-of-content\" class=\"show-on-focus\"></div>\n\n    <div id=\"js-flash-container\">\n</div>\n\n\n\n  <div role=\"main\" class=\"application-main \">\n        <div itemscope itemtype=\"http://schema.org/SoftwareSourceCode\" class=\"\">\n    <div id=\"js-repo-pjax-container\" data-pjax-container >\n      \n\n\n\n\n\n\n\n  <div class=\"pagehead repohead instapaper_ignore readability-menu experiment-repo-nav  \">\n    <div class=\"repohead-details-container clearfix container\">\n\n      <ul class=\"pagehead-actions\">\n  <li>\n      <a href=\"/login?return_to=%2Fbashnick%2Farules_shared\"\n    class=\"btn btn-sm btn-with-count tooltipped tooltipped-n\"\n    aria-label=\"You must be signed in to watch a repository\" rel=\"nofollow\">\n    <svg aria-hidden=\"true\" class=\"octicon octicon-eye\" height=\"16\" version=\"1.1\" viewBox=\"0 0 16 16\" width=\"16\"><path fill-rule=\"evenodd\" d=\"M8.06 2C3 2 0 8 0 8s3 6 8.06 6C13 14 16 8 16 8s-3-6-7.94-6zM8 12c-2.2 0-4-1.78-4-4 0-2.2 1.8-4 4-4 2.22 0 4 1.8 4 4 0 2.22-1.78 4-4 4zm2-4c0 1.11-.89 2-2 2-1.11 0-2-.89-2-2 0-1.11.89-2 2-2 1.11 0 2 .89 2 2z\"/></svg>\n    Watch\n  </a>\n  <a class=\"social-count\" href=\"/bashnick/arules_shared/watchers\"\n     aria-label=\"1 user is watching this repository\">\n    1\n  </a>\n\n  </li>\n\n  <li>\n      <a href=\"/login?return_to=%2Fbashnick%2Farules_shared\"\n    class=\"btn btn-sm btn-with-count tooltipped tooltipped-n\"\n    aria-label=\"You must be signed in to star a repository\" rel=\"nofollow\">\n    <svg aria-hidden=\"true\" class=\"octicon octicon-star\" height=\"16\" version=\"1.1\" viewBox=\"0 0 14 16\" width=\"14\"><path fill-rule=\"evenodd\" d=\"M14 6l-4.9-.64L7 1 4.9 5.36 0 6l3.6 3.26L2.67 14 7 11.67 11.33 14l-.93-4.74z\"/></svg>\n    Star\n  </a>\n\n    <a class=\"social-count js-social-count\" href=\"/bashnick/arules_shared/stargazers\"\n      aria-label=\"0 users starred this repository\">\n      0\n    </a>\n\n  </li>\n\n  <li>\n      <a href=\"/login?return_to=%2Fbashnick%2Farules_shared\"\n        class=\"btn btn-sm btn-with-count tooltipped tooltipped-n\"\n        aria-label=\"You must be signed in to fork a repository\" rel=\"nofollow\">\n        <svg aria-hidden=\"true\" class=\"octicon octicon-repo-forked\" height=\"16\" version=\"1.1\" viewBox=\"0 0 10 16\" width=\"10\"><path fill-rule=\"evenodd\" d=\"M8 1a1.993 1.993 0 0 0-1 3.72V6L5 8 3 6V4.72A1.993 1.993 0 0 0 2 1a1.993 1.993 0 0 0-1 3.72V6.5l3 3v1.78A1.993 1.993 0 0 0 5 15a1.993 1.993 0 0 0 1-3.72V9.5l3-3V4.72A1.993 1.993 0 0 0 8 1zM2 4.2C1.34 4.2.8 3.65.8 3c0-.65.55-1.2 1.2-1.2.65 0 1.2.55 1.2 1.2 0 .65-.55 1.2-1.2 1.2zm3 10c-.66 0-1.2-.55-1.2-1.2 0-.65.55-1.2 1.2-1.2.65 0 1.2.55 1.2 1.2 0 .65-.55 1.2-1.2 1.2zm3-10c-.66 0-1.2-.55-1.2-1.2 0-.65.55-1.2 1.2-1.2.65 0 1.2.55 1.2 1.2 0 .65-.55 1.2-1.2 1.2z\"/></svg>\n        Fork\n      </a>\n\n    <a href=\"/bashnick/arules_shared/network\" class=\"social-count\"\n       aria-label=\"0 users forked this repository\">\n      0\n    </a>\n  </li>\n</ul>\n\n      <h1 class=\"public \">\n  <svg aria-hidden=\"true\" class=\"octicon octicon-repo\" height=\"16\" version=\"1.1\" viewBox=\"0 0 12 16\" width=\"12\"><path fill-rule=\"evenodd\" d=\"M4 9H3V8h1v1zm0-3H3v1h1V6zm0-2H3v1h1V4zm0-2H3v1h1V2zm8-1v12c0 .55-.45 1-1 1H6v2l-1.5-1.5L3 16v-2H1c-.55 0-1-.45-1-1V1c0-.55.45-1 1-1h10c.55 0 1 .45 1 1zm-1 10H1v2h2v-1h3v1h5v-2zm0-10H2v9h9V1z\"/></svg>\n  <span class=\"author\" itemprop=\"author\"><a href=\"/bashnick\" class=\"url fn\" rel=\"author\">bashnick</a></span><!--\n--><span class=\"path-divider\">/</span><!--\n--><strong itemprop=\"name\"><a href=\"/bashnick/arules_shared\" data-pjax=\"#js-repo-pjax-container\">arules_shared</a></strong>\n\n</h1>\n\n    </div>\n    \n<nav class=\"reponav js-repo-nav js-sidenav-container-pjax container\"\n     itemscope\n     itemtype=\"http://schema.org/BreadcrumbList\"\n     role=\"navigation\"\n     data-pjax=\"#js-repo-pjax-container\">\n\n  <span itemscope itemtype=\"http://schema.org/ListItem\" itemprop=\"itemListElement\">\n    <a href=\"/bashnick/arules_shared\" class=\"js-selected-navigation-item selected reponav-item\" data-hotkey=\"g c\" data-selected-links=\"repo_source repo_downloads repo_commits repo_releases repo_tags repo_branches repo_packages /bashnick/arules_shared\" itemprop=\"url\">\n      <svg aria-hidden=\"true\" class=\"octicon octicon-code\" height=\"16\" version=\"1.1\" viewBox=\"0 0 14 16\" width=\"14\"><path fill-rule=\"evenodd\" d=\"M9.5 3L8 4.5 11.5 8 8 11.5 9.5 13 14 8 9.5 3zm-5 0L0 8l4.5 5L6 11.5 2.5 8 6 4.5 4.5 3z\"/></svg>\n      <span itemprop=\"name\">Code</span>\n      <meta itemprop=\"position\" content=\"1\">\n</a>  </span>\n\n    <span itemscope itemtype=\"http://schema.org/ListItem\" itemprop=\"itemListElement\">\n      <a href=\"/bashnick/arules_shared/issues\" class=\"js-selected-navigation-item reponav-item\" data-hotkey=\"g i\" data-selected-links=\"repo_issues repo_labels repo_milestones /bashnick/arules_shared/issues\" itemprop=\"url\">\n        <svg aria-hidden=\"true\" class=\"octicon octicon-issue-opened\" height=\"16\" version=\"1.1\" viewBox=\"0 0 14 16\" width=\"14\"><path fill-rule=\"evenodd\" d=\"M7 2.3c3.14 0 5.7 2.56 5.7 5.7s-2.56 5.7-5.7 5.7A5.71 5.71 0 0 1 1.3 8c0-3.14 2.56-5.7 5.7-5.7zM7 1C3.14 1 0 4.14 0 8s3.14 7 7 7 7-3.14 7-7-3.14-7-7-7zm1 3H6v5h2V4zm0 6H6v2h2v-2z\"/></svg>\n        <span itemprop=\"name\">Issues</span>\n        <span class=\"Counter\">0</span>\n        <meta itemprop=\"position\" content=\"2\">\n</a>    </span>\n\n  <span itemscope itemtype=\"http://schema.org/ListItem\" itemprop=\"itemListElement\">\n    <a href=\"/bashnick/arules_shared/pulls\" class=\"js-selected-navigation-item reponav-item\" data-hotkey=\"g p\" data-selected-links=\"repo_pulls checks /bashnick/arules_shared/pulls\" itemprop=\"url\">\n      <svg aria-hidden=\"true\" class=\"octicon octicon-git-pull-request\" height=\"16\" version=\"1.1\" viewBox=\"0 0 12 16\" width=\"12\"><path fill-rule=\"evenodd\" d=\"M11 11.28V5c-.03-.78-.34-1.47-.94-2.06C9.46 2.35 8.78 2.03 8 2H7V0L4 3l3 3V4h1c.27.02.48.11.69.31.21.2.3.42.31.69v6.28A1.993 1.993 0 0 0 10 15a1.993 1.993 0 0 0 1-3.72zm-1 2.92c-.66 0-1.2-.55-1.2-1.2 0-.65.55-1.2 1.2-1.2.65 0 1.2.55 1.2 1.2 0 .65-.55 1.2-1.2 1.2zM4 3c0-1.11-.89-2-2-2a1.993 1.993 0 0 0-1 3.72v6.56A1.993 1.993 0 0 0 2 15a1.993 1.993 0 0 0 1-3.72V4.72c.59-.34 1-.98 1-1.72zm-.8 10c0 .66-.55 1.2-1.2 1.2-.65 0-1.2-.55-1.2-1.2 0-.65.55-1.2 1.2-1.2.65 0 1.2.55 1.2 1.2zM2 4.2C1.34 4.2.8 3.65.8 3c0-.65.55-1.2 1.2-1.2.65 0 1.2.55 1.2 1.2 0 .65-.55 1.2-1.2 1.2z\"/></svg>\n      <span itemprop=\"name\">Pull requests</span>\n      <span class=\"Counter\">0</span>\n      <meta itemprop=\"position\" content=\"3\">\n</a>  </span>\n\n    <a href=\"/bashnick/arules_shared/projects\" class=\"js-selected-navigation-item reponav-item\" data-hotkey=\"g b\" data-selected-links=\"repo_projects new_repo_project repo_project /bashnick/arules_shared/projects\">\n      <svg aria-hidden=\"true\" class=\"octicon octicon-project\" height=\"16\" version=\"1.1\" viewBox=\"0 0 15 16\" width=\"15\"><path fill-rule=\"evenodd\" d=\"M10 12h3V2h-3v10zm-4-2h3V2H6v8zm-4 4h3V2H2v12zm-1 1h13V1H1v14zM14 0H1a1 1 0 0 0-1 1v14a1 1 0 0 0 1 1h13a1 1 0 0 0 1-1V1a1 1 0 0 0-1-1z\"/></svg>\n      Projects\n      <span class=\"Counter\" >0</span>\n</a>\n\n\n  <a href=\"/bashnick/arules_shared/pulse\" class=\"js-selected-navigation-item reponav-item\" data-selected-links=\"repo_graphs repo_contributors dependency_graph pulse /bashnick/arules_shared/pulse\">\n    <svg aria-hidden=\"true\" class=\"octicon octicon-graph\" height=\"16\" version=\"1.1\" viewBox=\"0 0 16 16\" width=\"16\"><path fill-rule=\"evenodd\" d=\"M16 14v1H0V0h1v14h15zM5 13H3V8h2v5zm4 0H7V3h2v10zm4 0h-2V6h2v7z\"/></svg>\n    Insights\n</a>\n\n</nav>\n\n\n  </div>\n\n<div class=\"container new-discussion-timeline experiment-repo-nav  \">\n  <div class=\"repository-content \">\n\n    \n  <a href=\"/bashnick/arules_shared/blob/5f6620603ea4c183835464017fb930b82d69a787/src/images/tree_I.PNG\" class=\"d-none js-permalink-shortcut\" data-hotkey=\"y\">Permalink</a>\n\n  <!-- blob contrib key: blob_contributors:v21:9a0a4539a47746381a38053077680289 -->\n\n  <div class=\"file-navigation\">\n    \n<div class=\"select-menu branch-select-menu js-menu-container js-select-menu float-left\">\n  <button class=\" btn btn-sm select-menu-button js-menu-target css-truncate\" data-hotkey=\"w\"\n    \n    type=\"button\" aria-label=\"Switch branches or tags\" aria-expanded=\"false\" aria-haspopup=\"true\">\n      <i>Branch:</i>\n      <span class=\"js-select-button css-truncate-target\">master</span>\n  </button>\n\n  <div class=\"select-menu-modal-holder js-menu-content js-navigation-container\" data-pjax>\n\n    <div class=\"select-menu-modal\">\n      <div class=\"select-menu-header\">\n        <svg aria-label=\"Close\" class=\"octicon octicon-x js-menu-close\" height=\"16\" role=\"img\" version=\"1.1\" viewBox=\"0 0 12 16\" width=\"12\"><path fill-rule=\"evenodd\" d=\"M7.48 8l3.75 3.75-1.48 1.48L6 9.48l-3.75 3.75-1.48-1.48L4.52 8 .77 4.25l1.48-1.48L6 6.52l3.75-3.75 1.48 1.48z\"/></svg>\n        <span class=\"select-menu-title\">Switch branches/tags</span>\n      </div>\n\n      <div class=\"select-menu-filters\">\n        <div class=\"select-menu-text-filter\">\n          <input type=\"text\" aria-label=\"Filter branches/tags\" id=\"context-commitish-filter-field\" class=\"form-control js-filterable-field js-navigation-enable\" placeholder=\"Filter branches/tags\">\n        </div>\n        <div class=\"select-menu-tabs\">\n          <ul>\n            <li class=\"select-menu-tab\">\n              <a href=\"#\" data-tab-filter=\"branches\" data-filter-placeholder=\"Filter branches/tags\" class=\"js-select-menu-tab\" role=\"tab\">Branches</a>\n            </li>\n            <li class=\"select-menu-tab\">\n              <a href=\"#\" data-tab-filter=\"tags\" data-filter-placeholder=\"Find a tag…\" class=\"js-select-menu-tab\" role=\"tab\">Tags</a>\n            </li>\n          </ul>\n        </div>\n      </div>\n\n      <div class=\"select-menu-list select-menu-tab-bucket js-select-menu-tab-bucket\" data-tab-filter=\"branches\" role=\"menu\">\n\n        <div data-filterable-for=\"context-commitish-filter-field\" data-filterable-type=\"substring\">\n\n\n            <a class=\"select-menu-item js-navigation-item js-navigation-open selected\"\n               href=\"/bashnick/arules_shared/blob/master/src/images/tree_I.PNG\"\n               data-name=\"master\"\n               data-skip-pjax=\"true\"\n               rel=\"nofollow\">\n              <svg aria-hidden=\"true\" class=\"octicon octicon-check select-menu-item-icon\" height=\"16\" version=\"1.1\" viewBox=\"0 0 12 16\" width=\"12\"><path fill-rule=\"evenodd\" d=\"M12 5l-8 8-4-4 1.5-1.5L4 10l6.5-6.5z\"/></svg>\n              <span class=\"select-menu-item-text css-truncate-target js-select-menu-filter-text\">\n                master\n              </span>\n            </a>\n        </div>\n\n          <div class=\"select-menu-no-results\">Nothing to show</div>\n      </div>\n\n      <div class=\"select-menu-list select-menu-tab-bucket js-select-menu-tab-bucket\" data-tab-filter=\"tags\">\n        <div data-filterable-for=\"context-commitish-filter-field\" data-filterable-type=\"substring\">\n\n\n        </div>\n\n        <div class=\"select-menu-no-results\">Nothing to show</div>\n      </div>\n\n    </div>\n  </div>\n</div>\n\n    <div class=\"BtnGroup float-right\">\n      <a href=\"/bashnick/arules_shared/find/master\"\n            class=\"js-pjax-capture-input btn btn-sm BtnGroup-item\"\n            data-pjax\n            data-hotkey=\"t\">\n        Find file\n      </a>\n      <clipboard-copy\n            for=\"blob-path\"\n            role=\"button\"\n            aria-label=\"Copy file path to clipboard\"\n            class=\"btn btn-sm BtnGroup-item tooltipped tooltipped-s\"\n            data-copied-hint=\"Copied!\">\n        Copy path\n      </clipboard-copy>\n    </div>\n    <div id=\"blob-path\" class=\"breadcrumb\">\n      <span class=\"repo-root js-repo-root\"><span class=\"js-path-segment\"><a href=\"/bashnick/arules_shared\" data-pjax=\"true\"><span>arules_shared</span></a></span></span><span class=\"separator\">/</span><span class=\"js-path-segment\"><a href=\"/bashnick/arules_shared/tree/master/src\" data-pjax=\"true\"><span>src</span></a></span><span class=\"separator\">/</span><span class=\"js-path-segment\"><a href=\"/bashnick/arules_shared/tree/master/src/images\" data-pjax=\"true\"><span>images</span></a></span><span class=\"separator\">/</span><strong class=\"final-path\">tree_I.PNG</strong>\n    </div>\n  </div>\n\n\n  \n  <div class=\"commit-tease\">\n      <span class=\"float-right\">\n        <a class=\"commit-tease-sha\" href=\"/bashnick/arules_shared/commit/5f6620603ea4c183835464017fb930b82d69a787\" data-pjax>\n          5f66206\n        </a>\n        <relative-time datetime=\"2018-03-09T11:26:27Z\">Mar 9, 2018</relative-time>\n      </span>\n      <div>\n        <img alt=\"@bashnick\" class=\"avatar\" height=\"20\" src=\"https://avatars0.githubusercontent.com/u/17045099?s=40&amp;v=4\" width=\"20\" />\n        <a href=\"/bashnick\" class=\"user-mention\" rel=\"author\">bashnick</a>\n          <a href=\"/bashnick/arules_shared/commit/5f6620603ea4c183835464017fb930b82d69a787\" class=\"message\" data-pjax=\"true\" title=\"update Apriory algo\">update Apriory algo</a>\n      </div>\n\n    <div class=\"commit-tease-contributors\">\n      <button type=\"button\" class=\"btn-link muted-link contributors-toggle\" data-facebox=\"#blob_contributors_box\">\n        <strong>1</strong>\n         contributor\n      </button>\n      \n    </div>\n\n    <div id=\"blob_contributors_box\" style=\"display:none\">\n      <h2 class=\"facebox-header\" data-facebox-id=\"facebox-header\">Users who have contributed to this file</h2>\n      <ul class=\"facebox-user-list\" data-facebox-id=\"facebox-description\">\n          <li class=\"facebox-user-list-item\">\n            <img alt=\"@bashnick\" height=\"24\" src=\"https://avatars1.githubusercontent.com/u/17045099?s=48&amp;v=4\" width=\"24\" />\n            <a href=\"/bashnick\">bashnick</a>\n          </li>\n      </ul>\n    </div>\n  </div>\n\n\n  <div class=\"file\">\n    <div class=\"file-header\">\n  <div class=\"file-actions\">\n\n    <div class=\"BtnGroup\">\n      <a href=\"/bashnick/arules_shared/raw/master/src/images/tree_I.PNG\" class=\"btn btn-sm BtnGroup-item\" id=\"raw-url\">Download</a>\n      <a href=\"/bashnick/arules_shared/commits/master/src/images/tree_I.PNG\" class=\"btn btn-sm BtnGroup-item\" rel=\"nofollow\">History</a>\n    </div>\n\n\n        <!-- '\"` --><!-- </textarea></xmp> --></option></form><form accept-charset=\"UTF-8\" action=\"/bashnick/arules_shared/delete/master/src/images/tree_I.PNG\" class=\"inline-form\" method=\"post\"><div style=\"margin:0;padding:0;display:inline\"><input name=\"utf8\" type=\"hidden\" value=\"&#x2713;\" /><input name=\"authenticity_token\" type=\"hidden\" value=\"mDCDb/F2wEHmvzbepG2TRrgpVnuXjFD2ObpppVoq2RuqtQi+nCnG3W79D1sPSgX4xd/qE8fqmyMNLXf/fXW3HQ==\" /></div>\n          <button class=\"btn-octicon btn-octicon-danger tooltipped tooltipped-nw\" type=\"submit\"\n            aria-label=\"You must be signed in to make or propose changes\" data-disable-with>\n            <svg aria-hidden=\"true\" class=\"octicon octicon-trashcan\" height=\"16\" version=\"1.1\" viewBox=\"0 0 12 16\" width=\"12\"><path fill-rule=\"evenodd\" d=\"M11 2H9c0-.55-.45-1-1-1H5c-.55 0-1 .45-1 1H2c-.55 0-1 .45-1 1v1c0 .55.45 1 1 1v9c0 .55.45 1 1 1h7c.55 0 1-.45 1-1V5c.55 0 1-.45 1-1V3c0-.55-.45-1-1-1zm-1 12H3V5h1v8h1V5h1v8h1V5h1v8h1V5h1v9zm1-10H2V3h9v1z\"/></svg>\n          </button>\n</form>  </div>\n\n  <div class=\"file-info\">\n    64.6 KB\n  </div>\n</div>\n\n    \n\n  <div itemprop=\"text\" class=\"blob-wrapper data type-text\">\n      <div class=\"image\">\n          <span class=\"border-wrap\"><img src=\"/bashnick/arules_shared/blob/master/src/images/tree_I.PNG?raw=true\" alt=\"tree_I.PNG\"></span>\n      </div>\n  </div>\n\n  </div>\n\n  <button type=\"button\" data-facebox=\"#jump-to-line\" data-facebox-class=\"linejump\" data-hotkey=\"l\" class=\"d-none\">Jump to Line</button>\n  <div id=\"jump-to-line\" style=\"display:none\">\n    <!-- '\"` --><!-- </textarea></xmp> --></option></form><form accept-charset=\"UTF-8\" action=\"\" class=\"js-jump-to-line-form\" method=\"get\"><div style=\"margin:0;padding:0;display:inline\"><input name=\"utf8\" type=\"hidden\" value=\"&#x2713;\" /></div>\n      <input class=\"form-control linejump-input js-jump-to-line-field\" type=\"text\" placeholder=\"Jump to line&hellip;\" aria-label=\"Jump to line\" autofocus>\n      <button type=\"submit\" class=\"btn\">Go</button>\n</form>  </div>\n\n\n  </div>\n  <div class=\"modal-backdrop js-touch-events\"></div>\n</div>\n\n    </div>\n  </div>\n\n  </div>\n\n      \n<div class=\"footer container-lg px-3\" role=\"contentinfo\">\n  <div class=\"position-relative d-flex flex-justify-between py-6 mt-6 f6 text-gray border-top border-gray-light \">\n    <ul class=\"list-style-none d-flex flex-wrap \">\n      <li class=\"mr-3\">&copy; 2018 <span title=\"0.20897s from unicorn-3866261282-ll1gl\">GitHub</span>, Inc.</li>\n        <li class=\"mr-3\"><a href=\"https://help.github.com/articles/github-terms-of-service/\" data-ga-click=\"Footer, go to terms, text:terms\">Terms</a></li>\n        <li class=\"mr-3\"><a href=\"https://github.com/site/privacy\" data-ga-click=\"Footer, go to privacy, text:privacy\">Privacy</a></li>\n        <li class=\"mr-3\"><a href=\"https://help.github.com/articles/github-security/\" data-ga-click=\"Footer, go to security, text:security\">Security</a></li>\n        <li class=\"mr-3\"><a href=\"https://status.github.com/\" data-ga-click=\"Footer, go to status, text:status\">Status</a></li>\n        <li><a href=\"https://help.github.com\" data-ga-click=\"Footer, go to help, text:help\">Help</a></li>\n    </ul>\n\n    <a href=\"https://github.com\" aria-label=\"Homepage\" class=\"footer-octicon\" title=\"GitHub\">\n      <svg aria-hidden=\"true\" class=\"octicon octicon-mark-github\" height=\"24\" version=\"1.1\" viewBox=\"0 0 16 16\" width=\"24\"><path fill-rule=\"evenodd\" d=\"M8 0C3.58 0 0 3.58 0 8c0 3.54 2.29 6.53 5.47 7.59.4.07.55-.17.55-.38 0-.19-.01-.82-.01-1.49-2.01.37-2.53-.49-2.69-.94-.09-.23-.48-.94-.82-1.13-.28-.15-.68-.52-.01-.53.63-.01 1.08.58 1.23.82.72 1.21 1.87.87 2.33.66.07-.52.28-.87.51-1.07-1.78-.2-3.64-.89-3.64-3.95 0-.87.31-1.59.82-2.15-.08-.2-.36-1.02.08-2.12 0 0 .67-.21 2.2.82.64-.18 1.32-.27 2-.27.68 0 1.36.09 2 .27 1.53-1.04 2.2-.82 2.2-.82.44 1.1.16 1.92.08 2.12.51.56.82 1.27.82 2.15 0 3.07-1.87 3.75-3.65 3.95.29.25.54.73.54 1.48 0 1.07-.01 1.93-.01 2.2 0 .21.15.46.55.38A8.013 8.013 0 0 0 16 8c0-4.42-3.58-8-8-8z\"/></svg>\n</a>\n    <ul class=\"list-style-none d-flex flex-wrap \">\n        <li class=\"mr-3\"><a href=\"https://github.com/contact\" data-ga-click=\"Footer, go to contact, text:contact\">Contact GitHub</a></li>\n      <li class=\"mr-3\"><a href=\"https://developer.github.com\" data-ga-click=\"Footer, go to api, text:api\">API</a></li>\n      <li class=\"mr-3\"><a href=\"https://training.github.com\" data-ga-click=\"Footer, go to training, text:training\">Training</a></li>\n      <li class=\"mr-3\"><a href=\"https://shop.github.com\" data-ga-click=\"Footer, go to shop, text:shop\">Shop</a></li>\n        <li class=\"mr-3\"><a href=\"https://github.com/blog\" data-ga-click=\"Footer, go to blog, text:blog\">Blog</a></li>\n        <li><a href=\"https://github.com/about\" data-ga-click=\"Footer, go to about, text:about\">About</a></li>\n\n    </ul>\n  </div>\n</div>\n\n\n\n  <div id=\"ajax-error-message\" class=\"ajax-error-message flash flash-error\">\n    <svg aria-hidden=\"true\" class=\"octicon octicon-alert\" height=\"16\" version=\"1.1\" viewBox=\"0 0 16 16\" width=\"16\"><path fill-rule=\"evenodd\" d=\"M8.865 1.52c-.18-.31-.51-.5-.87-.5s-.69.19-.87.5L.275 13.5c-.18.31-.18.69 0 1 .19.31.52.5.87.5h13.7c.36 0 .69-.19.86-.5.17-.31.18-.69.01-1L8.865 1.52zM8.995 13h-2v-2h2v2zm0-3h-2V6h2v4z\"/></svg>\n    <button type=\"button\" class=\"flash-close js-ajax-error-dismiss\" aria-label=\"Dismiss error\">\n      <svg aria-hidden=\"true\" class=\"octicon octicon-x\" height=\"16\" version=\"1.1\" viewBox=\"0 0 12 16\" width=\"12\"><path fill-rule=\"evenodd\" d=\"M7.48 8l3.75 3.75-1.48 1.48L6 9.48l-3.75 3.75-1.48-1.48L4.52 8 .77 4.25l1.48-1.48L6 6.52l3.75-3.75 1.48 1.48z\"/></svg>\n    </button>\n    You can't perform that action at this time.\n  </div>\n\n\n    <script crossorigin=\"anonymous\" src=\"https://assets-cdn.github.com/assets/compat-2420ba9258bd.js\" type=\"application/javascript\"></script>\n    <script crossorigin=\"anonymous\" src=\"https://assets-cdn.github.com/assets/frameworks-3a88f2643d5e.js\" type=\"application/javascript\"></script>\n    \n    <script async=\"async\" crossorigin=\"anonymous\" src=\"https://assets-cdn.github.com/assets/github-c8fde1fa9bc9.js\" type=\"application/javascript\"></script>\n    \n    \n    \n    \n  <div class=\"js-stale-session-flash stale-session-flash flash flash-warn flash-banner d-none\">\n    <svg aria-hidden=\"true\" class=\"octicon octicon-alert\" height=\"16\" version=\"1.1\" viewBox=\"0 0 16 16\" width=\"16\"><path fill-rule=\"evenodd\" d=\"M8.865 1.52c-.18-.31-.51-.5-.87-.5s-.69.19-.87.5L.275 13.5c-.18.31-.18.69 0 1 .19.31.52.5.87.5h13.7c.36 0 .69-.19.86-.5.17-.31.18-.69.01-1L8.865 1.52zM8.995 13h-2v-2h2v2zm0-3h-2V6h2v4z\"/></svg>\n    <span class=\"signed-in-tab-flash\">You signed in with another tab or window. <a href=\"\">Reload</a> to refresh your session.</span>\n    <span class=\"signed-out-tab-flash\">You signed out in another tab or window. <a href=\"\">Reload</a> to refresh your session.</span>\n  </div>\n  <div class=\"facebox\" id=\"facebox\" style=\"display:none;\">\n  <div class=\"facebox-popup\">\n    <div class=\"facebox-content\" role=\"dialog\" aria-labelledby=\"facebox-header\" aria-describedby=\"facebox-description\">\n    </div>\n    <button type=\"button\" class=\"facebox-close js-facebox-close\" aria-label=\"Close modal\">\n      <svg aria-hidden=\"true\" class=\"octicon octicon-x\" height=\"16\" version=\"1.1\" viewBox=\"0 0 12 16\" width=\"12\"><path fill-rule=\"evenodd\" d=\"M7.48 8l3.75 3.75-1.48 1.48L6 9.48l-3.75 3.75-1.48-1.48L4.52 8 .77 4.25l1.48-1.48L6 6.52l3.75-3.75 1.48 1.48z\"/></svg>\n    </button>\n  </div>\n</div>\n\n  \n\n  </body>\n</html>\n\n",
      "text/plain": [
       "<IPython.core.display.Image object>"
      ]
     },
     "execution_count": 4,
=======
      "text/html": [
       "<div>\n",
       "<style scoped>\n",
       "    .dataframe tbody tr th:only-of-type {\n",
       "        vertical-align: middle;\n",
       "    }\n",
       "\n",
       "    .dataframe tbody tr th {\n",
       "        vertical-align: top;\n",
       "    }\n",
       "\n",
       "    .dataframe thead th {\n",
       "        text-align: right;\n",
       "    }\n",
       "</style>\n",
       "<table border=\"1\" class=\"dataframe\">\n",
       "  <thead>\n",
       "    <tr style=\"text-align: right;\">\n",
       "      <th></th>\n",
       "      <th>0</th>\n",
       "      <th>1</th>\n",
       "      <th>2</th>\n",
       "      <th>3</th>\n",
       "      <th>4</th>\n",
       "      <th>5</th>\n",
       "      <th>6</th>\n",
       "      <th>7</th>\n",
       "      <th>8</th>\n",
       "      <th>9</th>\n",
       "      <th>10</th>\n",
       "      <th>11</th>\n",
       "      <th>12</th>\n",
       "      <th>13</th>\n",
       "      <th>14</th>\n",
       "      <th>15</th>\n",
       "      <th>16</th>\n",
       "      <th>17</th>\n",
       "      <th>18</th>\n",
       "      <th>19</th>\n",
       "    </tr>\n",
       "  </thead>\n",
       "  <tbody>\n",
       "    <tr>\n",
       "      <th>0</th>\n",
       "      <td>shrimp</td>\n",
       "      <td>almonds</td>\n",
       "      <td>avocado</td>\n",
       "      <td>vegetables mix</td>\n",
       "      <td>green grapes</td>\n",
       "      <td>whole weat flour</td>\n",
       "      <td>yams</td>\n",
       "      <td>cottage cheese</td>\n",
       "      <td>energy drink</td>\n",
       "      <td>tomato juice</td>\n",
       "      <td>low fat yogurt</td>\n",
       "      <td>green tea</td>\n",
       "      <td>honey</td>\n",
       "      <td>salad</td>\n",
       "      <td>mineral water</td>\n",
       "      <td>salmon</td>\n",
       "      <td>antioxydant juice</td>\n",
       "      <td>frozen smoothie</td>\n",
       "      <td>spinach</td>\n",
       "      <td>olive oil</td>\n",
       "    </tr>\n",
       "    <tr>\n",
       "      <th>1</th>\n",
       "      <td>burgers</td>\n",
       "      <td>meatballs</td>\n",
       "      <td>eggs</td>\n",
       "      <td>NaN</td>\n",
       "      <td>NaN</td>\n",
       "      <td>NaN</td>\n",
       "      <td>NaN</td>\n",
       "      <td>NaN</td>\n",
       "      <td>NaN</td>\n",
       "      <td>NaN</td>\n",
       "      <td>NaN</td>\n",
       "      <td>NaN</td>\n",
       "      <td>NaN</td>\n",
       "      <td>NaN</td>\n",
       "      <td>NaN</td>\n",
       "      <td>NaN</td>\n",
       "      <td>NaN</td>\n",
       "      <td>NaN</td>\n",
       "      <td>NaN</td>\n",
       "      <td>NaN</td>\n",
       "    </tr>\n",
       "    <tr>\n",
       "      <th>2</th>\n",
       "      <td>chutney</td>\n",
       "      <td>NaN</td>\n",
       "      <td>NaN</td>\n",
       "      <td>NaN</td>\n",
       "      <td>NaN</td>\n",
       "      <td>NaN</td>\n",
       "      <td>NaN</td>\n",
       "      <td>NaN</td>\n",
       "      <td>NaN</td>\n",
       "      <td>NaN</td>\n",
       "      <td>NaN</td>\n",
       "      <td>NaN</td>\n",
       "      <td>NaN</td>\n",
       "      <td>NaN</td>\n",
       "      <td>NaN</td>\n",
       "      <td>NaN</td>\n",
       "      <td>NaN</td>\n",
       "      <td>NaN</td>\n",
       "      <td>NaN</td>\n",
       "      <td>NaN</td>\n",
       "    </tr>\n",
       "    <tr>\n",
       "      <th>3</th>\n",
       "      <td>turkey</td>\n",
       "      <td>avocado</td>\n",
       "      <td>NaN</td>\n",
       "      <td>NaN</td>\n",
       "      <td>NaN</td>\n",
       "      <td>NaN</td>\n",
       "      <td>NaN</td>\n",
       "      <td>NaN</td>\n",
       "      <td>NaN</td>\n",
       "      <td>NaN</td>\n",
       "      <td>NaN</td>\n",
       "      <td>NaN</td>\n",
       "      <td>NaN</td>\n",
       "      <td>NaN</td>\n",
       "      <td>NaN</td>\n",
       "      <td>NaN</td>\n",
       "      <td>NaN</td>\n",
       "      <td>NaN</td>\n",
       "      <td>NaN</td>\n",
       "      <td>NaN</td>\n",
       "    </tr>\n",
       "    <tr>\n",
       "      <th>4</th>\n",
       "      <td>mineral water</td>\n",
       "      <td>milk</td>\n",
       "      <td>energy bar</td>\n",
       "      <td>whole wheat rice</td>\n",
       "      <td>green tea</td>\n",
       "      <td>NaN</td>\n",
       "      <td>NaN</td>\n",
       "      <td>NaN</td>\n",
       "      <td>NaN</td>\n",
       "      <td>NaN</td>\n",
       "      <td>NaN</td>\n",
       "      <td>NaN</td>\n",
       "      <td>NaN</td>\n",
       "      <td>NaN</td>\n",
       "      <td>NaN</td>\n",
       "      <td>NaN</td>\n",
       "      <td>NaN</td>\n",
       "      <td>NaN</td>\n",
       "      <td>NaN</td>\n",
       "      <td>NaN</td>\n",
       "    </tr>\n",
       "  </tbody>\n",
       "</table>\n",
       "</div>"
      ],
      "text/plain": [
       "              0          1           2                 3             4   \\\n",
       "0         shrimp    almonds     avocado    vegetables mix  green grapes   \n",
       "1        burgers  meatballs        eggs               NaN           NaN   \n",
       "2        chutney        NaN         NaN               NaN           NaN   \n",
       "3         turkey    avocado         NaN               NaN           NaN   \n",
       "4  mineral water       milk  energy bar  whole wheat rice     green tea   \n",
       "\n",
       "                 5     6               7             8             9   \\\n",
       "0  whole weat flour  yams  cottage cheese  energy drink  tomato juice   \n",
       "1               NaN   NaN             NaN           NaN           NaN   \n",
       "2               NaN   NaN             NaN           NaN           NaN   \n",
       "3               NaN   NaN             NaN           NaN           NaN   \n",
       "4               NaN   NaN             NaN           NaN           NaN   \n",
       "\n",
       "               10         11     12     13             14      15  \\\n",
       "0  low fat yogurt  green tea  honey  salad  mineral water  salmon   \n",
       "1             NaN        NaN    NaN    NaN            NaN     NaN   \n",
       "2             NaN        NaN    NaN    NaN            NaN     NaN   \n",
       "3             NaN        NaN    NaN    NaN            NaN     NaN   \n",
       "4             NaN        NaN    NaN    NaN            NaN     NaN   \n",
       "\n",
       "                  16               17       18         19  \n",
       "0  antioxydant juice  frozen smoothie  spinach  olive oil  \n",
       "1                NaN              NaN      NaN        NaN  \n",
       "2                NaN              NaN      NaN        NaN  \n",
       "3                NaN              NaN      NaN        NaN  \n",
       "4                NaN              NaN      NaN        NaN  "
      ]
     },
     "execution_count": 35,
>>>>>>> 433ccb5d41fa0d0bb968b063f9801a85a16aa28b
     "metadata": {},
     "output_type": "execute_result"
    }
   ],
   "source": [
<<<<<<< HEAD
    "Image(url='https://github.com/bashnick/arules_shared/blob/master/src/images/tree_I.PNG', embed=True)"
=======
    "# посомтрим на датасет\n",
    "dataset.head()"
>>>>>>> 433ccb5d41fa0d0bb968b063f9801a85a16aa28b
   ]
  },
  {
   "cell_type": "markdown",
   "metadata": {},
   "source": [
<<<<<<< HEAD
    "Итак, рассмотрим Apriori алгоритм.\n",
    "<br>\n",
    "Apriori алгоритм использует следующее утверждение: если $X \\subseteq Y$, то $supp(X) \\geq supp(Y)$. Откуда следуют следующие 2 свойства:\n",
    " -  если $Y$ встречается часто, то любое подмножество $X: X \\subseteq Y$  так же встречается часто\n",
    " -  если $X$ встречается редко, то любое супермножество $Y: Y \\supseteq X$ так же встречается редко\n",
    " \n",
    " \n",
    " \n",
    " </br>"
   ]
  },
  {
   "cell_type": "markdown",
   "metadata": {},
   "source": [
    "Apriory алгоритм по-уровнево проходит по префиксному дереву и рассчитывает частоту встрчаемости подмножеств $X$ в $D$. Таким образом, в соответствии с алгоритмом:\n",
    " -  исключаются редкие подмножества и все их супемножества\n",
    " -  рассчитывается $supp(X)$ для кадого подходящего кандидата $X$ размера $k$ на уровне $k$"
=======
    "Видим, что датасет у нас представляет разреженную матрицу, где в строках у нас набор items в каждой транзакции."
   ]
  },
  {
   "cell_type": "code",
   "execution_count": 36,
   "metadata": {
    "collapsed": true
   },
   "outputs": [],
   "source": [
    "#создаим из них матрицу\n",
    "transactions = []\n",
    "for i in range(0, 7501): \n",
    "    transactions.append([str(dataset.values[i,j]) for j in range(0, 20)])"
>>>>>>> 433ccb5d41fa0d0bb968b063f9801a85a16aa28b
   ]
  },
  {
   "cell_type": "code",
<<<<<<< HEAD
   "execution_count": 5,
   "metadata": {},
   "outputs": [
    {
     "data": {
      "text/plain": [
       "<IPython.core.display.Image object>"
      ]
     },
     "execution_count": 5,
     "metadata": {},
     "output_type": "execute_result"
    }
   ],
   "source": [
    "Image(url='https://github.com/bashnick/arules_shared/blob/master/src/images/tree_2.PNG', embed=True)"
   ]
  },
  {
   "cell_type": "markdown",
   "metadata": {},
   "source": [
    "#### Реализация в Python"
=======
   "execution_count": 99,
   "metadata": {
    "collapsed": true
   },
   "outputs": [],
   "source": [
    "#загружаем apriori\n",
    "import apyori"
   ]
  },
  {
   "cell_type": "code",
   "execution_count": 112,
   "metadata": {
    "collapsed": true
   },
   "outputs": [],
   "source": [
    "# и обучимся правилам. Обратите внимание, что пороговые значения мы вибираем сами в зависимости от того, /\n",
    "# насколкьо \"сильные\" правила мы хотим получит\n",
    "# min_support -- минимальный support для правил (dtype = float).\n",
    "# min_confidence -- минимальное значение confidence для правил (dtype = float)\n",
    "# min_lift -- минимальный lift (dtype = float)\n",
    "# max_length -- максимальная длина itemset (вспоминаем про k-itemset)  (dtype = integer)\n",
    "\n",
    "result = list(apriori(transactions, min_support = 0.003, min_confidence = 0.2, min_lift = 3, min_length = 2))"
>>>>>>> 433ccb5d41fa0d0bb968b063f9801a85a16aa28b
   ]
  },
  {
   "cell_type": "code",
<<<<<<< HEAD
   "execution_count": null,
=======
   "execution_count": 117,
>>>>>>> 433ccb5d41fa0d0bb968b063f9801a85a16aa28b
   "metadata": {
    "collapsed": true
   },
   "outputs": [],
<<<<<<< HEAD
   "source": []
  },
  {
   "cell_type": "code",
   "execution_count": null,
=======
   "source": [
    "# вот с визуализацией в пакете проблемы, точнее геморрой...."
   ]
  },
  {
   "cell_type": "code",
   "execution_count": 101,
>>>>>>> 433ccb5d41fa0d0bb968b063f9801a85a16aa28b
   "metadata": {
    "collapsed": true
   },
   "outputs": [],
<<<<<<< HEAD
   "source": []
  },
  {
   "cell_type": "markdown",
   "metadata": {},
   "source": [
    "#### Реализация в R"
=======
   "source": [
    "import shutil, os "
   ]
  },
  {
   "cell_type": "code",
   "execution_count": 102,
   "metadata": {
    "collapsed": true
   },
   "outputs": [],
   "source": [
    "try:\n",
    "    from StringIO import StringIO\n",
    "except ImportError:\n",
    "    from io import StringIO"
>>>>>>> 433ccb5d41fa0d0bb968b063f9801a85a16aa28b
   ]
  },
  {
   "cell_type": "code",
<<<<<<< HEAD
   "execution_count": null,
=======
   "execution_count": 103,
>>>>>>> 433ccb5d41fa0d0bb968b063f9801a85a16aa28b
   "metadata": {
    "collapsed": true
   },
   "outputs": [],
<<<<<<< HEAD
   "source": []
  },
  {
   "cell_type": "code",
   "execution_count": null,
=======
   "source": [
    "import json #преобразовывать будем в json, используя встроенные в модуль методы"
   ]
  },
  {
   "cell_type": "code",
   "execution_count": 107,
>>>>>>> 433ccb5d41fa0d0bb968b063f9801a85a16aa28b
   "metadata": {
    "collapsed": true
   },
   "outputs": [],
<<<<<<< HEAD
   "source": []
=======
   "source": [
    "output = []\n",
    "for RelationRecord in result:\n",
    "    o = StringIO()\n",
    "    apyori.dump_as_json(RelationRecord, o)\n",
    "    output.append(json.loads(o.getvalue()))\n",
    "data_df = pd.DataFrame(output)"
   ]
  },
  {
   "cell_type": "code",
   "execution_count": 118,
   "metadata": {},
   "outputs": [
    {
     "data": {
      "text/html": [
       "<table border=\"1\" class=\"dataframe\">\n",
       "  <thead>\n",
       "    <tr style=\"text-align: right;\">\n",
       "      <th></th>\n",
       "      <th>items</th>\n",
       "      <th>ordered_statistics</th>\n",
       "      <th>support</th>\n",
       "    </tr>\n",
       "  </thead>\n",
       "  <tbody>\n",
       "    <tr>\n",
       "      <th>0</th>\n",
       "      <td>[chicken, light cream]</td>\n",
       "      <td>[{'items_base': ['light cream'], 'items_add': ['chicken'], 'confidence': 0.29059829059829057, 'lift': 4.84395061728395}]</td>\n",
       "      <td>0.004533</td>\n",
       "    </tr>\n",
       "    <tr>\n",
       "      <th>1</th>\n",
       "      <td>[escalope, mushroom cream sauce]</td>\n",
       "      <td>[{'items_base': ['mushroom cream sauce'], 'items_add': ['escalope'], 'confidence': 0.3006993006993007, 'lift': 3.790832696715049}]</td>\n",
       "      <td>0.005733</td>\n",
       "    </tr>\n",
       "    <tr>\n",
       "      <th>2</th>\n",
       "      <td>[escalope, pasta]</td>\n",
       "      <td>[{'items_base': ['pasta'], 'items_add': ['escalope'], 'confidence': 0.3728813559322034, 'lift': 4.700811850163794}]</td>\n",
       "      <td>0.005866</td>\n",
       "    </tr>\n",
       "    <tr>\n",
       "      <th>3</th>\n",
       "      <td>[fromage blanc, honey]</td>\n",
       "      <td>[{'items_base': ['fromage blanc'], 'items_add': ['honey'], 'confidence': 0.2450980392156863, 'lift': 5.164270764485569}]</td>\n",
       "      <td>0.003333</td>\n",
       "    </tr>\n",
       "    <tr>\n",
       "      <th>4</th>\n",
       "      <td>[ground beef, herb &amp; pepper]</td>\n",
       "      <td>[{'items_base': ['herb &amp; pepper'], 'items_add': ['ground beef'], 'confidence': 0.3234501347708895, 'lift': 3.2919938411349285}]</td>\n",
       "      <td>0.015998</td>\n",
       "    </tr>\n",
       "    <tr>\n",
       "      <th>5</th>\n",
       "      <td>[ground beef, tomato sauce]</td>\n",
       "      <td>[{'items_base': ['tomato sauce'], 'items_add': ['ground beef'], 'confidence': 0.3773584905660377, 'lift': 3.840659481324083}]</td>\n",
       "      <td>0.005333</td>\n",
       "    </tr>\n",
       "    <tr>\n",
       "      <th>6</th>\n",
       "      <td>[light cream, olive oil]</td>\n",
       "      <td>[{'items_base': ['light cream'], 'items_add': ['olive oil'], 'confidence': 0.20512820512820515, 'lift': 3.1147098515519573}]</td>\n",
       "      <td>0.003200</td>\n",
       "    </tr>\n",
       "    <tr>\n",
       "      <th>7</th>\n",
       "      <td>[olive oil, whole wheat pasta]</td>\n",
       "      <td>[{'items_base': ['whole wheat pasta'], 'items_add': ['olive oil'], 'confidence': 0.2714932126696833, 'lift': 4.122410097642296}]</td>\n",
       "      <td>0.007999</td>\n",
       "    </tr>\n",
       "    <tr>\n",
       "      <th>8</th>\n",
       "      <td>[pasta, shrimp]</td>\n",
       "      <td>[{'items_base': ['pasta'], 'items_add': ['shrimp'], 'confidence': 0.3220338983050847, 'lift': 4.506672147735896}]</td>\n",
       "      <td>0.005066</td>\n",
       "    </tr>\n",
       "    <tr>\n",
       "      <th>9</th>\n",
       "      <td>[avocado, milk, spaghetti]</td>\n",
       "      <td>[{'items_base': ['avocado', 'spaghetti'], 'items_add': ['milk'], 'confidence': 0.41666666666666663, 'lift': 3.215449245541838}]</td>\n",
       "      <td>0.003333</td>\n",
       "    </tr>\n",
       "    <tr>\n",
       "      <th>10</th>\n",
       "      <td>[burgers, cake, milk]</td>\n",
       "      <td>[{'items_base': ['cake', 'milk'], 'items_add': ['burgers'], 'confidence': 0.27999999999999997, 'lift': 3.211437308868501}]</td>\n",
       "      <td>0.003733</td>\n",
       "    </tr>\n",
       "    <tr>\n",
       "      <th>11</th>\n",
       "      <td>[burgers, chocolate, turkey]</td>\n",
       "      <td>[{'items_base': ['chocolate', 'turkey'], 'items_add': ['burgers'], 'confidence': 0.27058823529411763, 'lift': 3.1034898363014927}]</td>\n",
       "      <td>0.003066</td>\n",
       "    </tr>\n",
       "    <tr>\n",
       "      <th>12</th>\n",
       "      <td>[burgers, milk, turkey]</td>\n",
       "      <td>[{'items_base': ['milk', 'turkey'], 'items_add': ['burgers'], 'confidence': 0.2823529411764706, 'lift': 3.2384241770102533}]</td>\n",
       "      <td>0.003200</td>\n",
       "    </tr>\n",
       "    <tr>\n",
       "      <th>13</th>\n",
       "      <td>[cake, frozen vegetables, tomatoes]</td>\n",
       "      <td>[{'items_base': ['cake', 'frozen vegetables'], 'items_add': ['tomatoes'], 'confidence': 0.2987012987012987, 'lift': 4.367560314928736}, {'items_base': ['cake', 'tomatoes'], 'items_add': ['frozen vegetables'], 'confidence': 0.36507936507936506, 'lift': 3.8300144300144296}]</td>\n",
       "      <td>0.003066</td>\n",
       "    </tr>\n",
       "    <tr>\n",
       "      <th>14</th>\n",
       "      <td>[cereals, ground beef, spaghetti]</td>\n",
       "      <td>[{'items_base': ['cereals', 'ground beef'], 'items_add': ['spaghetti'], 'confidence': 0.6764705882352942, 'lift': 3.8853031258445188}, {'items_base': ['cereals', 'spaghetti'], 'items_add': ['ground beef'], 'confidence': 0.45999999999999996, 'lift': 4.681763907734057}]</td>\n",
       "      <td>0.003066</td>\n",
       "    </tr>\n",
       "    <tr>\n",
       "      <th>15</th>\n",
       "      <td>[chicken, ground beef, milk]</td>\n",
       "      <td>[{'items_base': ['chicken', 'ground beef'], 'items_add': ['milk'], 'confidence': 0.40845070422535207, 'lift': 3.152046020981858}]</td>\n",
       "      <td>0.003866</td>\n",
       "    </tr>\n",
       "    <tr>\n",
       "      <th>16</th>\n",
       "      <td>[chicken, light cream, nan]</td>\n",
       "      <td>[{'items_base': ['light cream', 'nan'], 'items_add': ['chicken'], 'confidence': 0.29059829059829057, 'lift': 4.84395061728395}]</td>\n",
       "      <td>0.004533</td>\n",
       "    </tr>\n",
       "    <tr>\n",
       "      <th>17</th>\n",
       "      <td>[chicken, milk, olive oil]</td>\n",
       "      <td>[{'items_base': ['chicken', 'milk'], 'items_add': ['olive oil'], 'confidence': 0.24324324324324323, 'lift': 3.693456614509246}, {'items_base': ['chicken', 'olive oil'], 'items_add': ['milk'], 'confidence': 0.5, 'lift': 3.858539094650206}, {'items_base': ['milk', 'olive oil'], 'items_add': ['chicken'], 'confidence': 0.2109375, 'lift': 3.51609375}]</td>\n",
       "      <td>0.003600</td>\n",
       "    </tr>\n",
       "    <tr>\n",
       "      <th>18</th>\n",
       "      <td>[chicken, olive oil, spaghetti]</td>\n",
       "      <td>[{'items_base': ['chicken', 'spaghetti'], 'items_add': ['olive oil'], 'confidence': 0.20155038759689922, 'lift': 3.0603835169318647}]</td>\n",
       "      <td>0.003466</td>\n",
       "    </tr>\n",
       "    <tr>\n",
       "      <th>19</th>\n",
       "      <td>[chocolate, frozen vegetables, shrimp]</td>\n",
       "      <td>[{'items_base': ['chocolate', 'frozen vegetables'], 'items_add': ['shrimp'], 'confidence': 0.23255813953488375, 'lift': 3.2545123221103784}, {'items_base': ['chocolate', 'shrimp'], 'items_add': ['frozen vegetables'], 'confidence': 0.29629629629629634, 'lift': 3.1084175084175087}]</td>\n",
       "      <td>0.005333</td>\n",
       "    </tr>\n",
       "    <tr>\n",
       "      <th>20</th>\n",
       "      <td>[chocolate, ground beef, herb &amp; pepper]</td>\n",
       "      <td>[{'items_base': ['chocolate', 'herb &amp; pepper'], 'items_add': ['ground beef'], 'confidence': 0.4411764705882354, 'lift': 4.4901827759597746}]</td>\n",
       "      <td>0.003999</td>\n",
       "    </tr>\n",
       "    <tr>\n",
       "      <th>21</th>\n",
       "      <td>[chocolate, milk, soup]</td>\n",
       "      <td>[{'items_base': ['chocolate', 'soup'], 'items_add': ['milk'], 'confidence': 0.3947368421052632, 'lift': 3.0462150747238472}]</td>\n",
       "      <td>0.003999</td>\n",
       "    </tr>\n",
       "    <tr>\n",
       "      <th>22</th>\n",
       "      <td>[cooking oil, ground beef, spaghetti]</td>\n",
       "      <td>[{'items_base': ['cooking oil', 'ground beef'], 'items_add': ['spaghetti'], 'confidence': 0.5714285714285714, 'lift': 3.2819951870487856}, {'items_base': ['cooking oil', 'spaghetti'], 'items_add': ['ground beef'], 'confidence': 0.3025210084033613, 'lift': 3.0789824749438446}]</td>\n",
       "      <td>0.004799</td>\n",
       "    </tr>\n",
       "    <tr>\n",
       "      <th>23</th>\n",
       "      <td>[eggs, ground beef, herb &amp; pepper]</td>\n",
       "      <td>[{'items_base': ['eggs', 'ground beef'], 'items_add': ['herb &amp; pepper'], 'confidence': 0.2066666666666667, 'lift': 4.178454627133872}, {'items_base': ['eggs', 'herb &amp; pepper'], 'items_add': ['ground beef'], 'confidence': 0.3297872340425532, 'lift': 3.3564912381997174}]</td>\n",
       "      <td>0.004133</td>\n",
       "    </tr>\n",
       "    <tr>\n",
       "      <th>24</th>\n",
       "      <td>[eggs, red wine, spaghetti]</td>\n",
       "      <td>[{'items_base': ['eggs', 'red wine'], 'items_add': ['spaghetti'], 'confidence': 0.5283018867924528, 'lift': 3.0342974370828397}]</td>\n",
       "      <td>0.003733</td>\n",
       "    </tr>\n",
       "    <tr>\n",
       "      <th>25</th>\n",
       "      <td>[escalope, mushroom cream sauce, nan]</td>\n",
       "      <td>[{'items_base': ['mushroom cream sauce', 'nan'], 'items_add': ['escalope'], 'confidence': 0.3006993006993007, 'lift': 3.790832696715049}]</td>\n",
       "      <td>0.005733</td>\n",
       "    </tr>\n",
       "    <tr>\n",
       "      <th>26</th>\n",
       "      <td>[escalope, nan, pasta]</td>\n",
       "      <td>[{'items_base': ['nan', 'pasta'], 'items_add': ['escalope'], 'confidence': 0.3728813559322034, 'lift': 4.700811850163794}]</td>\n",
       "      <td>0.005866</td>\n",
       "    </tr>\n",
       "    <tr>\n",
       "      <th>27</th>\n",
       "      <td>[french fries, ground beef, herb &amp; pepper]</td>\n",
       "      <td>[{'items_base': ['french fries', 'ground beef'], 'items_add': ['herb &amp; pepper'], 'confidence': 0.23076923076923078, 'lift': 4.665768194070081}, {'items_base': ['french fries', 'herb &amp; pepper'], 'items_add': ['ground beef'], 'confidence': 0.46153846153846156, 'lift': 4.697421981004071}]</td>\n",
       "      <td>0.003200</td>\n",
       "    </tr>\n",
       "    <tr>\n",
       "      <th>28</th>\n",
       "      <td>[fromage blanc, honey, nan]</td>\n",
       "      <td>[{'items_base': ['fromage blanc', 'nan'], 'items_add': ['honey'], 'confidence': 0.2450980392156863, 'lift': 5.164270764485569}]</td>\n",
       "      <td>0.003333</td>\n",
       "    </tr>\n",
       "    <tr>\n",
       "      <th>29</th>\n",
       "      <td>[frozen vegetables, green tea, tomatoes]</td>\n",
       "      <td>[{'items_base': ['frozen vegetables', 'green tea'], 'items_add': ['tomatoes'], 'confidence': 0.2314814814814815, 'lift': 3.38468341635983}]</td>\n",
       "      <td>0.003333</td>\n",
       "    </tr>\n",
       "    <tr>\n",
       "      <th>30</th>\n",
       "      <td>[frozen vegetables, ground beef, spaghetti]</td>\n",
       "      <td>[{'items_base': ['frozen vegetables', 'spaghetti'], 'items_add': ['ground beef'], 'confidence': 0.31100478468899523, 'lift': 3.165328208890303}]</td>\n",
       "      <td>0.008666</td>\n",
       "    </tr>\n",
       "    <tr>\n",
       "      <th>31</th>\n",
       "      <td>[frozen vegetables, milk, olive oil]</td>\n",
       "      <td>[{'items_base': ['frozen vegetables', 'milk'], 'items_add': ['olive oil'], 'confidence': 0.20338983050847456, 'lift': 3.088314005352364}, {'items_base': ['frozen vegetables', 'olive oil'], 'items_add': ['milk'], 'confidence': 0.4235294117647058, 'lift': 3.2684095860566447}]</td>\n",
       "      <td>0.004799</td>\n",
       "    </tr>\n",
       "    <tr>\n",
       "      <th>32</th>\n",
       "      <td>[frozen vegetables, milk, soup]</td>\n",
       "      <td>[{'items_base': ['frozen vegetables', 'soup'], 'items_add': ['milk'], 'confidence': 0.5, 'lift': 3.858539094650206}]</td>\n",
       "      <td>0.003999</td>\n",
       "    </tr>\n",
       "    <tr>\n",
       "      <th>33</th>\n",
       "      <td>[frozen vegetables, milk, tomatoes]</td>\n",
       "      <td>[{'items_base': ['milk', 'tomatoes'], 'items_add': ['frozen vegetables'], 'confidence': 0.29523809523809524, 'lift': 3.0973160173160172}]</td>\n",
       "      <td>0.004133</td>\n",
       "    </tr>\n",
       "    <tr>\n",
       "      <th>34</th>\n",
       "      <td>[frozen vegetables, mineral water, shrimp]</td>\n",
       "      <td>[{'items_base': ['mineral water', 'shrimp'], 'items_add': ['frozen vegetables'], 'confidence': 0.30508474576271183, 'lift': 3.200616332819722}]</td>\n",
       "      <td>0.007199</td>\n",
       "    </tr>\n",
       "    <tr>\n",
       "      <th>35</th>\n",
       "      <td>[frozen vegetables, olive oil, spaghetti]</td>\n",
       "      <td>[{'items_base': ['frozen vegetables', 'spaghetti'], 'items_add': ['olive oil'], 'confidence': 0.20574162679425836, 'lift': 3.1240241752707125}]</td>\n",
       "      <td>0.005733</td>\n",
       "    </tr>\n",
       "    <tr>\n",
       "      <th>36</th>\n",
       "      <td>[frozen vegetables, shrimp, spaghetti]</td>\n",
       "      <td>[{'items_base': ['frozen vegetables', 'spaghetti'], 'items_add': ['shrimp'], 'confidence': 0.21531100478468898, 'lift': 3.0131489680782684}]</td>\n",
       "      <td>0.005999</td>\n",
       "    </tr>\n",
       "    <tr>\n",
       "      <th>37</th>\n",
       "      <td>[frozen vegetables, shrimp, tomatoes]</td>\n",
       "      <td>[{'items_base': ['frozen vegetables', 'shrimp'], 'items_add': ['tomatoes'], 'confidence': 0.24000000000000002, 'lift': 3.5092397660818717}, {'items_base': ['frozen vegetables', 'tomatoes'], 'items_add': ['shrimp'], 'confidence': 0.2479338842975207, 'lift': 3.4696866905143704}, {'items_base': ['shrimp', 'tomatoes'], 'items_add': ['frozen vegetables'], 'confidence': 0.35714285714285715, 'lift': 3.7467532467532467}]</td>\n",
       "      <td>0.003999</td>\n",
       "    </tr>\n",
       "    <tr>\n",
       "      <th>38</th>\n",
       "      <td>[frozen vegetables, spaghetti, tomatoes]</td>\n",
       "      <td>[{'items_base': ['frozen vegetables', 'spaghetti'], 'items_add': ['tomatoes'], 'confidence': 0.23923444976076558, 'lift': 3.4980460188216425}, {'items_base': ['spaghetti', 'tomatoes'], 'items_add': ['frozen vegetables'], 'confidence': 0.3184713375796179, 'lift': 3.341053850607991}]</td>\n",
       "      <td>0.006666</td>\n",
       "    </tr>\n",
       "    <tr>\n",
       "      <th>39</th>\n",
       "      <td>[grated cheese, ground beef, spaghetti]</td>\n",
       "      <td>[{'items_base': ['grated cheese', 'spaghetti'], 'items_add': ['ground beef'], 'confidence': 0.3225806451612903, 'lift': 3.283144395325426}]</td>\n",
       "      <td>0.005333</td>\n",
       "    </tr>\n",
       "    <tr>\n",
       "      <th>40</th>\n",
       "      <td>[green tea, ground beef, tomatoes]</td>\n",
       "      <td>[{'items_base': ['green tea', 'ground beef'], 'items_add': ['tomatoes'], 'confidence': 0.2072072072072072, 'lift': 3.0297490472929067}]</td>\n",
       "      <td>0.003066</td>\n",
       "    </tr>\n",
       "    <tr>\n",
       "      <th>41</th>\n",
       "      <td>[ground beef, herb &amp; pepper, milk]</td>\n",
       "      <td>[{'items_base': ['herb &amp; pepper', 'milk'], 'items_add': ['ground beef'], 'confidence': 0.3913043478260869, 'lift': 3.9825968969382335}]</td>\n",
       "      <td>0.003600</td>\n",
       "    </tr>\n",
       "    <tr>\n",
       "      <th>42</th>\n",
       "      <td>[ground beef, herb &amp; pepper, mineral water]</td>\n",
       "      <td>[{'items_base': ['herb &amp; pepper', 'mineral water'], 'items_add': ['ground beef'], 'confidence': 0.39062500000000006, 'lift': 3.975682666214383}]</td>\n",
       "      <td>0.006666</td>\n",
       "    </tr>\n",
       "    <tr>\n",
       "      <th>43</th>\n",
       "      <td>[ground beef, herb &amp; pepper, nan]</td>\n",
       "      <td>[{'items_base': ['herb &amp; pepper', 'nan'], 'items_add': ['ground beef'], 'confidence': 0.3234501347708895, 'lift': 3.2919938411349285}]</td>\n",
       "      <td>0.015998</td>\n",
       "    </tr>\n",
       "    <tr>\n",
       "      <th>44</th>\n",
       "      <td>[ground beef, herb &amp; pepper, spaghetti]</td>\n",
       "      <td>[{'items_base': ['herb &amp; pepper', 'spaghetti'], 'items_add': ['ground beef'], 'confidence': 0.3934426229508197, 'lift': 4.004359721511667}]</td>\n",
       "      <td>0.006399</td>\n",
       "    </tr>\n",
       "    <tr>\n",
       "      <th>45</th>\n",
       "      <td>[ground beef, milk, olive oil]</td>\n",
       "      <td>[{'items_base': ['ground beef', 'milk'], 'items_add': ['olive oil'], 'confidence': 0.22424242424242427, 'lift': 3.40494417862839}]</td>\n",
       "      <td>0.004933</td>\n",
       "    </tr>\n",
       "    <tr>\n",
       "      <th>46</th>\n",
       "      <td>[ground beef, milk, soup]</td>\n",
       "      <td>[{'items_base': ['ground beef', 'soup'], 'items_add': ['milk'], 'confidence': 0.4109589041095891, 'lift': 3.1714019956029094}]</td>\n",
       "      <td>0.003999</td>\n",
       "    </tr>\n",
       "    <tr>\n",
       "      <th>47</th>\n",
       "      <td>[ground beef, nan, tomato sauce]</td>\n",
       "      <td>[{'items_base': ['nan', 'tomato sauce'], 'items_add': ['ground beef'], 'confidence': 0.3773584905660377, 'lift': 3.840659481324083}]</td>\n",
       "      <td>0.005333</td>\n",
       "    </tr>\n",
       "    <tr>\n",
       "      <th>48</th>\n",
       "      <td>[ground beef, pepper, spaghetti]</td>\n",
       "      <td>[{'items_base': ['pepper', 'spaghetti'], 'items_add': ['ground beef'], 'confidence': 0.33783783783783783, 'lift': 3.4384282518610876}]</td>\n",
       "      <td>0.003333</td>\n",
       "    </tr>\n",
       "    <tr>\n",
       "      <th>49</th>\n",
       "      <td>[ground beef, shrimp, spaghetti]</td>\n",
       "      <td>[{'items_base': ['ground beef', 'shrimp'], 'items_add': ['spaghetti'], 'confidence': 0.5232558139534884, 'lift': 3.005315360233627}]</td>\n",
       "      <td>0.005999</td>\n",
       "    </tr>\n",
       "    <tr>\n",
       "      <th>50</th>\n",
       "      <td>[ground beef, spaghetti, tomato sauce]</td>\n",
       "      <td>[{'items_base': ['ground beef', 'tomato sauce'], 'items_add': ['spaghetti'], 'confidence': 0.5750000000000001, 'lift': 3.3025076569678413}, {'items_base': ['spaghetti', 'tomato sauce'], 'items_add': ['ground beef'], 'confidence': 0.4893617021276596, 'lift': 4.980599901844742}]</td>\n",
       "      <td>0.003066</td>\n",
       "    </tr>\n",
       "    <tr>\n",
       "      <th>51</th>\n",
       "      <td>[light cream, nan, olive oil]</td>\n",
       "      <td>[{'items_base': ['light cream', 'nan'], 'items_add': ['olive oil'], 'confidence': 0.20512820512820515, 'lift': 3.1147098515519573}]</td>\n",
       "      <td>0.003200</td>\n",
       "    </tr>\n",
       "    <tr>\n",
       "      <th>52</th>\n",
       "      <td>[milk, olive oil, shrimp]</td>\n",
       "      <td>[{'items_base': ['olive oil', 'shrimp'], 'items_add': ['milk'], 'confidence': 0.3934426229508197, 'lift': 3.0362274843149164}]</td>\n",
       "      <td>0.003200</td>\n",
       "    </tr>\n",
       "    <tr>\n",
       "      <th>53</th>\n",
       "      <td>[milk, olive oil, soup]</td>\n",
       "      <td>[{'items_base': ['milk', 'olive oil'], 'items_add': ['soup'], 'confidence': 0.2109375, 'lift': 4.174781497361478}, {'items_base': ['milk', 'soup'], 'items_add': ['olive oil'], 'confidence': 0.23684210526315788, 'lift': 3.5962603878116344}, {'items_base': ['olive oil', 'soup'], 'items_add': ['milk'], 'confidence': 0.4029850746268656, 'lift': 3.1098673300165833}]</td>\n",
       "      <td>0.003600</td>\n",
       "    </tr>\n",
       "    <tr>\n",
       "      <th>54</th>\n",
       "      <td>[milk, olive oil, spaghetti]</td>\n",
       "      <td>[{'items_base': ['milk', 'spaghetti'], 'items_add': ['olive oil'], 'confidence': 0.20300751879699247, 'lift': 3.0825089038385434}]</td>\n",
       "      <td>0.007199</td>\n",
       "    </tr>\n",
       "    <tr>\n",
       "      <th>55</th>\n",
       "      <td>[milk, soup, tomatoes]</td>\n",
       "      <td>[{'items_base': ['milk', 'tomatoes'], 'items_add': ['soup'], 'confidence': 0.21904761904761905, 'lift': 4.335293378565146}, {'items_base': ['soup', 'tomatoes'], 'items_add': ['milk'], 'confidence': 0.44230769230769235, 'lift': 3.4133230452674903}]</td>\n",
       "      <td>0.003066</td>\n",
       "    </tr>\n",
       "    <tr>\n",
       "      <th>56</th>\n",
       "      <td>[milk, spaghetti, whole wheat pasta]</td>\n",
       "      <td>[{'items_base': ['spaghetti', 'whole wheat pasta'], 'items_add': ['milk'], 'confidence': 0.4545454545454546, 'lift': 3.5077628133183696}]</td>\n",
       "      <td>0.003999</td>\n",
       "    </tr>\n",
       "    <tr>\n",
       "      <th>57</th>\n",
       "      <td>[mineral water, olive oil, soup]</td>\n",
       "      <td>[{'items_base': ['mineral water', 'soup'], 'items_add': ['olive oil'], 'confidence': 0.22543352601156072, 'lift': 3.4230301186492245}]</td>\n",
       "      <td>0.005199</td>\n",
       "    </tr>\n",
       "    <tr>\n",
       "      <th>58</th>\n",
       "      <td>[mineral water, olive oil, whole wheat pasta]</td>\n",
       "      <td>[{'items_base': ['mineral water', 'whole wheat pasta'], 'items_add': ['olive oil'], 'confidence': 0.4027777777777778, 'lift': 6.115862573099416}]</td>\n",
       "      <td>0.003866</td>\n",
       "    </tr>\n",
       "    <tr>\n",
       "      <th>59</th>\n",
       "      <td>[nan, olive oil, whole wheat pasta]</td>\n",
       "      <td>[{'items_base': ['nan', 'whole wheat pasta'], 'items_add': ['olive oil'], 'confidence': 0.2714932126696833, 'lift': 4.122410097642296}]</td>\n",
       "      <td>0.007999</td>\n",
       "    </tr>\n",
       "    <tr>\n",
       "      <th>60</th>\n",
       "      <td>[nan, pasta, shrimp]</td>\n",
       "      <td>[{'items_base': ['nan', 'pasta'], 'items_add': ['shrimp'], 'confidence': 0.3220338983050847, 'lift': 4.506672147735896}]</td>\n",
       "      <td>0.005066</td>\n",
       "    </tr>\n",
       "    <tr>\n",
       "      <th>61</th>\n",
       "      <td>[olive oil, pancakes, spaghetti]</td>\n",
       "      <td>[{'items_base': ['pancakes', 'spaghetti'], 'items_add': ['olive oil'], 'confidence': 0.20105820105820105, 'lift': 3.0529100529100526}]</td>\n",
       "      <td>0.005066</td>\n",
       "    </tr>\n",
       "    <tr>\n",
       "      <th>62</th>\n",
       "      <td>[olive oil, spaghetti, tomatoes]</td>\n",
       "      <td>[{'items_base': ['olive oil', 'tomatoes'], 'items_add': ['spaghetti'], 'confidence': 0.6111111111111112, 'lift': 3.5099115194827295}, {'items_base': ['spaghetti', 'tomatoes'], 'items_add': ['olive oil'], 'confidence': 0.21019108280254778, 'lift': 3.19158565202816}]</td>\n",
       "      <td>0.004399</td>\n",
       "    </tr>\n",
       "    <tr>\n",
       "      <th>63</th>\n",
       "      <td>[spaghetti, tomatoes, whole wheat rice]</td>\n",
       "      <td>[{'items_base': ['spaghetti', 'whole wheat rice'], 'items_add': ['tomatoes'], 'confidence': 0.2169811320754717, 'lift': 3.1726617382029496}]</td>\n",
       "      <td>0.003066</td>\n",
       "    </tr>\n",
       "    <tr>\n",
       "      <th>64</th>\n",
       "      <td>[avocado, milk, nan, spaghetti]</td>\n",
       "      <td>[{'items_base': ['avocado', 'nan', 'spaghetti'], 'items_add': ['milk'], 'confidence': 0.41666666666666663, 'lift': 3.215449245541838}]</td>\n",
       "      <td>0.003333</td>\n",
       "    </tr>\n",
       "    <tr>\n",
       "      <th>65</th>\n",
       "      <td>[burgers, cake, milk, nan]</td>\n",
       "      <td>[{'items_base': ['cake', 'milk', 'nan'], 'items_add': ['burgers'], 'confidence': 0.27999999999999997, 'lift': 3.211437308868501}]</td>\n",
       "      <td>0.003733</td>\n",
       "    </tr>\n",
       "    <tr>\n",
       "      <th>66</th>\n",
       "      <td>[burgers, chocolate, nan, turkey]</td>\n",
       "      <td>[{'items_base': ['chocolate', 'nan', 'turkey'], 'items_add': ['burgers'], 'confidence': 0.27058823529411763, 'lift': 3.1034898363014927}]</td>\n",
       "      <td>0.003066</td>\n",
       "    </tr>\n",
       "    <tr>\n",
       "      <th>67</th>\n",
       "      <td>[burgers, milk, nan, turkey]</td>\n",
       "      <td>[{'items_base': ['milk', 'nan', 'turkey'], 'items_add': ['burgers'], 'confidence': 0.2823529411764706, 'lift': 3.2384241770102533}]</td>\n",
       "      <td>0.003200</td>\n",
       "    </tr>\n",
       "    <tr>\n",
       "      <th>68</th>\n",
       "      <td>[cake, frozen vegetables, nan, tomatoes]</td>\n",
       "      <td>[{'items_base': ['cake', 'frozen vegetables', 'nan'], 'items_add': ['tomatoes'], 'confidence': 0.2987012987012987, 'lift': 4.367560314928736}, {'items_base': ['cake', 'nan', 'tomatoes'], 'items_add': ['frozen vegetables'], 'confidence': 0.36507936507936506, 'lift': 3.8300144300144296}]</td>\n",
       "      <td>0.003066</td>\n",
       "    </tr>\n",
       "    <tr>\n",
       "      <th>69</th>\n",
       "      <td>[cereals, ground beef, nan, spaghetti]</td>\n",
       "      <td>[{'items_base': ['cereals', 'ground beef', 'nan'], 'items_add': ['spaghetti'], 'confidence': 0.6764705882352942, 'lift': 3.8853031258445188}, {'items_base': ['cereals', 'nan', 'spaghetti'], 'items_add': ['ground beef'], 'confidence': 0.45999999999999996, 'lift': 4.681763907734057}]</td>\n",
       "      <td>0.003066</td>\n",
       "    </tr>\n",
       "    <tr>\n",
       "      <th>70</th>\n",
       "      <td>[chicken, ground beef, milk, nan]</td>\n",
       "      <td>[{'items_base': ['chicken', 'ground beef', 'nan'], 'items_add': ['milk'], 'confidence': 0.40845070422535207, 'lift': 3.152046020981858}]</td>\n",
       "      <td>0.003866</td>\n",
       "    </tr>\n",
       "    <tr>\n",
       "      <th>71</th>\n",
       "      <td>[chicken, milk, nan, olive oil]</td>\n",
       "      <td>[{'items_base': ['chicken', 'milk', 'nan'], 'items_add': ['olive oil'], 'confidence': 0.24324324324324323, 'lift': 3.693456614509246}, {'items_base': ['chicken', 'nan', 'olive oil'], 'items_add': ['milk'], 'confidence': 0.5, 'lift': 3.858539094650206}, {'items_base': ['milk', 'nan', 'olive oil'], 'items_add': ['chicken'], 'confidence': 0.2109375, 'lift': 3.51609375}]</td>\n",
       "      <td>0.003600</td>\n",
       "    </tr>\n",
       "    <tr>\n",
       "      <th>72</th>\n",
       "      <td>[chicken, nan, olive oil, spaghetti]</td>\n",
       "      <td>[{'items_base': ['chicken', 'nan', 'spaghetti'], 'items_add': ['olive oil'], 'confidence': 0.20155038759689922, 'lift': 3.0603835169318647}]</td>\n",
       "      <td>0.003466</td>\n",
       "    </tr>\n",
       "    <tr>\n",
       "      <th>73</th>\n",
       "      <td>[chocolate, eggs, ground beef, mineral water]</td>\n",
       "      <td>[{'items_base': ['chocolate', 'eggs', 'mineral water'], 'items_add': ['ground beef'], 'confidence': 0.29702970297029707, 'lift': 3.023093354111531}]</td>\n",
       "      <td>0.003999</td>\n",
       "    </tr>\n",
       "    <tr>\n",
       "      <th>74</th>\n",
       "      <td>[chocolate, frozen vegetables, ground beef, mineral water]</td>\n",
       "      <td>[{'items_base': ['chocolate', 'frozen vegetables', 'mineral water'], 'items_add': ['ground beef'], 'confidence': 0.34246575342465757, 'lift': 3.4855300087358976}, {'items_base': ['chocolate', 'ground beef', 'mineral water'], 'items_add': ['frozen vegetables'], 'confidence': 0.30487804878048785, 'lift': 3.1984478935698455}]</td>\n",
       "      <td>0.003333</td>\n",
       "    </tr>\n",
       "    <tr>\n",
       "      <th>75</th>\n",
       "      <td>[chocolate, frozen vegetables, ground beef, spaghetti]</td>\n",
       "      <td>[{'items_base': ['chocolate', 'frozen vegetables', 'ground beef'], 'items_add': ['spaghetti'], 'confidence': 0.5348837209302326, 'lift': 3.0721001460165964}, {'items_base': ['chocolate', 'frozen vegetables', 'spaghetti'], 'items_add': ['ground beef'], 'confidence': 0.3898305084745763, 'lift': 3.967596531978015}, {'items_base': ['chocolate', 'ground beef', 'spaghetti'], 'items_add': ['frozen vegetables'], 'confidence': 0.33333333333333337, 'lift': 3.4969696969696975}]</td>\n",
       "      <td>0.003066</td>\n",
       "    </tr>\n",
       "    <tr>\n",
       "      <th>76</th>\n",
       "      <td>[chocolate, frozen vegetables, milk, mineral water]</td>\n",
       "      <td>[{'items_base': ['chocolate', 'frozen vegetables', 'mineral water'], 'items_add': ['milk'], 'confidence': 0.4109589041095891, 'lift': 3.1714019956029094}]</td>\n",
       "      <td>0.003999</td>\n",
       "    </tr>\n",
       "    <tr>\n",
       "      <th>77</th>\n",
       "      <td>[chocolate, frozen vegetables, milk, spaghetti]</td>\n",
       "      <td>[{'items_base': ['chocolate', 'frozen vegetables', 'spaghetti'], 'items_add': ['milk'], 'confidence': 0.44067796610169485, 'lift': 3.4007463207086555}, {'items_base': ['chocolate', 'milk', 'spaghetti'], 'items_add': ['frozen vegetables'], 'confidence': 0.3170731707317073, 'lift': 3.3263858093126384}]</td>\n",
       "      <td>0.003466</td>\n",
       "    </tr>\n",
       "    <tr>\n",
       "      <th>78</th>\n",
       "      <td>[chocolate, frozen vegetables, mineral water, shrimp]</td>\n",
       "      <td>[{'items_base': ['chocolate', 'frozen vegetables', 'mineral water'], 'items_add': ['shrimp'], 'confidence': 0.32876712328767127, 'lift': 4.600899611531385}, {'items_base': ['chocolate', 'mineral water', 'shrimp'], 'items_add': ['frozen vegetables'], 'confidence': 0.4210526315789474, 'lift': 4.417224880382776}]</td>\n",
       "      <td>0.003200</td>\n",
       "    </tr>\n",
       "    <tr>\n",
       "      <th>79</th>\n",
       "      <td>[chocolate, frozen vegetables, nan, shrimp]</td>\n",
       "      <td>[{'items_base': ['chocolate', 'frozen vegetables', 'nan'], 'items_add': ['shrimp'], 'confidence': 0.23255813953488375, 'lift': 3.2545123221103784}, {'items_base': ['chocolate', 'nan', 'shrimp'], 'items_add': ['frozen vegetables'], 'confidence': 0.29629629629629634, 'lift': 3.1084175084175087}]</td>\n",
       "      <td>0.005333</td>\n",
       "    </tr>\n",
       "    <tr>\n",
       "      <th>80</th>\n",
       "      <td>[chocolate, ground beef, herb &amp; pepper, nan]</td>\n",
       "      <td>[{'items_base': ['chocolate', 'herb &amp; pepper', 'nan'], 'items_add': ['ground beef'], 'confidence': 0.4411764705882354, 'lift': 4.4901827759597746}]</td>\n",
       "      <td>0.003999</td>\n",
       "    </tr>\n",
       "    <tr>\n",
       "      <th>81</th>\n",
       "      <td>[chocolate, milk, nan, soup]</td>\n",
       "      <td>[{'items_base': ['chocolate', 'nan', 'soup'], 'items_add': ['milk'], 'confidence': 0.3947368421052632, 'lift': 3.0462150747238472}]</td>\n",
       "      <td>0.003999</td>\n",
       "    </tr>\n",
       "    <tr>\n",
       "      <th>82</th>\n",
       "      <td>[chocolate, mineral water, olive oil, spaghetti]</td>\n",
       "      <td>[{'items_base': ['chocolate', 'mineral water', 'spaghetti'], 'items_add': ['olive oil'], 'confidence': 0.2436974789915966, 'lift': 3.700353825740822}]</td>\n",
       "      <td>0.003866</td>\n",
       "    </tr>\n",
       "    <tr>\n",
       "      <th>83</th>\n",
       "      <td>[chocolate, mineral water, shrimp, spaghetti]</td>\n",
       "      <td>[{'items_base': ['chocolate', 'mineral water', 'spaghetti'], 'items_add': ['shrimp'], 'confidence': 0.21848739495798317, 'lift': 3.0576006522011783}]</td>\n",
       "      <td>0.003466</td>\n",
       "    </tr>\n",
       "    <tr>\n",
       "      <th>84</th>\n",
       "      <td>[cooking oil, ground beef, nan, spaghetti]</td>\n",
       "      <td>[{'items_base': ['cooking oil', 'ground beef', 'nan'], 'items_add': ['spaghetti'], 'confidence': 0.5714285714285714, 'lift': 3.2819951870487856}, {'items_base': ['cooking oil', 'nan', 'spaghetti'], 'items_add': ['ground beef'], 'confidence': 0.3025210084033613, 'lift': 3.0789824749438446}]</td>\n",
       "      <td>0.004799</td>\n",
       "    </tr>\n",
       "    <tr>\n",
       "      <th>85</th>\n",
       "      <td>[eggs, frozen vegetables, milk, mineral water]</td>\n",
       "      <td>[{'items_base': ['eggs', 'frozen vegetables', 'mineral water'], 'items_add': ['milk'], 'confidence': 0.411764705882353, 'lift': 3.177620430888405}]</td>\n",
       "      <td>0.003733</td>\n",
       "    </tr>\n",
       "    <tr>\n",
       "      <th>86</th>\n",
       "      <td>[eggs, ground beef, herb &amp; pepper, nan]</td>\n",
       "      <td>[{'items_base': ['eggs', 'ground beef', 'nan'], 'items_add': ['herb &amp; pepper'], 'confidence': 0.2066666666666667, 'lift': 4.178454627133872}, {'items_base': ['eggs', 'herb &amp; pepper', 'nan'], 'items_add': ['ground beef'], 'confidence': 0.3297872340425532, 'lift': 3.3564912381997174}]</td>\n",
       "      <td>0.004133</td>\n",
       "    </tr>\n",
       "    <tr>\n",
       "      <th>87</th>\n",
       "      <td>[eggs, nan, red wine, spaghetti]</td>\n",
       "      <td>[{'items_base': ['eggs', 'nan', 'red wine'], 'items_add': ['spaghetti'], 'confidence': 0.5283018867924528, 'lift': 3.0342974370828397}]</td>\n",
       "      <td>0.003733</td>\n",
       "    </tr>\n",
       "    <tr>\n",
       "      <th>88</th>\n",
       "      <td>[french fries, ground beef, herb &amp; pepper, nan]</td>\n",
       "      <td>[{'items_base': ['french fries', 'ground beef', 'nan'], 'items_add': ['herb &amp; pepper'], 'confidence': 0.23076923076923078, 'lift': 4.665768194070081}, {'items_base': ['french fries', 'herb &amp; pepper', 'nan'], 'items_add': ['ground beef'], 'confidence': 0.46153846153846156, 'lift': 4.697421981004071}]</td>\n",
       "      <td>0.003200</td>\n",
       "    </tr>\n",
       "    <tr>\n",
       "      <th>89</th>\n",
       "      <td>[frozen smoothie, milk, mineral water, spaghetti]</td>\n",
       "      <td>[{'items_base': ['frozen smoothie', 'mineral water', 'spaghetti'], 'items_add': ['milk'], 'confidence': 0.4705882352941177, 'lift': 3.631566206729606}, {'items_base': ['milk', 'mineral water', 'spaghetti'], 'items_add': ['frozen smoothie'], 'confidence': 0.2033898305084746, 'lift': 3.211846565566459}]</td>\n",
       "      <td>0.003200</td>\n",
       "    </tr>\n",
       "    <tr>\n",
       "      <th>90</th>\n",
       "      <td>[frozen vegetables, green tea, nan, tomatoes]</td>\n",
       "      <td>[{'items_base': ['frozen vegetables', 'green tea', 'nan'], 'items_add': ['tomatoes'], 'confidence': 0.2314814814814815, 'lift': 3.38468341635983}]</td>\n",
       "      <td>0.003333</td>\n",
       "    </tr>\n",
       "    <tr>\n",
       "      <th>91</th>\n",
       "      <td>[frozen vegetables, ground beef, milk, mineral water]</td>\n",
       "      <td>[{'items_base': ['frozen vegetables', 'ground beef', 'mineral water'], 'items_add': ['milk'], 'confidence': 0.40579710144927533, 'lift': 3.1315679608755294}, {'items_base': ['frozen vegetables', 'milk', 'mineral water'], 'items_add': ['ground beef'], 'confidence': 0.3373493975903614, 'lift': 3.4334570302921317}, {'items_base': ['ground beef', 'milk', 'mineral water'], 'items_add': ['frozen vegetables'], 'confidence': 0.3373493975903614, 'lift': 3.539101861993428}]</td>\n",
       "      <td>0.003733</td>\n",
       "    </tr>\n",
       "    <tr>\n",
       "      <th>92</th>\n",
       "      <td>[frozen vegetables, ground beef, milk, spaghetti]</td>\n",
       "      <td>[{'items_base': ['frozen vegetables', 'ground beef', 'milk'], 'items_add': ['spaghetti'], 'confidence': 0.5348837209302326, 'lift': 3.0721001460165964}, {'items_base': ['frozen vegetables', 'milk', 'spaghetti'], 'items_add': ['ground beef'], 'confidence': 0.3709677419354839, 'lift': 3.7756160546242397}, {'items_base': ['ground beef', 'milk', 'spaghetti'], 'items_add': ['frozen vegetables'], 'confidence': 0.3150684931506849, 'lift': 3.305354919053549}]</td>\n",
       "      <td>0.003066</td>\n",
       "    </tr>\n",
       "    <tr>\n",
       "      <th>93</th>\n",
       "      <td>[frozen vegetables, ground beef, mineral water, spaghetti]</td>\n",
       "      <td>[{'items_base': ['frozen vegetables', 'mineral water', 'spaghetti'], 'items_add': ['ground beef'], 'confidence': 0.3666666666666667, 'lift': 3.7318407960199007}]</td>\n",
       "      <td>0.004399</td>\n",
       "    </tr>\n",
       "    <tr>\n",
       "      <th>94</th>\n",
       "      <td>[frozen vegetables, ground beef, nan, spaghetti]</td>\n",
       "      <td>[{'items_base': ['frozen vegetables', 'nan', 'spaghetti'], 'items_add': ['ground beef'], 'confidence': 0.31100478468899523, 'lift': 3.165328208890303}]</td>\n",
       "      <td>0.008666</td>\n",
       "    </tr>\n",
       "    <tr>\n",
       "      <th>95</th>\n",
       "      <td>[frozen vegetables, milk, mineral water, olive oil]</td>\n",
       "      <td>[{'items_base': ['frozen vegetables', 'milk', 'mineral water'], 'items_add': ['olive oil'], 'confidence': 0.30120481927710846, 'lift': 4.573557387444516}, {'items_base': ['frozen vegetables', 'mineral water', 'olive oil'], 'items_add': ['milk'], 'confidence': 0.5102040816326531, 'lift': 3.937284790459394}, {'items_base': ['milk', 'mineral water', 'olive oil'], 'items_add': ['frozen vegetables'], 'confidence': 0.39062500000000006, 'lift': 4.098011363636364}]</td>\n",
       "      <td>0.003333</td>\n",
       "    </tr>\n",
       "    <tr>\n",
       "      <th>96</th>\n",
       "      <td>[frozen vegetables, milk, mineral water, soup]</td>\n",
       "      <td>[{'items_base': ['frozen vegetables', 'milk', 'mineral water'], 'items_add': ['soup'], 'confidence': 0.27710843373493976, 'lift': 5.484407286136631}, {'items_base': ['frozen vegetables', 'milk', 'soup'], 'items_add': ['mineral water'], 'confidence': 0.7666666666666666, 'lift': 3.21631245339299}, {'items_base': ['frozen vegetables', 'mineral water', 'soup'], 'items_add': ['milk'], 'confidence': 0.6052631578947368, 'lift': 4.670863114576565}, {'items_base': ['milk', 'mineral water', 'soup'], 'items_add': ['frozen vegetables'], 'confidence': 0.35937500000000006, 'lift': 3.7701704545454553}]</td>\n",
       "      <td>0.003066</td>\n",
       "    </tr>\n",
       "    <tr>\n",
       "      <th>97</th>\n",
       "      <td>[frozen vegetables, milk, mineral water, spaghetti]</td>\n",
       "      <td>[{'items_base': ['milk', 'mineral water', 'spaghetti'], 'items_add': ['frozen vegetables'], 'confidence': 0.28813559322033894, 'lift': 3.0228043143297376}]</td>\n",
       "      <td>0.004533</td>\n",
       "    </tr>\n",
       "    <tr>\n",
       "      <th>98</th>\n",
       "      <td>[frozen vegetables, milk, nan, olive oil]</td>\n",
       "      <td>[{'items_base': ['frozen vegetables', 'milk', 'nan'], 'items_add': ['olive oil'], 'confidence': 0.20338983050847456, 'lift': 3.088314005352364}, {'items_base': ['frozen vegetables', 'nan', 'olive oil'], 'items_add': ['milk'], 'confidence': 0.4235294117647058, 'lift': 3.2684095860566447}]</td>\n",
       "      <td>0.004799</td>\n",
       "    </tr>\n",
       "    <tr>\n",
       "      <th>99</th>\n",
       "      <td>[frozen vegetables, milk, nan, soup]</td>\n",
       "      <td>[{'items_base': ['frozen vegetables', 'nan', 'soup'], 'items_add': ['milk'], 'confidence': 0.5, 'lift': 3.858539094650206}]</td>\n",
       "      <td>0.003999</td>\n",
       "    </tr>\n",
       "    <tr>\n",
       "      <th>100</th>\n",
       "      <td>[frozen vegetables, milk, nan, tomatoes]</td>\n",
       "      <td>[{'items_base': ['milk', 'nan', 'tomatoes'], 'items_add': ['frozen vegetables'], 'confidence': 0.29523809523809524, 'lift': 3.0973160173160172}]</td>\n",
       "      <td>0.004133</td>\n",
       "    </tr>\n",
       "    <tr>\n",
       "      <th>101</th>\n",
       "      <td>[frozen vegetables, mineral water, nan, shrimp]</td>\n",
       "      <td>[{'items_base': ['mineral water', 'nan', 'shrimp'], 'items_add': ['frozen vegetables'], 'confidence': 0.3068181818181818, 'lift': 3.218801652892562}]</td>\n",
       "      <td>0.007199</td>\n",
       "    </tr>\n",
       "    <tr>\n",
       "      <th>102</th>\n",
       "      <td>[frozen vegetables, mineral water, shrimp, spaghetti]</td>\n",
       "      <td>[{'items_base': ['frozen vegetables', 'mineral water', 'spaghetti'], 'items_add': ['shrimp'], 'confidence': 0.2777777777777778, 'lift': 3.8873341625207294}, {'items_base': ['mineral water', 'shrimp', 'spaghetti'], 'items_add': ['frozen vegetables'], 'confidence': 0.39062500000000006, 'lift': 4.098011363636364}]</td>\n",
       "      <td>0.003333</td>\n",
       "    </tr>\n",
       "    <tr>\n",
       "      <th>103</th>\n",
       "      <td>[frozen vegetables, mineral water, spaghetti, tomatoes]</td>\n",
       "      <td>[{'items_base': ['frozen vegetables', 'mineral water', 'spaghetti'], 'items_add': ['tomatoes'], 'confidence': 0.2555555555555556, 'lift': 3.7366904916612524}, {'items_base': ['frozen vegetables', 'mineral water', 'tomatoes'], 'items_add': ['spaghetti'], 'confidence': 0.5227272727272727, 'lift': 3.0022796881525826}, {'items_base': ['mineral water', 'spaghetti', 'tomatoes'], 'items_add': ['frozen vegetables'], 'confidence': 0.32857142857142857, 'lift': 3.447012987012987}]</td>\n",
       "      <td>0.003066</td>\n",
       "    </tr>\n",
       "    <tr>\n",
       "      <th>104</th>\n",
       "      <td>[frozen vegetables, nan, olive oil, spaghetti]</td>\n",
       "      <td>[{'items_base': ['frozen vegetables', 'nan', 'spaghetti'], 'items_add': ['olive oil'], 'confidence': 0.20574162679425836, 'lift': 3.1240241752707125}]</td>\n",
       "      <td>0.005733</td>\n",
       "    </tr>\n",
       "    <tr>\n",
       "      <th>105</th>\n",
       "      <td>[frozen vegetables, nan, shrimp, spaghetti]</td>\n",
       "      <td>[{'items_base': ['frozen vegetables', 'nan', 'spaghetti'], 'items_add': ['shrimp'], 'confidence': 0.21531100478468898, 'lift': 3.0131489680782684}]</td>\n",
       "      <td>0.005999</td>\n",
       "    </tr>\n",
       "    <tr>\n",
       "      <th>106</th>\n",
       "      <td>[frozen vegetables, nan, shrimp, tomatoes]</td>\n",
       "      <td>[{'items_base': ['frozen vegetables', 'nan', 'shrimp'], 'items_add': ['tomatoes'], 'confidence': 0.24000000000000002, 'lift': 3.5092397660818717}, {'items_base': ['frozen vegetables', 'nan', 'tomatoes'], 'items_add': ['shrimp'], 'confidence': 0.2479338842975207, 'lift': 3.4696866905143704}, {'items_base': ['nan', 'shrimp', 'tomatoes'], 'items_add': ['frozen vegetables'], 'confidence': 0.35714285714285715, 'lift': 3.7467532467532467}]</td>\n",
       "      <td>0.003999</td>\n",
       "    </tr>\n",
       "    <tr>\n",
       "      <th>107</th>\n",
       "      <td>[frozen vegetables, nan, spaghetti, tomatoes]</td>\n",
       "      <td>[{'items_base': ['frozen vegetables', 'nan', 'spaghetti'], 'items_add': ['tomatoes'], 'confidence': 0.23923444976076558, 'lift': 3.4980460188216425}, {'items_base': ['nan', 'spaghetti', 'tomatoes'], 'items_add': ['frozen vegetables'], 'confidence': 0.3184713375796179, 'lift': 3.341053850607991}]</td>\n",
       "      <td>0.006666</td>\n",
       "    </tr>\n",
       "    <tr>\n",
       "      <th>108</th>\n",
       "      <td>[grated cheese, ground beef, nan, spaghetti]</td>\n",
       "      <td>[{'items_base': ['grated cheese', 'nan', 'spaghetti'], 'items_add': ['ground beef'], 'confidence': 0.3225806451612903, 'lift': 3.283144395325426}]</td>\n",
       "      <td>0.005333</td>\n",
       "    </tr>\n",
       "    <tr>\n",
       "      <th>109</th>\n",
       "      <td>[green tea, ground beef, nan, tomatoes]</td>\n",
       "      <td>[{'items_base': ['green tea', 'ground beef', 'nan'], 'items_add': ['tomatoes'], 'confidence': 0.2072072072072072, 'lift': 3.0297490472929067}]</td>\n",
       "      <td>0.003066</td>\n",
       "    </tr>\n",
       "    <tr>\n",
       "      <th>110</th>\n",
       "      <td>[ground beef, herb &amp; pepper, milk, nan]</td>\n",
       "      <td>[{'items_base': ['herb &amp; pepper', 'milk', 'nan'], 'items_add': ['ground beef'], 'confidence': 0.3913043478260869, 'lift': 3.9825968969382335}]</td>\n",
       "      <td>0.003600</td>\n",
       "    </tr>\n",
       "    <tr>\n",
       "      <th>111</th>\n",
       "      <td>[ground beef, herb &amp; pepper, mineral water, nan]</td>\n",
       "      <td>[{'items_base': ['herb &amp; pepper', 'mineral water', 'nan'], 'items_add': ['ground beef'], 'confidence': 0.39062500000000006, 'lift': 3.975682666214383}]</td>\n",
       "      <td>0.006666</td>\n",
       "    </tr>\n",
       "    <tr>\n",
       "      <th>112</th>\n",
       "      <td>[ground beef, herb &amp; pepper, nan, spaghetti]</td>\n",
       "      <td>[{'items_base': ['herb &amp; pepper', 'nan', 'spaghetti'], 'items_add': ['ground beef'], 'confidence': 0.3934426229508197, 'lift': 4.004359721511667}]</td>\n",
       "      <td>0.006399</td>\n",
       "    </tr>\n",
       "    <tr>\n",
       "      <th>113</th>\n",
       "      <td>[ground beef, milk, nan, olive oil]</td>\n",
       "      <td>[{'items_base': ['ground beef', 'milk', 'nan'], 'items_add': ['olive oil'], 'confidence': 0.22424242424242427, 'lift': 3.40494417862839}]</td>\n",
       "      <td>0.004933</td>\n",
       "    </tr>\n",
       "    <tr>\n",
       "      <th>114</th>\n",
       "      <td>[ground beef, milk, nan, soup]</td>\n",
       "      <td>[{'items_base': ['ground beef', 'nan', 'soup'], 'items_add': ['milk'], 'confidence': 0.4109589041095891, 'lift': 3.1714019956029094}]</td>\n",
       "      <td>0.003999</td>\n",
       "    </tr>\n",
       "    <tr>\n",
       "      <th>115</th>\n",
       "      <td>[ground beef, mineral water, olive oil, spaghetti]</td>\n",
       "      <td>[{'items_base': ['mineral water', 'olive oil', 'spaghetti'], 'items_add': ['ground beef'], 'confidence': 0.2987012987012987, 'lift': 3.0401064335935435}]</td>\n",
       "      <td>0.003066</td>\n",
       "    </tr>\n",
       "    <tr>\n",
       "      <th>116</th>\n",
       "      <td>[ground beef, mineral water, spaghetti, tomatoes]</td>\n",
       "      <td>[{'items_base': ['ground beef', 'mineral water', 'tomatoes'], 'items_add': ['spaghetti'], 'confidence': 0.5609756097560976, 'lift': 3.221958689724723}, {'items_base': ['mineral water', 'spaghetti', 'tomatoes'], 'items_add': ['ground beef'], 'confidence': 0.32857142857142857, 'lift': 3.344117076952898}]</td>\n",
       "      <td>0.003066</td>\n",
       "    </tr>\n",
       "    <tr>\n",
       "      <th>117</th>\n",
       "      <td>[ground beef, nan, pepper, spaghetti]</td>\n",
       "      <td>[{'items_base': ['nan', 'pepper', 'spaghetti'], 'items_add': ['ground beef'], 'confidence': 0.33783783783783783, 'lift': 3.4384282518610876}]</td>\n",
       "      <td>0.003333</td>\n",
       "    </tr>\n",
       "    <tr>\n",
       "      <th>118</th>\n",
       "      <td>[ground beef, nan, shrimp, spaghetti]</td>\n",
       "      <td>[{'items_base': ['ground beef', 'nan', 'shrimp'], 'items_add': ['spaghetti'], 'confidence': 0.5232558139534884, 'lift': 3.005315360233627}]</td>\n",
       "      <td>0.005999</td>\n",
       "    </tr>\n",
       "    <tr>\n",
       "      <th>119</th>\n",
       "      <td>[ground beef, nan, spaghetti, tomato sauce]</td>\n",
       "      <td>[{'items_base': ['ground beef', 'nan', 'tomato sauce'], 'items_add': ['spaghetti'], 'confidence': 0.5750000000000001, 'lift': 3.3025076569678413}, {'items_base': ['nan', 'spaghetti', 'tomato sauce'], 'items_add': ['ground beef'], 'confidence': 0.4893617021276596, 'lift': 4.980599901844742}]</td>\n",
       "      <td>0.003066</td>\n",
       "    </tr>\n",
       "    <tr>\n",
       "      <th>120</th>\n",
       "      <td>[milk, mineral water, olive oil, spaghetti]</td>\n",
       "      <td>[{'items_base': ['milk', 'mineral water', 'spaghetti'], 'items_add': ['olive oil'], 'confidence': 0.211864406779661, 'lift': 3.216993755575379}]</td>\n",
       "      <td>0.003333</td>\n",
       "    </tr>\n",
       "    <tr>\n",
       "      <th>121</th>\n",
       "      <td>[milk, mineral water, spaghetti, tomatoes]</td>\n",
       "      <td>[{'items_base': ['milk', 'mineral water', 'spaghetti'], 'items_add': ['tomatoes'], 'confidence': 0.211864406779661, 'lift': 3.0978458387022165}]</td>\n",
       "      <td>0.003333</td>\n",
       "    </tr>\n",
       "    <tr>\n",
       "      <th>122</th>\n",
       "      <td>[milk, nan, olive oil, shrimp]</td>\n",
       "      <td>[{'items_base': ['nan', 'olive oil', 'shrimp'], 'items_add': ['milk'], 'confidence': 0.39999999999999997, 'lift': 3.0868312757201646}]</td>\n",
       "      <td>0.003200</td>\n",
       "    </tr>\n",
       "    <tr>\n",
       "      <th>123</th>\n",
       "      <td>[milk, nan, olive oil, soup]</td>\n",
       "      <td>[{'items_base': ['milk', 'nan', 'olive oil'], 'items_add': ['soup'], 'confidence': 0.2109375, 'lift': 4.174781497361478}, {'items_base': ['milk', 'nan', 'soup'], 'items_add': ['olive oil'], 'confidence': 0.23684210526315788, 'lift': 3.5962603878116344}, {'items_base': ['nan', 'olive oil', 'soup'], 'items_add': ['milk'], 'confidence': 0.4029850746268656, 'lift': 3.1098673300165833}]</td>\n",
       "      <td>0.003600</td>\n",
       "    </tr>\n",
       "    <tr>\n",
       "      <th>124</th>\n",
       "      <td>[milk, nan, olive oil, spaghetti]</td>\n",
       "      <td>[{'items_base': ['milk', 'nan', 'spaghetti'], 'items_add': ['olive oil'], 'confidence': 0.20300751879699247, 'lift': 3.0825089038385434}]</td>\n",
       "      <td>0.007199</td>\n",
       "    </tr>\n",
       "    <tr>\n",
       "      <th>125</th>\n",
       "      <td>[milk, nan, soup, tomatoes]</td>\n",
       "      <td>[{'items_base': ['milk', 'nan', 'tomatoes'], 'items_add': ['soup'], 'confidence': 0.21904761904761905, 'lift': 4.335293378565146}, {'items_base': ['nan', 'soup', 'tomatoes'], 'items_add': ['milk'], 'confidence': 0.44230769230769235, 'lift': 3.4133230452674903}]</td>\n",
       "      <td>0.003066</td>\n",
       "    </tr>\n",
       "    <tr>\n",
       "      <th>126</th>\n",
       "      <td>[milk, nan, spaghetti, whole wheat pasta]</td>\n",
       "      <td>[{'items_base': ['nan', 'spaghetti', 'whole wheat pasta'], 'items_add': ['milk'], 'confidence': 0.4545454545454546, 'lift': 3.5077628133183696}]</td>\n",
       "      <td>0.003999</td>\n",
       "    </tr>\n",
       "    <tr>\n",
       "      <th>127</th>\n",
       "      <td>[mineral water, nan, olive oil, soup]</td>\n",
       "      <td>[{'items_base': ['mineral water', 'nan', 'soup'], 'items_add': ['olive oil'], 'confidence': 0.22543352601156072, 'lift': 3.4230301186492245}]</td>\n",
       "      <td>0.005199</td>\n",
       "    </tr>\n",
       "    <tr>\n",
       "      <th>128</th>\n",
       "      <td>[mineral water, nan, olive oil, whole wheat pasta]</td>\n",
       "      <td>[{'items_base': ['mineral water', 'nan', 'whole wheat pasta'], 'items_add': ['olive oil'], 'confidence': 0.4027777777777778, 'lift': 6.115862573099416}]</td>\n",
       "      <td>0.003866</td>\n",
       "    </tr>\n",
       "    <tr>\n",
       "      <th>129</th>\n",
       "      <td>[nan, olive oil, pancakes, spaghetti]</td>\n",
       "      <td>[{'items_base': ['nan', 'pancakes', 'spaghetti'], 'items_add': ['olive oil'], 'confidence': 0.20105820105820105, 'lift': 3.0529100529100526}]</td>\n",
       "      <td>0.005066</td>\n",
       "    </tr>\n",
       "    <tr>\n",
       "      <th>130</th>\n",
       "      <td>[nan, olive oil, spaghetti, tomatoes]</td>\n",
       "      <td>[{'items_base': ['nan', 'olive oil', 'tomatoes'], 'items_add': ['spaghetti'], 'confidence': 0.6111111111111112, 'lift': 3.5099115194827295}, {'items_base': ['nan', 'spaghetti', 'tomatoes'], 'items_add': ['olive oil'], 'confidence': 0.21019108280254778, 'lift': 3.19158565202816}]</td>\n",
       "      <td>0.004399</td>\n",
       "    </tr>\n",
       "    <tr>\n",
       "      <th>131</th>\n",
       "      <td>[nan, spaghetti, tomatoes, whole wheat rice]</td>\n",
       "      <td>[{'items_base': ['nan', 'spaghetti', 'whole wheat rice'], 'items_add': ['tomatoes'], 'confidence': 0.2169811320754717, 'lift': 3.1726617382029496}]</td>\n",
       "      <td>0.003066</td>\n",
       "    </tr>\n",
       "    <tr>\n",
       "      <th>132</th>\n",
       "      <td>[chocolate, eggs, ground beef, mineral water, nan]</td>\n",
       "      <td>[{'items_base': ['chocolate', 'eggs', 'mineral water', 'nan'], 'items_add': ['ground beef'], 'confidence': 0.29702970297029707, 'lift': 3.023093354111531}]</td>\n",
       "      <td>0.003999</td>\n",
       "    </tr>\n",
       "    <tr>\n",
       "      <th>133</th>\n",
       "      <td>[chocolate, frozen vegetables, ground beef, mineral water, nan]</td>\n",
       "      <td>[{'items_base': ['chocolate', 'frozen vegetables', 'mineral water', 'nan'], 'items_add': ['ground beef'], 'confidence': 0.34246575342465757, 'lift': 3.4855300087358976}, {'items_base': ['chocolate', 'ground beef', 'mineral water', 'nan'], 'items_add': ['frozen vegetables'], 'confidence': 0.30487804878048785, 'lift': 3.1984478935698455}]</td>\n",
       "      <td>0.003333</td>\n",
       "    </tr>\n",
       "    <tr>\n",
       "      <th>134</th>\n",
       "      <td>[chocolate, frozen vegetables, ground beef, nan, spaghetti]</td>\n",
       "      <td>[{'items_base': ['chocolate', 'frozen vegetables', 'ground beef', 'nan'], 'items_add': ['spaghetti'], 'confidence': 0.5348837209302326, 'lift': 3.0721001460165964}, {'items_base': ['chocolate', 'frozen vegetables', 'nan', 'spaghetti'], 'items_add': ['ground beef'], 'confidence': 0.3898305084745763, 'lift': 3.967596531978015}, {'items_base': ['chocolate', 'ground beef', 'nan', 'spaghetti'], 'items_add': ['frozen vegetables'], 'confidence': 0.33333333333333337, 'lift': 3.4969696969696975}]</td>\n",
       "      <td>0.003066</td>\n",
       "    </tr>\n",
       "    <tr>\n",
       "      <th>135</th>\n",
       "      <td>[chocolate, frozen vegetables, milk, mineral water, nan]</td>\n",
       "      <td>[{'items_base': ['chocolate', 'frozen vegetables', 'mineral water', 'nan'], 'items_add': ['milk'], 'confidence': 0.4109589041095891, 'lift': 3.1714019956029094}]</td>\n",
       "      <td>0.003999</td>\n",
       "    </tr>\n",
       "    <tr>\n",
       "      <th>136</th>\n",
       "      <td>[chocolate, frozen vegetables, milk, nan, spaghetti]</td>\n",
       "      <td>[{'items_base': ['chocolate', 'frozen vegetables', 'nan', 'spaghetti'], 'items_add': ['milk'], 'confidence': 0.44067796610169485, 'lift': 3.4007463207086555}, {'items_base': ['chocolate', 'milk', 'nan', 'spaghetti'], 'items_add': ['frozen vegetables'], 'confidence': 0.3170731707317073, 'lift': 3.3263858093126384}]</td>\n",
       "      <td>0.003466</td>\n",
       "    </tr>\n",
       "    <tr>\n",
       "      <th>137</th>\n",
       "      <td>[chocolate, frozen vegetables, mineral water, nan, shrimp]</td>\n",
       "      <td>[{'items_base': ['chocolate', 'frozen vegetables', 'mineral water', 'nan'], 'items_add': ['shrimp'], 'confidence': 0.32876712328767127, 'lift': 4.600899611531385}, {'items_base': ['chocolate', 'mineral water', 'nan', 'shrimp'], 'items_add': ['frozen vegetables'], 'confidence': 0.4210526315789474, 'lift': 4.417224880382776}]</td>\n",
       "      <td>0.003200</td>\n",
       "    </tr>\n",
       "    <tr>\n",
       "      <th>138</th>\n",
       "      <td>[chocolate, mineral water, nan, olive oil, spaghetti]</td>\n",
       "      <td>[{'items_base': ['chocolate', 'mineral water', 'nan', 'spaghetti'], 'items_add': ['olive oil'], 'confidence': 0.2436974789915966, 'lift': 3.700353825740822}]</td>\n",
       "      <td>0.003866</td>\n",
       "    </tr>\n",
       "    <tr>\n",
       "      <th>139</th>\n",
       "      <td>[chocolate, mineral water, nan, shrimp, spaghetti]</td>\n",
       "      <td>[{'items_base': ['chocolate', 'mineral water', 'nan', 'spaghetti'], 'items_add': ['shrimp'], 'confidence': 0.21848739495798317, 'lift': 3.0576006522011783}]</td>\n",
       "      <td>0.003466</td>\n",
       "    </tr>\n",
       "    <tr>\n",
       "      <th>140</th>\n",
       "      <td>[eggs, frozen vegetables, milk, mineral water, nan]</td>\n",
       "      <td>[{'items_base': ['eggs', 'frozen vegetables', 'mineral water', 'nan'], 'items_add': ['milk'], 'confidence': 0.411764705882353, 'lift': 3.177620430888405}]</td>\n",
       "      <td>0.003733</td>\n",
       "    </tr>\n",
       "    <tr>\n",
       "      <th>141</th>\n",
       "      <td>[frozen smoothie, milk, mineral water, nan, spaghetti]</td>\n",
       "      <td>[{'items_base': ['frozen smoothie', 'mineral water', 'nan', 'spaghetti'], 'items_add': ['milk'], 'confidence': 0.4705882352941177, 'lift': 3.631566206729606}, {'items_base': ['milk', 'mineral water', 'nan', 'spaghetti'], 'items_add': ['frozen smoothie'], 'confidence': 0.2033898305084746, 'lift': 3.211846565566459}]</td>\n",
       "      <td>0.003200</td>\n",
       "    </tr>\n",
       "    <tr>\n",
       "      <th>142</th>\n",
       "      <td>[frozen vegetables, ground beef, milk, mineral water, nan]</td>\n",
       "      <td>[{'items_base': ['frozen vegetables', 'ground beef', 'mineral water', 'nan'], 'items_add': ['milk'], 'confidence': 0.40579710144927533, 'lift': 3.1315679608755294}, {'items_base': ['frozen vegetables', 'milk', 'mineral water', 'nan'], 'items_add': ['ground beef'], 'confidence': 0.3373493975903614, 'lift': 3.4334570302921317}, {'items_base': ['ground beef', 'milk', 'mineral water', 'nan'], 'items_add': ['frozen vegetables'], 'confidence': 0.3373493975903614, 'lift': 3.539101861993428}]</td>\n",
       "      <td>0.003733</td>\n",
       "    </tr>\n",
       "    <tr>\n",
       "      <th>143</th>\n",
       "      <td>[frozen vegetables, ground beef, milk, nan, spaghetti]</td>\n",
       "      <td>[{'items_base': ['frozen vegetables', 'ground beef', 'milk', 'nan'], 'items_add': ['spaghetti'], 'confidence': 0.5348837209302326, 'lift': 3.0721001460165964}, {'items_base': ['frozen vegetables', 'milk', 'nan', 'spaghetti'], 'items_add': ['ground beef'], 'confidence': 0.3709677419354839, 'lift': 3.7756160546242397}, {'items_base': ['ground beef', 'milk', 'nan', 'spaghetti'], 'items_add': ['frozen vegetables'], 'confidence': 0.3150684931506849, 'lift': 3.305354919053549}]</td>\n",
       "      <td>0.003066</td>\n",
       "    </tr>\n",
       "    <tr>\n",
       "      <th>144</th>\n",
       "      <td>[frozen vegetables, ground beef, mineral water, nan, spaghetti]</td>\n",
       "      <td>[{'items_base': ['frozen vegetables', 'mineral water', 'nan', 'spaghetti'], 'items_add': ['ground beef'], 'confidence': 0.3666666666666667, 'lift': 3.7318407960199007}]</td>\n",
       "      <td>0.004399</td>\n",
       "    </tr>\n",
       "    <tr>\n",
       "      <th>145</th>\n",
       "      <td>[frozen vegetables, milk, mineral water, nan, olive oil]</td>\n",
       "      <td>[{'items_base': ['frozen vegetables', 'milk', 'mineral water', 'nan'], 'items_add': ['olive oil'], 'confidence': 0.30120481927710846, 'lift': 4.573557387444516}, {'items_base': ['frozen vegetables', 'mineral water', 'nan', 'olive oil'], 'items_add': ['milk'], 'confidence': 0.5102040816326531, 'lift': 3.937284790459394}, {'items_base': ['milk', 'mineral water', 'nan', 'olive oil'], 'items_add': ['frozen vegetables'], 'confidence': 0.39062500000000006, 'lift': 4.098011363636364}]</td>\n",
       "      <td>0.003333</td>\n",
       "    </tr>\n",
       "    <tr>\n",
       "      <th>146</th>\n",
       "      <td>[frozen vegetables, milk, mineral water, nan, soup]</td>\n",
       "      <td>[{'items_base': ['frozen vegetables', 'milk', 'mineral water', 'nan'], 'items_add': ['soup'], 'confidence': 0.27710843373493976, 'lift': 5.484407286136631}, {'items_base': ['frozen vegetables', 'milk', 'nan', 'soup'], 'items_add': ['mineral water'], 'confidence': 0.7666666666666666, 'lift': 3.21631245339299}, {'items_base': ['frozen vegetables', 'mineral water', 'nan', 'soup'], 'items_add': ['milk'], 'confidence': 0.6052631578947368, 'lift': 4.670863114576565}, {'items_base': ['milk', 'mineral water', 'nan', 'soup'], 'items_add': ['frozen vegetables'], 'confidence': 0.35937500000000006, 'lift': 3.7701704545454553}]</td>\n",
       "      <td>0.003066</td>\n",
       "    </tr>\n",
       "    <tr>\n",
       "      <th>147</th>\n",
       "      <td>[frozen vegetables, milk, mineral water, nan, spaghetti]</td>\n",
       "      <td>[{'items_base': ['milk', 'mineral water', 'nan', 'spaghetti'], 'items_add': ['frozen vegetables'], 'confidence': 0.28813559322033894, 'lift': 3.0228043143297376}]</td>\n",
       "      <td>0.004533</td>\n",
       "    </tr>\n",
       "    <tr>\n",
       "      <th>148</th>\n",
       "      <td>[frozen vegetables, mineral water, nan, shrimp, spaghetti]</td>\n",
       "      <td>[{'items_base': ['frozen vegetables', 'mineral water', 'nan', 'spaghetti'], 'items_add': ['shrimp'], 'confidence': 0.2777777777777778, 'lift': 3.8873341625207294}, {'items_base': ['mineral water', 'nan', 'shrimp', 'spaghetti'], 'items_add': ['frozen vegetables'], 'confidence': 0.39062500000000006, 'lift': 4.098011363636364}]</td>\n",
       "      <td>0.003333</td>\n",
       "    </tr>\n",
       "    <tr>\n",
       "      <th>149</th>\n",
       "      <td>[frozen vegetables, mineral water, nan, spaghetti, tomatoes]</td>\n",
       "      <td>[{'items_base': ['frozen vegetables', 'mineral water', 'nan', 'spaghetti'], 'items_add': ['tomatoes'], 'confidence': 0.2555555555555556, 'lift': 3.7366904916612524}, {'items_base': ['frozen vegetables', 'mineral water', 'nan', 'tomatoes'], 'items_add': ['spaghetti'], 'confidence': 0.5227272727272727, 'lift': 3.0022796881525826}, {'items_base': ['mineral water', 'nan', 'spaghetti', 'tomatoes'], 'items_add': ['frozen vegetables'], 'confidence': 0.32857142857142857, 'lift': 3.447012987012987}]</td>\n",
       "      <td>0.003066</td>\n",
       "    </tr>\n",
       "    <tr>\n",
       "      <th>150</th>\n",
       "      <td>[ground beef, mineral water, nan, olive oil, spaghetti]</td>\n",
       "      <td>[{'items_base': ['mineral water', 'nan', 'olive oil', 'spaghetti'], 'items_add': ['ground beef'], 'confidence': 0.2987012987012987, 'lift': 3.0401064335935435}]</td>\n",
       "      <td>0.003066</td>\n",
       "    </tr>\n",
       "    <tr>\n",
       "      <th>151</th>\n",
       "      <td>[ground beef, mineral water, nan, spaghetti, tomatoes]</td>\n",
       "      <td>[{'items_base': ['ground beef', 'mineral water', 'nan', 'tomatoes'], 'items_add': ['spaghetti'], 'confidence': 0.5609756097560976, 'lift': 3.221958689724723}, {'items_base': ['mineral water', 'nan', 'spaghetti', 'tomatoes'], 'items_add': ['ground beef'], 'confidence': 0.32857142857142857, 'lift': 3.344117076952898}]</td>\n",
       "      <td>0.003066</td>\n",
       "    </tr>\n",
       "    <tr>\n",
       "      <th>152</th>\n",
       "      <td>[milk, mineral water, nan, olive oil, spaghetti]</td>\n",
       "      <td>[{'items_base': ['milk', 'mineral water', 'nan', 'spaghetti'], 'items_add': ['olive oil'], 'confidence': 0.211864406779661, 'lift': 3.216993755575379}]</td>\n",
       "      <td>0.003333</td>\n",
       "    </tr>\n",
       "    <tr>\n",
       "      <th>153</th>\n",
       "      <td>[milk, mineral water, nan, spaghetti, tomatoes]</td>\n",
       "      <td>[{'items_base': ['milk', 'mineral water', 'nan', 'spaghetti'], 'items_add': ['tomatoes'], 'confidence': 0.211864406779661, 'lift': 3.0978458387022165}]</td>\n",
       "      <td>0.003333</td>\n",
       "    </tr>\n",
       "  </tbody>\n",
       "</table>"
      ],
      "text/plain": [
       "<IPython.core.display.HTML object>"
      ]
     },
     "metadata": {},
     "output_type": "display_data"
    }
   ],
   "source": [
    "# и взгялнем на итоги\n",
    "pd.set_option('display.max_colwidth', -1)\n",
    "\n",
    "from IPython.display import display, HTML\n",
    "\n",
    "display(HTML(data_df.to_html()))"
   ]
>>>>>>> 433ccb5d41fa0d0bb968b063f9801a85a16aa28b
  },
  {
   "cell_type": "markdown",
   "metadata": {},
   "source": [
<<<<<<< HEAD
    "### ECLAT Algorithm"
=======
    "Итого мы видим:\n",
    "\n",
    "1. Пары items\n",
    "2. items_base - первый элемент пары\n",
    "3. items_add - второй (добавленный алгоритмом) элемент пары\n",
    "4. confidence - значение confidence для пары\n",
    "5. lift - значение lift для пары\n",
    "6. support - начение support для пары. При желании, по нему можно отсортировать \n",
    "\n",
    "\n",
    "Результаты логичные: эскалоп и макароны, эскалоп и сливочно-грибной соус, курица и нежирная сметана, мягкий сыр и мед и т.д. - все это вполне логичные и, главное, вкусные сочетания:)"
>>>>>>> 433ccb5d41fa0d0bb968b063f9801a85a16aa28b
   ]
  },
  {
   "cell_type": "markdown",
   "metadata": {},
   "source": [
<<<<<<< HEAD
    "#### Теория"
=======
    "#### Реализация в R"
>>>>>>> 433ccb5d41fa0d0bb968b063f9801a85a16aa28b
   ]
  },
  {
   "cell_type": "markdown",
   "metadata": {
    "collapsed": true
   },
   "source": [
<<<<<<< HEAD
    "Идея алгоритма ECLAT заключается в ускорении подсчета $supp(X)$. Для этого нам необходимо проиндексировать наше базу данных $D$ так, чтобы это позволило быстро рассчитывать $supp(X)$"
=======
    "ARL тот случай,скогда R-фаги могут злорадно похихикать. В R реализована библиотека arules, где присутствует и apriori, и другие алгоритмы. Официальную доку можно посмотреть тут - https://cran.r-project.org/web/packages/arules/arules.pdf"
>>>>>>> 433ccb5d41fa0d0bb968b063f9801a85a16aa28b
   ]
  },
  {
   "cell_type": "markdown",
   "metadata": {
    "collapsed": true
   },
   "source": [
<<<<<<< HEAD
    "Легко заметить, что если $t(X)$ обозначает множество всех транзакций, где встречается подмножество $X$, то\n",
    "<br>$t(XY) = t(X) \\cap t(Y)$</br>\n",
    "<br>и</br>\n",
    "<br>$supp(XY) = |t(XY)|$</br>\n",
    "<br> то есть $supp(XY)$ равен кардинальности (размеру) множества $t(XY)$"
=======
    "Посмотрим на нее в действии:"
>>>>>>> 433ccb5d41fa0d0bb968b063f9801a85a16aa28b
   ]
  },
  {
   "cell_type": "markdown",
   "metadata": {},
   "source": [
<<<<<<< HEAD
    "#### Реализация в Python"
   ]
  },
  {
   "cell_type": "code",
   "execution_count": null,
   "metadata": {
    "collapsed": true
   },
   "outputs": [],
   "source": []
=======
    "Для начала установим ее (если еще не установили):\n",
    "<br>\n",
    "install.packages('arules')"
   ]
  },
  {
   "cell_type": "markdown",
   "metadata": {},
   "source": [
    "Считаем данные и преобразуем их в матрицу транзакций:\n",
    "<BR>\n",
    "<br>\n",
    "$library(arules)$\n",
    "<br>\n",
    "$dataset = read.csv('Market_Basket_Optimisation.csv', header = FALSE)$\n",
    "<br>\n",
    "$dataset = read.transactions('Market_Basket_Optimisation.csv', sep = ',', rm.duplicates = TRUE)$"
   ]
  },
  {
   "cell_type": "markdown",
   "metadata": {},
   "source": [
    "Посмотрим на данные:\n",
    "<BR>\n",
    "$summary(dataset)$\n",
    "<br>\n",
    "$itemFrequencyPlot(dataset, topN = 10)$"
   ]
  },
  {
   "cell_type": "markdown",
   "metadata": {},
   "source": [
    "Выучим наши правила:\n",
    "<br>\n",
    "В общем виде фнкция вызова apriori выглядит так:  $apriori(data, parameter = NULL, appearance = NULL, control = NULL)$, где\n",
    "<br>\n",
    "\n",
    "$data$ - наш датасет\n",
    "<br>\n",
    "$paramter$ - список (list) параметров для модели: минимальные support, confidence и lift\n",
    "<br>\n",
    "$appearance$ - отвечает за отображение данных. Может принимать значения lhs, rhs, both, items, none, которые определяют положение items в output\n",
    "<br>\n",
    "$control$ - отвечает за сортировку вывода (ascending, descending, без сортировки), а также за то, отображать ли прогрессбар или нет (параметр verbose)\n",
    "\n"
   ]
  },
  {
   "cell_type": "markdown",
   "metadata": {},
   "source": [
    "Обучим модель:"
   ]
  },
  {
   "cell_type": "markdown",
   "metadata": {},
   "source": [
    "$rules = apriori(data = dataset, parameter = list(support = 0.004, confidence = 0.2))$"
   ]
  },
  {
   "cell_type": "markdown",
   "metadata": {},
   "source": [
    "И посмотрим на результаты:\n",
    "<br>\n",
    "$inspect(sort(rules, by = 'lift')[1:10])$"
   ]
  },
  {
   "cell_type": "markdown",
   "metadata": {},
   "source": [
    "Убедимся, что на выходе имеем примерно те же результаты, что при использовании модуля apyori в Python:\n",
    "<br>\n",
    "\n",
    "1. {light cream}                               => {chicken}       0.004532729\n",
    "2. {pasta}                                     => {escalope}      0.005865885\n",
    "3. {pasta}                                     => {shrimp}        0.005065991\n",
    "4. {eggs,ground beef}                          => {herb & pepper} 0.004132782\n",
    "5. {whole wheat pasta}                         => {olive oil}     0.007998933\n",
    "6. {herb & pepper,spaghetti}                   => {ground beef}   0.006399147\n",
    "7. {herb & pepper,mineral water}               => {ground beef}   0.006665778\n",
    "8. {tomato sauce}                              => {ground beef}   0.005332622\n",
    "9. {mushroom cream sauce}                      => {escalope}      0.005732569\n",
    "10. {frozen vegetables,mineral water,spaghetti} => {ground beef}   0.004399413"
   ]
  },
  {
   "cell_type": "markdown",
   "metadata": {},
   "source": [
    "Как видно, в R apriori использовать на данный момент намного удобнее, чем в Python."
   ]
  },
  {
   "cell_type": "markdown",
   "metadata": {},
   "source": [
    "### ECLAT Algorithm"
   ]
  },
  {
   "cell_type": "markdown",
   "metadata": {},
   "source": [
    "#### Теория"
   ]
>>>>>>> 433ccb5d41fa0d0bb968b063f9801a85a16aa28b
  },
  {
   "cell_type": "code",
   "execution_count": null,
   "metadata": {
    "collapsed": true
   },
   "outputs": [],
   "source": []
  },
  {
   "cell_type": "code",
   "execution_count": null,
   "metadata": {
    "collapsed": true
   },
   "outputs": [],
   "source": []
  },
  {
   "cell_type": "markdown",
   "metadata": {},
   "source": [
<<<<<<< HEAD
    "#### Реализация в R"
=======
    "#### Реализация в Python"
>>>>>>> 433ccb5d41fa0d0bb968b063f9801a85a16aa28b
   ]
  },
  {
   "cell_type": "code",
   "execution_count": null,
<<<<<<< HEAD
   "metadata": {
    "collapsed": true
   },
=======
   "metadata": {},
>>>>>>> 433ccb5d41fa0d0bb968b063f9801a85a16aa28b
   "outputs": [],
   "source": []
  },
  {
   "cell_type": "code",
   "execution_count": null,
   "metadata": {
    "collapsed": true
   },
   "outputs": [],
   "source": []
  },
  {
   "cell_type": "code",
   "execution_count": null,
   "metadata": {
    "collapsed": true
   },
   "outputs": [],
   "source": []
  },
  {
   "cell_type": "markdown",
   "metadata": {},
   "source": [
<<<<<<< HEAD
=======
    "#### Реализация в R"
   ]
  },
  {
   "cell_type": "markdown",
   "metadata": {
    "collapsed": true
   },
   "source": [
    "И вновь пользователи R ликуют, для них никаких танцев с бубном делать не надо, все по аналогии с apriori. "
   ]
  },
  {
   "cell_type": "markdown",
   "metadata": {
    "collapsed": true
   },
   "source": [
    "Запускаем библиотеку и читаем данные:\n",
    "\n",
    "$library(arules)$\n",
    "<br>\n",
    "$dataset = read.csv('Market_Basket_Optimisation.csv')$\n",
    "<br>\n",
    "$dataset = read.transactions('Market_Basket_Optimisation.csv', sep = ',', rm.duplicates = TRUE)$\n"
   ]
  },
  {
   "cell_type": "markdown",
   "metadata": {},
   "source": [
    "Быстрый взгляд на датасет:\n",
    "<br>\n",
    "$summary(dataset)$\n",
    "<br>\n",
    "$itemFrequencyPlot(dataset, topN = 10)$"
   ]
  },
  {
   "cell_type": "markdown",
   "metadata": {},
   "source": [
    "Правила:\n",
    "<br>\n",
    "$rules = eclat(data = dataset, parameter = list(support = 0.003, minlen = 2))$ \n",
    "<br>\n",
    "Обратите внимание, настраиваем толкьо support и минимальную длину (k в k-itemset)"
   ]
  },
  {
   "cell_type": "markdown",
   "metadata": {},
   "source": [
    "И смотрим на результаты:\n",
    "<br>\n",
    "$inspect(sort(rules, by = 'support')[1:10])$"
   ]
  },
  {
   "cell_type": "markdown",
   "metadata": {},
   "source": [
>>>>>>> 433ccb5d41fa0d0bb968b063f9801a85a16aa28b
    "### FP-Growth Algorithm"
   ]
  },
  {
   "cell_type": "markdown",
   "metadata": {},
   "source": [
    "#### Теория"
   ]
  },
  {
   "cell_type": "code",
   "execution_count": null,
   "metadata": {
    "collapsed": true
   },
   "outputs": [],
   "source": []
  },
  {
   "cell_type": "code",
   "execution_count": null,
   "metadata": {
    "collapsed": true
   },
   "outputs": [],
   "source": []
  },
  {
   "cell_type": "markdown",
   "metadata": {},
   "source": [
    "#### Реализация в Python"
   ]
  },
  {
   "cell_type": "code",
<<<<<<< HEAD
   "execution_count": null,
   "metadata": {
    "collapsed": true
   },
   "outputs": [],
   "source": []
  },
  {
   "cell_type": "code",
   "execution_count": null,
   "metadata": {
    "collapsed": true
   },
   "outputs": [],
   "source": []
=======
   "execution_count": 6,
   "metadata": {},
   "outputs": [
    {
     "name": "stdout",
     "output_type": "stream",
     "text": [
      "Collecting pyspark\n",
      "  Downloading pyspark-2.3.0.tar.gz (211.9MB)\n",
      "Collecting py4j==0.10.6 (from pyspark)\n",
      "  Downloading py4j-0.10.6-py2.py3-none-any.whl (189kB)\n",
      "Building wheels for collected packages: pyspark\n",
      "  Running setup.py bdist_wheel for pyspark: started\n",
      "  Running setup.py bdist_wheel for pyspark: finished with status 'done'\n",
      "  Stored in directory: C:\\Users\\pavel.golubev\\AppData\\Local\\pip\\Cache\\wheels\\4f\\39\\ba\\b4cb0280c568ed31b63dcfa0c6275f2ffe225eeff95ba198d6\n",
      "Successfully built pyspark\n",
      "Installing collected packages: py4j, pyspark\n",
      "Successfully installed py4j-0.10.6 pyspark-2.3.0\n"
     ]
    }
   ],
   "source": [
    "!pip install pyspark"
   ]
  },
  {
   "cell_type": "code",
   "execution_count": 1,
   "metadata": {},
   "outputs": [
    {
     "ename": "Py4JJavaError",
     "evalue": "An error occurred while calling o21.trainFPGrowthModel.\n: org.apache.spark.SparkException: Job aborted due to stage failure: Task 0 in stage 1.0 failed 1 times, most recent failure: Lost task 0.0 in stage 1.0 (TID 2, localhost, executor driver): org.apache.spark.SparkException: Items in a transaction must be unique but got WrappedArray(<meta, name=\"description\", content=\"GitHub, is, where, people, build, software., More, than, 28, million, people, use, GitHub, to, discover,, fork,, and, contribute, to, over, 80, million, projects.\">).\r\n\tat org.apache.spark.mllib.fpm.FPGrowth$$anonfun$5.apply(FPGrowth.scala:243)\r\n\tat org.apache.spark.mllib.fpm.FPGrowth$$anonfun$5.apply(FPGrowth.scala:240)\r\n\tat scala.collection.Iterator$$anon$12.nextCur(Iterator.scala:434)\r\n\tat scala.collection.Iterator$$anon$12.hasNext(Iterator.scala:440)\r\n\tat scala.collection.Iterator$$anon$11.hasNext(Iterator.scala:408)\r\n\tat org.apache.spark.util.collection.ExternalSorter.insertAll(ExternalSorter.scala:191)\r\n\tat org.apache.spark.shuffle.sort.SortShuffleWriter.write(SortShuffleWriter.scala:63)\r\n\tat org.apache.spark.scheduler.ShuffleMapTask.runTask(ShuffleMapTask.scala:96)\r\n\tat org.apache.spark.scheduler.ShuffleMapTask.runTask(ShuffleMapTask.scala:53)\r\n\tat org.apache.spark.scheduler.Task.run(Task.scala:109)\r\n\tat org.apache.spark.executor.Executor$TaskRunner.run(Executor.scala:345)\r\n\tat java.util.concurrent.ThreadPoolExecutor.runWorker(Unknown Source)\r\n\tat java.util.concurrent.ThreadPoolExecutor$Worker.run(Unknown Source)\r\n\tat java.lang.Thread.run(Unknown Source)\r\n\nDriver stacktrace:\r\n\tat org.apache.spark.scheduler.DAGScheduler.org$apache$spark$scheduler$DAGScheduler$$failJobAndIndependentStages(DAGScheduler.scala:1599)\r\n\tat org.apache.spark.scheduler.DAGScheduler$$anonfun$abortStage$1.apply(DAGScheduler.scala:1587)\r\n\tat org.apache.spark.scheduler.DAGScheduler$$anonfun$abortStage$1.apply(DAGScheduler.scala:1586)\r\n\tat scala.collection.mutable.ResizableArray$class.foreach(ResizableArray.scala:59)\r\n\tat scala.collection.mutable.ArrayBuffer.foreach(ArrayBuffer.scala:48)\r\n\tat org.apache.spark.scheduler.DAGScheduler.abortStage(DAGScheduler.scala:1586)\r\n\tat org.apache.spark.scheduler.DAGScheduler$$anonfun$handleTaskSetFailed$1.apply(DAGScheduler.scala:831)\r\n\tat org.apache.spark.scheduler.DAGScheduler$$anonfun$handleTaskSetFailed$1.apply(DAGScheduler.scala:831)\r\n\tat scala.Option.foreach(Option.scala:257)\r\n\tat org.apache.spark.scheduler.DAGScheduler.handleTaskSetFailed(DAGScheduler.scala:831)\r\n\tat org.apache.spark.scheduler.DAGSchedulerEventProcessLoop.doOnReceive(DAGScheduler.scala:1820)\r\n\tat org.apache.spark.scheduler.DAGSchedulerEventProcessLoop.onReceive(DAGScheduler.scala:1769)\r\n\tat org.apache.spark.scheduler.DAGSchedulerEventProcessLoop.onReceive(DAGScheduler.scala:1758)\r\n\tat org.apache.spark.util.EventLoop$$anon$1.run(EventLoop.scala:48)\r\n\tat org.apache.spark.scheduler.DAGScheduler.runJob(DAGScheduler.scala:642)\r\n\tat org.apache.spark.SparkContext.runJob(SparkContext.scala:2027)\r\n\tat org.apache.spark.SparkContext.runJob(SparkContext.scala:2048)\r\n\tat org.apache.spark.SparkContext.runJob(SparkContext.scala:2067)\r\n\tat org.apache.spark.SparkContext.runJob(SparkContext.scala:2092)\r\n\tat org.apache.spark.rdd.RDD$$anonfun$collect$1.apply(RDD.scala:939)\r\n\tat org.apache.spark.rdd.RDDOperationScope$.withScope(RDDOperationScope.scala:151)\r\n\tat org.apache.spark.rdd.RDDOperationScope$.withScope(RDDOperationScope.scala:112)\r\n\tat org.apache.spark.rdd.RDD.withScope(RDD.scala:363)\r\n\tat org.apache.spark.rdd.RDD.collect(RDD.scala:938)\r\n\tat org.apache.spark.mllib.fpm.FPGrowth.genFreqItems(FPGrowth.scala:249)\r\n\tat org.apache.spark.mllib.fpm.FPGrowth.run(FPGrowth.scala:216)\r\n\tat org.apache.spark.mllib.api.python.PythonMLLibAPI.trainFPGrowthModel(PythonMLLibAPI.scala:579)\r\n\tat sun.reflect.NativeMethodAccessorImpl.invoke0(Native Method)\r\n\tat sun.reflect.NativeMethodAccessorImpl.invoke(Unknown Source)\r\n\tat sun.reflect.DelegatingMethodAccessorImpl.invoke(Unknown Source)\r\n\tat java.lang.reflect.Method.invoke(Unknown Source)\r\n\tat py4j.reflection.MethodInvoker.invoke(MethodInvoker.java:244)\r\n\tat py4j.reflection.ReflectionEngine.invoke(ReflectionEngine.java:357)\r\n\tat py4j.Gateway.invoke(Gateway.java:282)\r\n\tat py4j.commands.AbstractCommand.invokeMethod(AbstractCommand.java:132)\r\n\tat py4j.commands.CallCommand.execute(CallCommand.java:79)\r\n\tat py4j.GatewayConnection.run(GatewayConnection.java:214)\r\n\tat java.lang.Thread.run(Unknown Source)\r\nCaused by: org.apache.spark.SparkException: Items in a transaction must be unique but got WrappedArray(<meta, name=\"description\", content=\"GitHub, is, where, people, build, software., More, than, 28, million, people, use, GitHub, to, discover,, fork,, and, contribute, to, over, 80, million, projects.\">).\r\n\tat org.apache.spark.mllib.fpm.FPGrowth$$anonfun$5.apply(FPGrowth.scala:243)\r\n\tat org.apache.spark.mllib.fpm.FPGrowth$$anonfun$5.apply(FPGrowth.scala:240)\r\n\tat scala.collection.Iterator$$anon$12.nextCur(Iterator.scala:434)\r\n\tat scala.collection.Iterator$$anon$12.hasNext(Iterator.scala:440)\r\n\tat scala.collection.Iterator$$anon$11.hasNext(Iterator.scala:408)\r\n\tat org.apache.spark.util.collection.ExternalSorter.insertAll(ExternalSorter.scala:191)\r\n\tat org.apache.spark.shuffle.sort.SortShuffleWriter.write(SortShuffleWriter.scala:63)\r\n\tat org.apache.spark.scheduler.ShuffleMapTask.runTask(ShuffleMapTask.scala:96)\r\n\tat org.apache.spark.scheduler.ShuffleMapTask.runTask(ShuffleMapTask.scala:53)\r\n\tat org.apache.spark.scheduler.Task.run(Task.scala:109)\r\n\tat org.apache.spark.executor.Executor$TaskRunner.run(Executor.scala:345)\r\n\tat java.util.concurrent.ThreadPoolExecutor.runWorker(Unknown Source)\r\n\tat java.util.concurrent.ThreadPoolExecutor$Worker.run(Unknown Source)\r\n\t... 1 more\r\n",
     "output_type": "error",
     "traceback": [
      "\u001b[1;31m---------------------------------------------------------------------------\u001b[0m",
      "\u001b[1;31mPy4JJavaError\u001b[0m                             Traceback (most recent call last)",
      "\u001b[1;32m<ipython-input-1-aaa912198d24>\u001b[0m in \u001b[0;36m<module>\u001b[1;34m()\u001b[0m\n\u001b[0;32m      9\u001b[0m     \u001b[0mdata\u001b[0m \u001b[1;33m=\u001b[0m \u001b[0msc\u001b[0m\u001b[1;33m.\u001b[0m\u001b[0mtextFile\u001b[0m\u001b[1;33m(\u001b[0m\u001b[1;34m\"src/data/sample_fpgrowth.txt\"\u001b[0m\u001b[1;33m)\u001b[0m\u001b[1;33m\u001b[0m\u001b[0m\n\u001b[0;32m     10\u001b[0m     \u001b[0mtransactions\u001b[0m \u001b[1;33m=\u001b[0m \u001b[0mdata\u001b[0m\u001b[1;33m.\u001b[0m\u001b[0mmap\u001b[0m\u001b[1;33m(\u001b[0m\u001b[1;32mlambda\u001b[0m \u001b[0mline\u001b[0m\u001b[1;33m:\u001b[0m \u001b[0mline\u001b[0m\u001b[1;33m.\u001b[0m\u001b[0mstrip\u001b[0m\u001b[1;33m(\u001b[0m\u001b[1;33m)\u001b[0m\u001b[1;33m.\u001b[0m\u001b[0msplit\u001b[0m\u001b[1;33m(\u001b[0m\u001b[1;34m' '\u001b[0m\u001b[1;33m)\u001b[0m\u001b[1;33m)\u001b[0m\u001b[1;33m\u001b[0m\u001b[0m\n\u001b[1;32m---> 11\u001b[1;33m     \u001b[0mmodel\u001b[0m \u001b[1;33m=\u001b[0m \u001b[0mFPGrowth\u001b[0m\u001b[1;33m.\u001b[0m\u001b[0mtrain\u001b[0m\u001b[1;33m(\u001b[0m\u001b[0mtransactions\u001b[0m\u001b[1;33m,\u001b[0m \u001b[0mminSupport\u001b[0m\u001b[1;33m=\u001b[0m\u001b[1;36m0.2\u001b[0m\u001b[1;33m,\u001b[0m \u001b[0mnumPartitions\u001b[0m\u001b[1;33m=\u001b[0m\u001b[1;36m10\u001b[0m\u001b[1;33m)\u001b[0m\u001b[1;33m\u001b[0m\u001b[0m\n\u001b[0m\u001b[0;32m     12\u001b[0m     \u001b[0mresult\u001b[0m \u001b[1;33m=\u001b[0m \u001b[0mmodel\u001b[0m\u001b[1;33m.\u001b[0m\u001b[0mfreqItemsets\u001b[0m\u001b[1;33m(\u001b[0m\u001b[1;33m)\u001b[0m\u001b[1;33m.\u001b[0m\u001b[0mcollect\u001b[0m\u001b[1;33m(\u001b[0m\u001b[1;33m)\u001b[0m\u001b[1;33m\u001b[0m\u001b[0m\n\u001b[0;32m     13\u001b[0m     \u001b[1;32mfor\u001b[0m \u001b[0mfi\u001b[0m \u001b[1;32min\u001b[0m \u001b[0mresult\u001b[0m\u001b[1;33m:\u001b[0m\u001b[1;33m\u001b[0m\u001b[0m\n",
      "\u001b[1;32m~\\AppData\\Local\\Continuum\\anaconda3\\lib\\site-packages\\pyspark\\mllib\\fpm.py\u001b[0m in \u001b[0;36mtrain\u001b[1;34m(cls, data, minSupport, numPartitions)\u001b[0m\n\u001b[0;32m     90\u001b[0m           \u001b[1;33m(\u001b[0m\u001b[0mdefault\u001b[0m\u001b[1;33m:\u001b[0m \u001b[1;33m-\u001b[0m\u001b[1;36m1\u001b[0m\u001b[1;33m)\u001b[0m\u001b[1;33m\u001b[0m\u001b[0m\n\u001b[0;32m     91\u001b[0m         \"\"\"\n\u001b[1;32m---> 92\u001b[1;33m         \u001b[0mmodel\u001b[0m \u001b[1;33m=\u001b[0m \u001b[0mcallMLlibFunc\u001b[0m\u001b[1;33m(\u001b[0m\u001b[1;34m\"trainFPGrowthModel\"\u001b[0m\u001b[1;33m,\u001b[0m \u001b[0mdata\u001b[0m\u001b[1;33m,\u001b[0m \u001b[0mfloat\u001b[0m\u001b[1;33m(\u001b[0m\u001b[0mminSupport\u001b[0m\u001b[1;33m)\u001b[0m\u001b[1;33m,\u001b[0m \u001b[0mint\u001b[0m\u001b[1;33m(\u001b[0m\u001b[0mnumPartitions\u001b[0m\u001b[1;33m)\u001b[0m\u001b[1;33m)\u001b[0m\u001b[1;33m\u001b[0m\u001b[0m\n\u001b[0m\u001b[0;32m     93\u001b[0m         \u001b[1;32mreturn\u001b[0m \u001b[0mFPGrowthModel\u001b[0m\u001b[1;33m(\u001b[0m\u001b[0mmodel\u001b[0m\u001b[1;33m)\u001b[0m\u001b[1;33m\u001b[0m\u001b[0m\n\u001b[0;32m     94\u001b[0m \u001b[1;33m\u001b[0m\u001b[0m\n",
      "\u001b[1;32m~\\AppData\\Local\\Continuum\\anaconda3\\lib\\site-packages\\pyspark\\mllib\\common.py\u001b[0m in \u001b[0;36mcallMLlibFunc\u001b[1;34m(name, *args)\u001b[0m\n\u001b[0;32m    128\u001b[0m     \u001b[0msc\u001b[0m \u001b[1;33m=\u001b[0m \u001b[0mSparkContext\u001b[0m\u001b[1;33m.\u001b[0m\u001b[0mgetOrCreate\u001b[0m\u001b[1;33m(\u001b[0m\u001b[1;33m)\u001b[0m\u001b[1;33m\u001b[0m\u001b[0m\n\u001b[0;32m    129\u001b[0m     \u001b[0mapi\u001b[0m \u001b[1;33m=\u001b[0m \u001b[0mgetattr\u001b[0m\u001b[1;33m(\u001b[0m\u001b[0msc\u001b[0m\u001b[1;33m.\u001b[0m\u001b[0m_jvm\u001b[0m\u001b[1;33m.\u001b[0m\u001b[0mPythonMLLibAPI\u001b[0m\u001b[1;33m(\u001b[0m\u001b[1;33m)\u001b[0m\u001b[1;33m,\u001b[0m \u001b[0mname\u001b[0m\u001b[1;33m)\u001b[0m\u001b[1;33m\u001b[0m\u001b[0m\n\u001b[1;32m--> 130\u001b[1;33m     \u001b[1;32mreturn\u001b[0m \u001b[0mcallJavaFunc\u001b[0m\u001b[1;33m(\u001b[0m\u001b[0msc\u001b[0m\u001b[1;33m,\u001b[0m \u001b[0mapi\u001b[0m\u001b[1;33m,\u001b[0m \u001b[1;33m*\u001b[0m\u001b[0margs\u001b[0m\u001b[1;33m)\u001b[0m\u001b[1;33m\u001b[0m\u001b[0m\n\u001b[0m\u001b[0;32m    131\u001b[0m \u001b[1;33m\u001b[0m\u001b[0m\n\u001b[0;32m    132\u001b[0m \u001b[1;33m\u001b[0m\u001b[0m\n",
      "\u001b[1;32m~\\AppData\\Local\\Continuum\\anaconda3\\lib\\site-packages\\pyspark\\mllib\\common.py\u001b[0m in \u001b[0;36mcallJavaFunc\u001b[1;34m(sc, func, *args)\u001b[0m\n\u001b[0;32m    121\u001b[0m     \u001b[1;34m\"\"\" Call Java Function \"\"\"\u001b[0m\u001b[1;33m\u001b[0m\u001b[0m\n\u001b[0;32m    122\u001b[0m     \u001b[0margs\u001b[0m \u001b[1;33m=\u001b[0m \u001b[1;33m[\u001b[0m\u001b[0m_py2java\u001b[0m\u001b[1;33m(\u001b[0m\u001b[0msc\u001b[0m\u001b[1;33m,\u001b[0m \u001b[0ma\u001b[0m\u001b[1;33m)\u001b[0m \u001b[1;32mfor\u001b[0m \u001b[0ma\u001b[0m \u001b[1;32min\u001b[0m \u001b[0margs\u001b[0m\u001b[1;33m]\u001b[0m\u001b[1;33m\u001b[0m\u001b[0m\n\u001b[1;32m--> 123\u001b[1;33m     \u001b[1;32mreturn\u001b[0m \u001b[0m_java2py\u001b[0m\u001b[1;33m(\u001b[0m\u001b[0msc\u001b[0m\u001b[1;33m,\u001b[0m \u001b[0mfunc\u001b[0m\u001b[1;33m(\u001b[0m\u001b[1;33m*\u001b[0m\u001b[0margs\u001b[0m\u001b[1;33m)\u001b[0m\u001b[1;33m)\u001b[0m\u001b[1;33m\u001b[0m\u001b[0m\n\u001b[0m\u001b[0;32m    124\u001b[0m \u001b[1;33m\u001b[0m\u001b[0m\n\u001b[0;32m    125\u001b[0m \u001b[1;33m\u001b[0m\u001b[0m\n",
      "\u001b[1;32m~\\AppData\\Local\\Continuum\\anaconda3\\lib\\site-packages\\py4j\\java_gateway.py\u001b[0m in \u001b[0;36m__call__\u001b[1;34m(self, *args)\u001b[0m\n\u001b[0;32m   1158\u001b[0m         \u001b[0manswer\u001b[0m \u001b[1;33m=\u001b[0m \u001b[0mself\u001b[0m\u001b[1;33m.\u001b[0m\u001b[0mgateway_client\u001b[0m\u001b[1;33m.\u001b[0m\u001b[0msend_command\u001b[0m\u001b[1;33m(\u001b[0m\u001b[0mcommand\u001b[0m\u001b[1;33m)\u001b[0m\u001b[1;33m\u001b[0m\u001b[0m\n\u001b[0;32m   1159\u001b[0m         return_value = get_return_value(\n\u001b[1;32m-> 1160\u001b[1;33m             answer, self.gateway_client, self.target_id, self.name)\n\u001b[0m\u001b[0;32m   1161\u001b[0m \u001b[1;33m\u001b[0m\u001b[0m\n\u001b[0;32m   1162\u001b[0m         \u001b[1;32mfor\u001b[0m \u001b[0mtemp_arg\u001b[0m \u001b[1;32min\u001b[0m \u001b[0mtemp_args\u001b[0m\u001b[1;33m:\u001b[0m\u001b[1;33m\u001b[0m\u001b[0m\n",
      "\u001b[1;32m~\\AppData\\Local\\Continuum\\anaconda3\\lib\\site-packages\\py4j\\protocol.py\u001b[0m in \u001b[0;36mget_return_value\u001b[1;34m(answer, gateway_client, target_id, name)\u001b[0m\n\u001b[0;32m    318\u001b[0m                 raise Py4JJavaError(\n\u001b[0;32m    319\u001b[0m                     \u001b[1;34m\"An error occurred while calling {0}{1}{2}.\\n\"\u001b[0m\u001b[1;33m.\u001b[0m\u001b[1;33m\u001b[0m\u001b[0m\n\u001b[1;32m--> 320\u001b[1;33m                     format(target_id, \".\", name), value)\n\u001b[0m\u001b[0;32m    321\u001b[0m             \u001b[1;32melse\u001b[0m\u001b[1;33m:\u001b[0m\u001b[1;33m\u001b[0m\u001b[0m\n\u001b[0;32m    322\u001b[0m                 raise Py4JError(\n",
      "\u001b[1;31mPy4JJavaError\u001b[0m: An error occurred while calling o21.trainFPGrowthModel.\n: org.apache.spark.SparkException: Job aborted due to stage failure: Task 0 in stage 1.0 failed 1 times, most recent failure: Lost task 0.0 in stage 1.0 (TID 2, localhost, executor driver): org.apache.spark.SparkException: Items in a transaction must be unique but got WrappedArray(<meta, name=\"description\", content=\"GitHub, is, where, people, build, software., More, than, 28, million, people, use, GitHub, to, discover,, fork,, and, contribute, to, over, 80, million, projects.\">).\r\n\tat org.apache.spark.mllib.fpm.FPGrowth$$anonfun$5.apply(FPGrowth.scala:243)\r\n\tat org.apache.spark.mllib.fpm.FPGrowth$$anonfun$5.apply(FPGrowth.scala:240)\r\n\tat scala.collection.Iterator$$anon$12.nextCur(Iterator.scala:434)\r\n\tat scala.collection.Iterator$$anon$12.hasNext(Iterator.scala:440)\r\n\tat scala.collection.Iterator$$anon$11.hasNext(Iterator.scala:408)\r\n\tat org.apache.spark.util.collection.ExternalSorter.insertAll(ExternalSorter.scala:191)\r\n\tat org.apache.spark.shuffle.sort.SortShuffleWriter.write(SortShuffleWriter.scala:63)\r\n\tat org.apache.spark.scheduler.ShuffleMapTask.runTask(ShuffleMapTask.scala:96)\r\n\tat org.apache.spark.scheduler.ShuffleMapTask.runTask(ShuffleMapTask.scala:53)\r\n\tat org.apache.spark.scheduler.Task.run(Task.scala:109)\r\n\tat org.apache.spark.executor.Executor$TaskRunner.run(Executor.scala:345)\r\n\tat java.util.concurrent.ThreadPoolExecutor.runWorker(Unknown Source)\r\n\tat java.util.concurrent.ThreadPoolExecutor$Worker.run(Unknown Source)\r\n\tat java.lang.Thread.run(Unknown Source)\r\n\nDriver stacktrace:\r\n\tat org.apache.spark.scheduler.DAGScheduler.org$apache$spark$scheduler$DAGScheduler$$failJobAndIndependentStages(DAGScheduler.scala:1599)\r\n\tat org.apache.spark.scheduler.DAGScheduler$$anonfun$abortStage$1.apply(DAGScheduler.scala:1587)\r\n\tat org.apache.spark.scheduler.DAGScheduler$$anonfun$abortStage$1.apply(DAGScheduler.scala:1586)\r\n\tat scala.collection.mutable.ResizableArray$class.foreach(ResizableArray.scala:59)\r\n\tat scala.collection.mutable.ArrayBuffer.foreach(ArrayBuffer.scala:48)\r\n\tat org.apache.spark.scheduler.DAGScheduler.abortStage(DAGScheduler.scala:1586)\r\n\tat org.apache.spark.scheduler.DAGScheduler$$anonfun$handleTaskSetFailed$1.apply(DAGScheduler.scala:831)\r\n\tat org.apache.spark.scheduler.DAGScheduler$$anonfun$handleTaskSetFailed$1.apply(DAGScheduler.scala:831)\r\n\tat scala.Option.foreach(Option.scala:257)\r\n\tat org.apache.spark.scheduler.DAGScheduler.handleTaskSetFailed(DAGScheduler.scala:831)\r\n\tat org.apache.spark.scheduler.DAGSchedulerEventProcessLoop.doOnReceive(DAGScheduler.scala:1820)\r\n\tat org.apache.spark.scheduler.DAGSchedulerEventProcessLoop.onReceive(DAGScheduler.scala:1769)\r\n\tat org.apache.spark.scheduler.DAGSchedulerEventProcessLoop.onReceive(DAGScheduler.scala:1758)\r\n\tat org.apache.spark.util.EventLoop$$anon$1.run(EventLoop.scala:48)\r\n\tat org.apache.spark.scheduler.DAGScheduler.runJob(DAGScheduler.scala:642)\r\n\tat org.apache.spark.SparkContext.runJob(SparkContext.scala:2027)\r\n\tat org.apache.spark.SparkContext.runJob(SparkContext.scala:2048)\r\n\tat org.apache.spark.SparkContext.runJob(SparkContext.scala:2067)\r\n\tat org.apache.spark.SparkContext.runJob(SparkContext.scala:2092)\r\n\tat org.apache.spark.rdd.RDD$$anonfun$collect$1.apply(RDD.scala:939)\r\n\tat org.apache.spark.rdd.RDDOperationScope$.withScope(RDDOperationScope.scala:151)\r\n\tat org.apache.spark.rdd.RDDOperationScope$.withScope(RDDOperationScope.scala:112)\r\n\tat org.apache.spark.rdd.RDD.withScope(RDD.scala:363)\r\n\tat org.apache.spark.rdd.RDD.collect(RDD.scala:938)\r\n\tat org.apache.spark.mllib.fpm.FPGrowth.genFreqItems(FPGrowth.scala:249)\r\n\tat org.apache.spark.mllib.fpm.FPGrowth.run(FPGrowth.scala:216)\r\n\tat org.apache.spark.mllib.api.python.PythonMLLibAPI.trainFPGrowthModel(PythonMLLibAPI.scala:579)\r\n\tat sun.reflect.NativeMethodAccessorImpl.invoke0(Native Method)\r\n\tat sun.reflect.NativeMethodAccessorImpl.invoke(Unknown Source)\r\n\tat sun.reflect.DelegatingMethodAccessorImpl.invoke(Unknown Source)\r\n\tat java.lang.reflect.Method.invoke(Unknown Source)\r\n\tat py4j.reflection.MethodInvoker.invoke(MethodInvoker.java:244)\r\n\tat py4j.reflection.ReflectionEngine.invoke(ReflectionEngine.java:357)\r\n\tat py4j.Gateway.invoke(Gateway.java:282)\r\n\tat py4j.commands.AbstractCommand.invokeMethod(AbstractCommand.java:132)\r\n\tat py4j.commands.CallCommand.execute(CallCommand.java:79)\r\n\tat py4j.GatewayConnection.run(GatewayConnection.java:214)\r\n\tat java.lang.Thread.run(Unknown Source)\r\nCaused by: org.apache.spark.SparkException: Items in a transaction must be unique but got WrappedArray(<meta, name=\"description\", content=\"GitHub, is, where, people, build, software., More, than, 28, million, people, use, GitHub, to, discover,, fork,, and, contribute, to, over, 80, million, projects.\">).\r\n\tat org.apache.spark.mllib.fpm.FPGrowth$$anonfun$5.apply(FPGrowth.scala:243)\r\n\tat org.apache.spark.mllib.fpm.FPGrowth$$anonfun$5.apply(FPGrowth.scala:240)\r\n\tat scala.collection.Iterator$$anon$12.nextCur(Iterator.scala:434)\r\n\tat scala.collection.Iterator$$anon$12.hasNext(Iterator.scala:440)\r\n\tat scala.collection.Iterator$$anon$11.hasNext(Iterator.scala:408)\r\n\tat org.apache.spark.util.collection.ExternalSorter.insertAll(ExternalSorter.scala:191)\r\n\tat org.apache.spark.shuffle.sort.SortShuffleWriter.write(SortShuffleWriter.scala:63)\r\n\tat org.apache.spark.scheduler.ShuffleMapTask.runTask(ShuffleMapTask.scala:96)\r\n\tat org.apache.spark.scheduler.ShuffleMapTask.runTask(ShuffleMapTask.scala:53)\r\n\tat org.apache.spark.scheduler.Task.run(Task.scala:109)\r\n\tat org.apache.spark.executor.Executor$TaskRunner.run(Executor.scala:345)\r\n\tat java.util.concurrent.ThreadPoolExecutor.runWorker(Unknown Source)\r\n\tat java.util.concurrent.ThreadPoolExecutor$Worker.run(Unknown Source)\r\n\t... 1 more\r\n"
     ]
    }
   ],
   "source": [
    "from pyspark.mllib.fpm import FPGrowth\n",
    "# $example off$\n",
    "from pyspark import SparkContext\n",
    "\n",
    "if __name__ == \"__main__\":\n",
    "    sc = SparkContext(appName=\"FPGrowth\")\n",
    "\n",
    "    # $example on$\n",
    "    data = sc.textFile(\"src/data/sample_fpgrowth.txt\")\n",
    "    transactions = data.map(lambda line: line.strip().split(' '))\n",
    "    model = FPGrowth.train(transactions, minSupport=0.2, numPartitions=10)\n",
    "    result = model.freqItemsets().collect()\n",
    "    for fi in result:\n",
    "        print(fi)\n",
    "    # $example off$"
   ]
>>>>>>> 433ccb5d41fa0d0bb968b063f9801a85a16aa28b
  },
  {
   "cell_type": "markdown",
   "metadata": {},
   "source": [
    "#### Реализация в R"
   ]
  },
  {
   "cell_type": "code",
   "execution_count": null,
   "metadata": {
    "collapsed": true
   },
   "outputs": [],
   "source": []
  },
  {
   "cell_type": "code",
   "execution_count": null,
   "metadata": {
    "collapsed": true
   },
   "outputs": [],
   "source": []
  },
  {
   "cell_type": "markdown",
   "metadata": {},
   "source": [
    "## Заключение"
   ]
  },
  {
   "cell_type": "code",
   "execution_count": null,
   "metadata": {
    "collapsed": true
   },
   "outputs": [],
   "source": []
  },
  {
   "cell_type": "code",
   "execution_count": null,
   "metadata": {
    "collapsed": true
   },
   "outputs": [],
   "source": []
  }
 ],
 "metadata": {
  "kernelspec": {
   "display_name": "Python 3",
   "language": "python",
   "name": "python3"
  },
  "language_info": {
   "codemirror_mode": {
    "name": "ipython",
    "version": 3
   },
   "file_extension": ".py",
   "mimetype": "text/x-python",
   "name": "python",
   "nbconvert_exporter": "python",
   "pygments_lexer": "ipython3",
   "version": "3.6.3"
  }
 },
 "nbformat": 4,
 "nbformat_minor": 2
}
